{
  "cells": [
    {
      "cell_type": "markdown",
      "metadata": {},
      "source": [
        "# Space Missions Analysis"
      ]
    },
    {
      "cell_type": "markdown",
      "metadata": {
        "id": "ka_FkvXBiABo"
      },
      "source": [
        "## Introduction and Setup"
      ]
    },
    {
      "cell_type": "markdown",
      "metadata": {
        "id": "AWaMmfxXa-p0",
        "papermill": {
          "duration": 0.035434,
          "end_time": "2020-10-20T21:34:01.886225",
          "exception": false,
          "start_time": "2020-10-20T21:34:01.850791",
          "status": "completed"
        },
        "tags": []
      },
      "source": [
        "<center><img src=\"https://i.imgur.com/9hLRsjZ.jpg\" height=400></center>\n",
        "\n",
        "This dataset was scraped from [nextspaceflight.com](https://nextspaceflight.com/launches/past/?page=1) and includes all the space missions since the beginning of Space Race between the USA and the Soviet Union in 1957!"
      ]
    },
    {
      "cell_type": "markdown",
      "metadata": {
        "id": "ufzKRKS3bV0r"
      },
      "source": [
        "### Install Package with Country Codes"
      ]
    },
    {
      "cell_type": "code",
      "execution_count": 1,
      "metadata": {
        "colab": {
          "base_uri": "https://localhost:8080/"
        },
        "id": "0HxV9o6dbRUE",
        "outputId": "35464d43-d601-4b8f-81fd-6dbd400167f5"
      },
      "outputs": [
        {
          "name": "stdout",
          "output_type": "stream",
          "text": [
            "Requirement already satisfied: iso3166 in c:\\users\\user\\documents\\github\\100-days-of-python\\venv\\lib\\site-packages (2.1.1)\n",
            "Note: you may need to restart the kernel to use updated packages.\n"
          ]
        },
        {
          "name": "stderr",
          "output_type": "stream",
          "text": [
            "\n",
            "[notice] A new release of pip available: 22.3.1 -> 23.2.1\n",
            "[notice] To update, run: python.exe -m pip install --upgrade pip\n"
          ]
        }
      ],
      "source": [
        "%pip install iso3166"
      ]
    },
    {
      "cell_type": "markdown",
      "metadata": {
        "id": "sghkhFoLbof8"
      },
      "source": [
        "### Upgrade Plotly\n",
        "\n",
        "Run the cell below if you are working with Google Colab."
      ]
    },
    {
      "cell_type": "code",
      "execution_count": 2,
      "metadata": {
        "colab": {
          "base_uri": "https://localhost:8080/"
        },
        "id": "gQ61wy9gbmxd",
        "outputId": "99185d87-acb8-4237-c0f7-bfb18bfd4d39"
      },
      "outputs": [],
      "source": [
        "# %pip install --upgrade plotly"
      ]
    },
    {
      "cell_type": "markdown",
      "metadata": {
        "id": "ErFDBihUi1jN"
      },
      "source": [
        "### Import Statements"
      ]
    },
    {
      "cell_type": "code",
      "execution_count": 3,
      "metadata": {
        "_cell_guid": "b1076dfc-b9ad-4769-8c92-a6c4dae69d19",
        "_kg_hide-input": true,
        "_kg_hide-output": true,
        "_uuid": "8f2839f25d086af736a60e9eeb907d3b93b6e0e5",
        "colab": {
          "base_uri": "https://localhost:8080/"
        },
        "execution": {
          "iopub.execute_input": "2020-10-20T21:34:02.101551Z",
          "iopub.status.busy": "2020-10-20T21:34:02.101085Z",
          "iopub.status.idle": "2020-10-20T21:34:03.726868Z",
          "shell.execute_reply": "2020-10-20T21:34:03.725783Z"
        },
        "id": "xdolY0-Sa-p1",
        "outputId": "7142dedb-82e9-457d-db44-cea4e121bdfe",
        "papermill": {
          "duration": 1.665326,
          "end_time": "2020-10-20T21:34:03.726995",
          "exception": false,
          "start_time": "2020-10-20T21:34:02.061669",
          "status": "completed"
        },
        "tags": []
      },
      "outputs": [],
      "source": [
        "import numpy as np\n",
        "import pandas as pd\n",
        "import plotly.express as px\n",
        "import matplotlib.pyplot as plt\n",
        "import seaborn as sns\n",
        "\n",
        "# These might be helpful:\n",
        "from iso3166 import countries\n",
        "from datetime import datetime, timedelta"
      ]
    },
    {
      "cell_type": "markdown",
      "metadata": {
        "id": "lovGPRgKxIgo"
      },
      "source": [
        "### Notebook Presentation"
      ]
    },
    {
      "cell_type": "code",
      "execution_count": 4,
      "metadata": {
        "id": "DHEULCOjxIIm"
      },
      "outputs": [],
      "source": [
        "pd.options.display.float_format = '{:,.2f}'.format"
      ]
    },
    {
      "cell_type": "markdown",
      "metadata": {
        "id": "yaT3QbjEa-p4",
        "papermill": {
          "duration": 0.034606,
          "end_time": "2020-10-20T21:34:03.798396",
          "exception": false,
          "start_time": "2020-10-20T21:34:03.763790",
          "status": "completed"
        },
        "tags": []
      },
      "source": [
        "### Load the Data"
      ]
    },
    {
      "cell_type": "code",
      "execution_count": 5,
      "metadata": {
        "_cell_guid": "79c7e3d0-c299-4dcb-8224-4455121ee9b0",
        "_kg_hide-input": true,
        "_uuid": "d629ff2d2480ee46fbb7e2d37f6b5fab8052498a",
        "execution": {
          "iopub.execute_input": "2020-10-20T21:34:03.874195Z",
          "iopub.status.busy": "2020-10-20T21:34:03.873775Z",
          "iopub.status.idle": "2020-10-20T21:34:03.921919Z",
          "shell.execute_reply": "2020-10-20T21:34:03.921418Z"
        },
        "id": "0lDOu8aka-p4",
        "papermill": {
          "duration": 0.08876,
          "end_time": "2020-10-20T21:34:03.922028",
          "exception": false,
          "start_time": "2020-10-20T21:34:03.833268",
          "status": "completed"
        },
        "tags": []
      },
      "outputs": [],
      "source": [
        "df_data = pd.read_csv('mission_launches.csv')"
      ]
    },
    {
      "cell_type": "markdown",
      "metadata": {
        "id": "jAnMiVcVjuKB"
      },
      "source": [
        "## Preliminary Data Exploration"
      ]
    },
    {
      "cell_type": "markdown",
      "metadata": {},
      "source": [
        "* What is the shape of `df_data`? \n",
        "* How many rows and columns does it have?\n",
        "* What are the column names?\n",
        "* Are there any NaN values or duplicates?"
      ]
    },
    {
      "cell_type": "code",
      "execution_count": 6,
      "metadata": {
        "id": "0tIuYcYNlPFQ"
      },
      "outputs": [
        {
          "data": {
            "text/plain": [
              "(4324, 9)"
            ]
          },
          "execution_count": 6,
          "metadata": {},
          "output_type": "execute_result"
        }
      ],
      "source": [
        "df_data.shape"
      ]
    },
    {
      "cell_type": "code",
      "execution_count": 7,
      "metadata": {
        "id": "0dw2hd9UlPmP"
      },
      "outputs": [
        {
          "data": {
            "text/plain": [
              "Index(['Unnamed: 0.1', 'Unnamed: 0', 'Organisation', 'Location', 'Date',\n",
              "       'Detail', 'Rocket_Status', 'Price', 'Mission_Status'],\n",
              "      dtype='object')"
            ]
          },
          "execution_count": 7,
          "metadata": {},
          "output_type": "execute_result"
        }
      ],
      "source": [
        "df_data.columns"
      ]
    },
    {
      "cell_type": "code",
      "execution_count": 8,
      "metadata": {},
      "outputs": [
        {
          "data": {
            "text/html": [
              "<div>\n",
              "<style scoped>\n",
              "    .dataframe tbody tr th:only-of-type {\n",
              "        vertical-align: middle;\n",
              "    }\n",
              "\n",
              "    .dataframe tbody tr th {\n",
              "        vertical-align: top;\n",
              "    }\n",
              "\n",
              "    .dataframe thead th {\n",
              "        text-align: right;\n",
              "    }\n",
              "</style>\n",
              "<table border=\"1\" class=\"dataframe\">\n",
              "  <thead>\n",
              "    <tr style=\"text-align: right;\">\n",
              "      <th></th>\n",
              "      <th>Unnamed: 0.1</th>\n",
              "      <th>Unnamed: 0</th>\n",
              "      <th>Organisation</th>\n",
              "      <th>Location</th>\n",
              "      <th>Date</th>\n",
              "      <th>Detail</th>\n",
              "      <th>Rocket_Status</th>\n",
              "      <th>Price</th>\n",
              "      <th>Mission_Status</th>\n",
              "    </tr>\n",
              "  </thead>\n",
              "  <tbody>\n",
              "    <tr>\n",
              "      <th>2756</th>\n",
              "      <td>2756</td>\n",
              "      <td>2756</td>\n",
              "      <td>RVSN USSR</td>\n",
              "      <td>Site 43/4, Plesetsk Cosmodrome, Russia</td>\n",
              "      <td>Thu Dec 09, 1976 10:00 UTC</td>\n",
              "      <td>Soyuz U | Cosmos 879</td>\n",
              "      <td>StatusRetired</td>\n",
              "      <td>NaN</td>\n",
              "      <td>Success</td>\n",
              "    </tr>\n",
              "    <tr>\n",
              "      <th>3922</th>\n",
              "      <td>3922</td>\n",
              "      <td>3922</td>\n",
              "      <td>RVSN USSR</td>\n",
              "      <td>Site 31/6, Baikonur Cosmodrome, Kazakhstan</td>\n",
              "      <td>Sat Nov 27, 1965 08:20 UTC</td>\n",
              "      <td>Vostok-2 | Cosmos 98</td>\n",
              "      <td>StatusRetired</td>\n",
              "      <td>NaN</td>\n",
              "      <td>Success</td>\n",
              "    </tr>\n",
              "    <tr>\n",
              "      <th>885</th>\n",
              "      <td>885</td>\n",
              "      <td>885</td>\n",
              "      <td>Sea Launch</td>\n",
              "      <td>LP Odyssey, Kiritimati Launch Area, Pacific Ocean</td>\n",
              "      <td>Tue Jan 30, 2007 23:21 UTC</td>\n",
              "      <td>Zenit-3 SL | NSS-8</td>\n",
              "      <td>StatusActive</td>\n",
              "      <td>NaN</td>\n",
              "      <td>Failure</td>\n",
              "    </tr>\n",
              "    <tr>\n",
              "      <th>3556</th>\n",
              "      <td>3556</td>\n",
              "      <td>3556</td>\n",
              "      <td>RVSN USSR</td>\n",
              "      <td>Site 31/6, Baikonur Cosmodrome, Kazakhstan</td>\n",
              "      <td>Thu May 29, 1969 06:59 UTC</td>\n",
              "      <td>Voskhod | Cosmos 284</td>\n",
              "      <td>StatusRetired</td>\n",
              "      <td>NaN</td>\n",
              "      <td>Success</td>\n",
              "    </tr>\n",
              "    <tr>\n",
              "      <th>3505</th>\n",
              "      <td>3505</td>\n",
              "      <td>3505</td>\n",
              "      <td>RVSN USSR</td>\n",
              "      <td>Site 43/4, Plesetsk Cosmodrome, Russia</td>\n",
              "      <td>Wed Dec 03, 1969 13:20 UTC</td>\n",
              "      <td>Voskhod | Cosmos 313</td>\n",
              "      <td>StatusRetired</td>\n",
              "      <td>NaN</td>\n",
              "      <td>Success</td>\n",
              "    </tr>\n",
              "  </tbody>\n",
              "</table>\n",
              "</div>"
            ],
            "text/plain": [
              "      Unnamed: 0.1  Unnamed: 0 Organisation  \\\n",
              "2756          2756        2756    RVSN USSR   \n",
              "3922          3922        3922    RVSN USSR   \n",
              "885            885         885   Sea Launch   \n",
              "3556          3556        3556    RVSN USSR   \n",
              "3505          3505        3505    RVSN USSR   \n",
              "\n",
              "                                               Location  \\\n",
              "2756             Site 43/4, Plesetsk Cosmodrome, Russia   \n",
              "3922         Site 31/6, Baikonur Cosmodrome, Kazakhstan   \n",
              "885   LP Odyssey, Kiritimati Launch Area, Pacific Ocean   \n",
              "3556         Site 31/6, Baikonur Cosmodrome, Kazakhstan   \n",
              "3505             Site 43/4, Plesetsk Cosmodrome, Russia   \n",
              "\n",
              "                            Date                Detail  Rocket_Status Price  \\\n",
              "2756  Thu Dec 09, 1976 10:00 UTC  Soyuz U | Cosmos 879  StatusRetired   NaN   \n",
              "3922  Sat Nov 27, 1965 08:20 UTC  Vostok-2 | Cosmos 98  StatusRetired   NaN   \n",
              "885   Tue Jan 30, 2007 23:21 UTC    Zenit-3 SL | NSS-8   StatusActive   NaN   \n",
              "3556  Thu May 29, 1969 06:59 UTC  Voskhod | Cosmos 284  StatusRetired   NaN   \n",
              "3505  Wed Dec 03, 1969 13:20 UTC  Voskhod | Cosmos 313  StatusRetired   NaN   \n",
              "\n",
              "     Mission_Status  \n",
              "2756        Success  \n",
              "3922        Success  \n",
              "885         Failure  \n",
              "3556        Success  \n",
              "3505        Success  "
            ]
          },
          "execution_count": 8,
          "metadata": {},
          "output_type": "execute_result"
        }
      ],
      "source": [
        "df_data.sample(5)"
      ]
    },
    {
      "cell_type": "markdown",
      "metadata": {},
      "source": [
        "## Data Cleaning - Check for Missing Values and Duplicates"
      ]
    },
    {
      "cell_type": "code",
      "execution_count": 9,
      "metadata": {},
      "outputs": [
        {
          "data": {
            "text/plain": [
              "Unnamed: 0.1         0\n",
              "Unnamed: 0           0\n",
              "Organisation         0\n",
              "Location             0\n",
              "Date                 0\n",
              "Detail               0\n",
              "Rocket_Status        0\n",
              "Price             3360\n",
              "Mission_Status       0\n",
              "dtype: int64"
            ]
          },
          "execution_count": 9,
          "metadata": {},
          "output_type": "execute_result"
        }
      ],
      "source": [
        "df_data.isna().sum()"
      ]
    },
    {
      "cell_type": "code",
      "execution_count": 10,
      "metadata": {},
      "outputs": [
        {
          "data": {
            "text/plain": [
              "1"
            ]
          },
          "execution_count": 10,
          "metadata": {},
          "output_type": "execute_result"
        }
      ],
      "source": [
        "df_data.duplicated([\"Organisation\", \"Location\", \"Date\", \"Detail\"]).sum()"
      ]
    },
    {
      "cell_type": "code",
      "execution_count": 11,
      "metadata": {},
      "outputs": [],
      "source": [
        "df_data.drop_duplicates(subset=[\"Organisation\", \"Location\", \"Date\", \"Detail\"], inplace=True)"
      ]
    },
    {
      "cell_type": "markdown",
      "metadata": {},
      "source": [
        "Consider removing columns containing junk data. "
      ]
    },
    {
      "cell_type": "code",
      "execution_count": 12,
      "metadata": {},
      "outputs": [],
      "source": [
        "df_data.drop(columns=[\"Unnamed: 0.1\", \"Unnamed: 0\"], inplace=True)"
      ]
    },
    {
      "cell_type": "code",
      "execution_count": 13,
      "metadata": {},
      "outputs": [
        {
          "data": {
            "text/html": [
              "<div>\n",
              "<style scoped>\n",
              "    .dataframe tbody tr th:only-of-type {\n",
              "        vertical-align: middle;\n",
              "    }\n",
              "\n",
              "    .dataframe tbody tr th {\n",
              "        vertical-align: top;\n",
              "    }\n",
              "\n",
              "    .dataframe thead th {\n",
              "        text-align: right;\n",
              "    }\n",
              "</style>\n",
              "<table border=\"1\" class=\"dataframe\">\n",
              "  <thead>\n",
              "    <tr style=\"text-align: right;\">\n",
              "      <th></th>\n",
              "      <th>Organisation</th>\n",
              "      <th>Location</th>\n",
              "      <th>Date</th>\n",
              "      <th>Detail</th>\n",
              "      <th>Rocket_Status</th>\n",
              "      <th>Price</th>\n",
              "      <th>Mission_Status</th>\n",
              "    </tr>\n",
              "  </thead>\n",
              "  <tbody>\n",
              "    <tr>\n",
              "      <th>0</th>\n",
              "      <td>SpaceX</td>\n",
              "      <td>LC-39A, Kennedy Space Center, Florida, USA</td>\n",
              "      <td>Fri Aug 07, 2020 05:12 UTC</td>\n",
              "      <td>Falcon 9 Block 5 | Starlink V1 L9 &amp; BlackSky</td>\n",
              "      <td>StatusActive</td>\n",
              "      <td>50.0</td>\n",
              "      <td>Success</td>\n",
              "    </tr>\n",
              "    <tr>\n",
              "      <th>1</th>\n",
              "      <td>CASC</td>\n",
              "      <td>Site 9401 (SLS-2), Jiuquan Satellite Launch Ce...</td>\n",
              "      <td>Thu Aug 06, 2020 04:01 UTC</td>\n",
              "      <td>Long March 2D | Gaofen-9 04 &amp; Q-SAT</td>\n",
              "      <td>StatusActive</td>\n",
              "      <td>29.75</td>\n",
              "      <td>Success</td>\n",
              "    </tr>\n",
              "    <tr>\n",
              "      <th>2</th>\n",
              "      <td>SpaceX</td>\n",
              "      <td>Pad A, Boca Chica, Texas, USA</td>\n",
              "      <td>Tue Aug 04, 2020 23:57 UTC</td>\n",
              "      <td>Starship Prototype | 150 Meter Hop</td>\n",
              "      <td>StatusActive</td>\n",
              "      <td>NaN</td>\n",
              "      <td>Success</td>\n",
              "    </tr>\n",
              "    <tr>\n",
              "      <th>3</th>\n",
              "      <td>Roscosmos</td>\n",
              "      <td>Site 200/39, Baikonur Cosmodrome, Kazakhstan</td>\n",
              "      <td>Thu Jul 30, 2020 21:25 UTC</td>\n",
              "      <td>Proton-M/Briz-M | Ekspress-80 &amp; Ekspress-103</td>\n",
              "      <td>StatusActive</td>\n",
              "      <td>65.0</td>\n",
              "      <td>Success</td>\n",
              "    </tr>\n",
              "    <tr>\n",
              "      <th>4</th>\n",
              "      <td>ULA</td>\n",
              "      <td>SLC-41, Cape Canaveral AFS, Florida, USA</td>\n",
              "      <td>Thu Jul 30, 2020 11:50 UTC</td>\n",
              "      <td>Atlas V 541 | Perseverance</td>\n",
              "      <td>StatusActive</td>\n",
              "      <td>145.0</td>\n",
              "      <td>Success</td>\n",
              "    </tr>\n",
              "  </tbody>\n",
              "</table>\n",
              "</div>"
            ],
            "text/plain": [
              "  Organisation                                           Location  \\\n",
              "0       SpaceX         LC-39A, Kennedy Space Center, Florida, USA   \n",
              "1         CASC  Site 9401 (SLS-2), Jiuquan Satellite Launch Ce...   \n",
              "2       SpaceX                      Pad A, Boca Chica, Texas, USA   \n",
              "3    Roscosmos       Site 200/39, Baikonur Cosmodrome, Kazakhstan   \n",
              "4          ULA           SLC-41, Cape Canaveral AFS, Florida, USA   \n",
              "\n",
              "                         Date                                        Detail  \\\n",
              "0  Fri Aug 07, 2020 05:12 UTC  Falcon 9 Block 5 | Starlink V1 L9 & BlackSky   \n",
              "1  Thu Aug 06, 2020 04:01 UTC           Long March 2D | Gaofen-9 04 & Q-SAT   \n",
              "2  Tue Aug 04, 2020 23:57 UTC            Starship Prototype | 150 Meter Hop   \n",
              "3  Thu Jul 30, 2020 21:25 UTC  Proton-M/Briz-M | Ekspress-80 & Ekspress-103   \n",
              "4  Thu Jul 30, 2020 11:50 UTC                    Atlas V 541 | Perseverance   \n",
              "\n",
              "  Rocket_Status  Price Mission_Status  \n",
              "0  StatusActive   50.0        Success  \n",
              "1  StatusActive  29.75        Success  \n",
              "2  StatusActive    NaN        Success  \n",
              "3  StatusActive   65.0        Success  \n",
              "4  StatusActive  145.0        Success  "
            ]
          },
          "execution_count": 13,
          "metadata": {},
          "output_type": "execute_result"
        }
      ],
      "source": [
        "df_data.head()"
      ]
    },
    {
      "cell_type": "markdown",
      "metadata": {
        "id": "QHon_T5sa-p_",
        "papermill": {
          "duration": 0.036712,
          "end_time": "2020-10-20T21:34:05.227032",
          "exception": false,
          "start_time": "2020-10-20T21:34:05.190320",
          "status": "completed"
        },
        "tags": []
      },
      "source": [
        "## Descriptive Statistics"
      ]
    },
    {
      "cell_type": "code",
      "execution_count": 14,
      "metadata": {
        "id": "Fh1-libjkJIK"
      },
      "outputs": [
        {
          "data": {
            "text/html": [
              "<div>\n",
              "<style scoped>\n",
              "    .dataframe tbody tr th:only-of-type {\n",
              "        vertical-align: middle;\n",
              "    }\n",
              "\n",
              "    .dataframe tbody tr th {\n",
              "        vertical-align: top;\n",
              "    }\n",
              "\n",
              "    .dataframe thead th {\n",
              "        text-align: right;\n",
              "    }\n",
              "</style>\n",
              "<table border=\"1\" class=\"dataframe\">\n",
              "  <thead>\n",
              "    <tr style=\"text-align: right;\">\n",
              "      <th></th>\n",
              "      <th>Organisation</th>\n",
              "      <th>Location</th>\n",
              "      <th>Date</th>\n",
              "      <th>Detail</th>\n",
              "      <th>Rocket_Status</th>\n",
              "      <th>Price</th>\n",
              "      <th>Mission_Status</th>\n",
              "    </tr>\n",
              "  </thead>\n",
              "  <tbody>\n",
              "    <tr>\n",
              "      <th>count</th>\n",
              "      <td>4323</td>\n",
              "      <td>4323</td>\n",
              "      <td>4323</td>\n",
              "      <td>4323</td>\n",
              "      <td>4323</td>\n",
              "      <td>963</td>\n",
              "      <td>4323</td>\n",
              "    </tr>\n",
              "    <tr>\n",
              "      <th>unique</th>\n",
              "      <td>56</td>\n",
              "      <td>137</td>\n",
              "      <td>4319</td>\n",
              "      <td>4278</td>\n",
              "      <td>2</td>\n",
              "      <td>56</td>\n",
              "      <td>4</td>\n",
              "    </tr>\n",
              "    <tr>\n",
              "      <th>top</th>\n",
              "      <td>RVSN USSR</td>\n",
              "      <td>Site 31/6, Baikonur Cosmodrome, Kazakhstan</td>\n",
              "      <td>Sun Aug 25, 1991 08:40 UTC</td>\n",
              "      <td>Cosmos-3MRB (65MRB) | BOR-5 Shuttle</td>\n",
              "      <td>StatusRetired</td>\n",
              "      <td>450.0</td>\n",
              "      <td>Success</td>\n",
              "    </tr>\n",
              "    <tr>\n",
              "      <th>freq</th>\n",
              "      <td>1777</td>\n",
              "      <td>235</td>\n",
              "      <td>2</td>\n",
              "      <td>6</td>\n",
              "      <td>3534</td>\n",
              "      <td>136</td>\n",
              "      <td>3878</td>\n",
              "    </tr>\n",
              "  </tbody>\n",
              "</table>\n",
              "</div>"
            ],
            "text/plain": [
              "       Organisation                                    Location  \\\n",
              "count          4323                                        4323   \n",
              "unique           56                                         137   \n",
              "top       RVSN USSR  Site 31/6, Baikonur Cosmodrome, Kazakhstan   \n",
              "freq           1777                                         235   \n",
              "\n",
              "                              Date                               Detail  \\\n",
              "count                         4323                                 4323   \n",
              "unique                        4319                                 4278   \n",
              "top     Sun Aug 25, 1991 08:40 UTC  Cosmos-3MRB (65MRB) | BOR-5 Shuttle   \n",
              "freq                             2                                    6   \n",
              "\n",
              "        Rocket_Status  Price Mission_Status  \n",
              "count            4323    963           4323  \n",
              "unique              2     56              4  \n",
              "top     StatusRetired  450.0        Success  \n",
              "freq             3534    136           3878  "
            ]
          },
          "execution_count": 14,
          "metadata": {},
          "output_type": "execute_result"
        }
      ],
      "source": [
        "df_data.describe()"
      ]
    },
    {
      "cell_type": "code",
      "execution_count": 15,
      "metadata": {
        "id": "dGZa5HdbkJBT"
      },
      "outputs": [
        {
          "name": "stdout",
          "output_type": "stream",
          "text": [
            "<class 'pandas.core.frame.DataFrame'>\n",
            "Int64Index: 4323 entries, 0 to 4323\n",
            "Data columns (total 7 columns):\n",
            " #   Column          Non-Null Count  Dtype \n",
            "---  ------          --------------  ----- \n",
            " 0   Organisation    4323 non-null   object\n",
            " 1   Location        4323 non-null   object\n",
            " 2   Date            4323 non-null   object\n",
            " 3   Detail          4323 non-null   object\n",
            " 4   Rocket_Status   4323 non-null   object\n",
            " 5   Price           963 non-null    object\n",
            " 6   Mission_Status  4323 non-null   object\n",
            "dtypes: object(7)\n",
            "memory usage: 270.2+ KB\n"
          ]
        }
      ],
      "source": [
        "df_data.info()"
      ]
    },
    {
      "cell_type": "markdown",
      "metadata": {
        "id": "cgCjcpeUkKPW"
      },
      "source": [
        "## Number of Launches per Company"
      ]
    },
    {
      "cell_type": "markdown",
      "metadata": {},
      "source": [
        "Create a chart that shows the number of space mission launches by organisation."
      ]
    },
    {
      "cell_type": "code",
      "execution_count": 16,
      "metadata": {
        "id": "qgneHUbWkw5v"
      },
      "outputs": [
        {
          "data": {
            "text/plain": [
              "RVSN USSR           1777\n",
              "Arianespace          279\n",
              "General Dynamics     251\n",
              "CASC                 250\n",
              "NASA                 203\n",
              "VKS RF               201\n",
              "US Air Force         161\n",
              "ULA                  140\n",
              "Boeing               136\n",
              "Martin Marietta      114\n",
              "SpaceX               100\n",
              "MHI                   84\n",
              "Northrop              83\n",
              "Lockheed              79\n",
              "ISRO                  76\n",
              "Roscosmos             55\n",
              "ILS                   46\n",
              "Sea Launch            36\n",
              "ISAS                  30\n",
              "Kosmotras             22\n",
              "US Navy               17\n",
              "ISA                   13\n",
              "Rocket Lab            13\n",
              "Eurockot              13\n",
              "ESA                   13\n",
              "Blue Origin           12\n",
              "IAI                   11\n",
              "ExPace                10\n",
              "ASI                    9\n",
              "CNES                   8\n",
              "AMBA                   8\n",
              "MITT                   7\n",
              "JAXA                   7\n",
              "Land Launch            7\n",
              "UT                     5\n",
              "KCST                   5\n",
              "CASIC                  5\n",
              "Exos                   4\n",
              "CECLES                 4\n",
              "Arm??e de l'Air        4\n",
              "KARI                   3\n",
              "SRC                    3\n",
              "AEB                    3\n",
              "RAE                    2\n",
              "OKB-586                2\n",
              "Yuzhmash               2\n",
              "Landspace              1\n",
              "Douglas                1\n",
              "EER                    1\n",
              "Starsem                1\n",
              "Virgin Orbit           1\n",
              "IRGC                   1\n",
              "i-Space                1\n",
              "OneSpace               1\n",
              "Sandia                 1\n",
              "Khrunichev             1\n",
              "Name: Organisation, dtype: int64"
            ]
          },
          "execution_count": 16,
          "metadata": {},
          "output_type": "execute_result"
        }
      ],
      "source": [
        "no_of_launches_per_company = df_data[\"Organisation\"].value_counts()\n",
        "no_of_launches_per_company"
      ]
    },
    {
      "cell_type": "code",
      "execution_count": 17,
      "metadata": {},
      "outputs": [
        {
          "data": {
            "image/png": "[encoded data removed]",
            "text/plain": [
              "<Figure size 1600x1600 with 1 Axes>"
            ]
          },
          "metadata": {},
          "output_type": "display_data"
        }
      ],
      "source": [
        "plt.figure(figsize=(16, 16))\n",
        "\n",
        "plt.xlabel(\"No of launches\", fontsize=20)\n",
        "plt.ylabel(\"Organisation\", fontsize=20)\n",
        "\n",
        "plt.title(\"Number of Launches per Company\", fontsize=24)\n",
        "\n",
        "# Add values inside the bars\n",
        "for index, value in enumerate(no_of_launches_per_company):\n",
        "    plt.text(x=value, y=index, s=value, ha='left', va='center')\n",
        "\n",
        "plt.barh(no_of_launches_per_company.index.values, no_of_launches_per_company.values)\n",
        "\n",
        "plt.show()"
      ]
    },
    {
      "cell_type": "markdown",
      "metadata": {
        "id": "7Gwteht2kR_h"
      },
      "source": [
        "## Number of Active versus Retired Rockets"
      ]
    },
    {
      "cell_type": "markdown",
      "metadata": {},
      "source": [
        "How many rockets are active compared to those that are decomissioned? "
      ]
    },
    {
      "cell_type": "code",
      "execution_count": 18,
      "metadata": {
        "id": "SxmOWS9cmTq6"
      },
      "outputs": [
        {
          "data": {
            "text/plain": [
              "StatusRetired    3534\n",
              "StatusActive      789\n",
              "Name: Rocket_Status, dtype: int64"
            ]
          },
          "execution_count": 18,
          "metadata": {},
          "output_type": "execute_result"
        }
      ],
      "source": [
        "no_of_active_vs_retired_rockets = df_data[\"Rocket_Status\"].value_counts()\n",
        "no_of_active_vs_retired_rockets"
      ]
    },
    {
      "cell_type": "code",
      "execution_count": 19,
      "metadata": {
        "id": "ydj0-OZ6mToH"
      },
      "outputs": [
        {
          "data": {
            "image/png": "[encoded data removed]",
            "text/plain": [
              "<Figure size 1600x900 with 1 Axes>"
            ]
          },
          "metadata": {},
          "output_type": "display_data"
        }
      ],
      "source": [
        "plt.figure(figsize=(16, 9))\n",
        "\n",
        "plt.xlabel(\"No of launches\", fontsize=20)\n",
        "plt.ylabel(\"Rocket Status\", fontsize=20)\n",
        "\n",
        "plt.title(\"Number of Active vs. Retired Rockets\", fontsize=24)\n",
        "\n",
        "plt.bar(no_of_active_vs_retired_rockets.index.values, no_of_active_vs_retired_rockets.values)\n",
        "\n",
        "plt.show()"
      ]
    },
    {
      "cell_type": "code",
      "execution_count": 20,
      "metadata": {},
      "outputs": [
        {
          "data": {
            "application/vnd.plotly.v1+json": {
              "config": {
                "plotlyServerURL": "https://plot.ly"
              },
              "data": [
                {
                  "domain": {
                    "x": [
                      0,
                      1
                    ],
                    "y": [
                      0,
                      1
                    ]
                  },
                  "hovertemplate": "Rocket_Status=%{label}<extra></extra>",
                  "labels": [
                    "StatusActive",
                    "StatusActive",
                    "StatusActive",
                    "StatusActive",
                    "StatusActive",
                    "StatusActive",
                    "StatusActive",
                    "StatusActive",
                    "StatusActive",
                    "StatusActive",
                    "StatusActive",
                    "StatusActive",
                    "StatusActive",
                    "StatusActive",
                    "StatusActive",
                    "StatusActive",
                    "StatusActive",
                    "StatusActive",
                    "StatusActive",
                    "StatusActive",
                    "StatusActive",
                    "StatusActive",
                    "StatusActive",
                    "StatusActive",
                    "StatusActive",
                    "StatusActive",
                    "StatusActive",
                    "StatusActive",
                    "StatusActive",
                    "StatusRetired",
                    "StatusActive",
                    "StatusActive",
                    "StatusActive",
                    "StatusActive",
                    "StatusActive",
                    "StatusActive",
                    "StatusActive",
                    "StatusActive",
                    "StatusActive",
                    "StatusActive",
                    "StatusActive",
                    "StatusActive",
                    "StatusActive",
                    "StatusActive",
                    "StatusActive",
                    "StatusActive",
                    "StatusActive",
                    "StatusActive",
                    "StatusActive",
                    "StatusActive",
                    "StatusActive",
                    "StatusActive",
                    "StatusActive",
                    "StatusActive",
                    "StatusActive",
                    "StatusActive",
                    "StatusActive",
                    "StatusActive",
                    "StatusActive",
                    "StatusActive",
                    "StatusActive",
                    "StatusActive",
                    "StatusActive",
                    "StatusActive",
                    "StatusRetired",
                    "StatusActive",
                    "StatusActive",
                    "StatusActive",
                    "StatusActive",
                    "StatusActive",
                    "StatusActive",
                    "StatusActive",
                    "StatusActive",
                    "StatusActive",
                    "StatusActive",
                    "StatusActive",
                    "StatusActive",
                    "StatusActive",
                    "StatusActive",
                    "StatusActive",
                    "StatusActive",
                    "StatusActive",
                    "StatusActive",
                    "StatusActive",
                    "StatusActive",
                    "StatusActive",
                    "StatusActive",
                    "StatusActive",
                    "StatusActive",
                    "StatusActive",
                    "StatusActive",
                    "StatusActive",
                    "StatusActive",
                    "StatusActive",
                    "StatusActive",
                    "StatusActive",
                    "StatusActive",
                    "StatusActive",
                    "StatusRetired",
                    "StatusActive",
                    "StatusRetired",
                    "StatusActive",
                    "StatusActive",
                    "StatusActive",
                    "StatusActive",
                    "StatusRetired",
                    "StatusActive",
                    "StatusRetired",
                    "StatusActive",
                    "StatusActive",
                    "StatusActive",
                    "StatusActive",
                    "StatusActive",
                    "StatusActive",
                    "StatusActive",
                    "StatusActive",
                    "StatusActive",
                    "StatusActive",
                    "StatusActive",
                    "StatusActive",
                    "StatusActive",
                    "StatusActive",
                    "StatusRetired",
                    "StatusActive",
                    "StatusActive",
                    "StatusActive",
                    "StatusActive",
                    "StatusActive",
                    "StatusActive",
                    "StatusActive",
                    "StatusActive",
                    "StatusActive",
                    "StatusActive",
                    "StatusActive",
                    "StatusActive",
                    "StatusActive",
                    "StatusActive",
                    "StatusActive",
                    "StatusActive",
                    "StatusActive",
                    "StatusActive",
                    "StatusActive",
                    "StatusActive",
                    "StatusActive",
                    "StatusActive",
                    "StatusRetired",
                    "StatusActive",
                    "StatusActive",
                    "StatusActive",
                    "StatusActive",
                    "StatusActive",
                    "StatusActive",
                    "StatusActive",
                    "StatusActive",
                    "StatusRetired",
                    "StatusRetired",
                    "StatusActive",
                    "StatusActive",
                    "StatusActive",
                    "StatusActive",
                    "StatusActive",
                    "StatusActive",
                    "StatusActive",
                    "StatusActive",
                    "StatusActive",
                    "StatusActive",
                    "StatusActive",
                    "StatusActive",
                    "StatusActive",
                    "StatusActive",
                    "StatusActive",
                    "StatusActive",
                    "StatusActive",
                    "StatusActive",
                    "StatusActive",
                    "StatusActive",
                    "StatusActive",
                    "StatusActive",
                    "StatusActive",
                    "StatusActive",
                    "StatusActive",
                    "StatusActive",
                    "StatusActive",
                    "StatusActive",
                    "StatusActive",
                    "StatusActive",
                    "StatusRetired",
                    "StatusRetired",
                    "StatusActive",
                    "StatusActive",
                    "StatusActive",
                    "StatusActive",
                    "StatusRetired",
                    "StatusRetired",
                    "StatusActive",
                    "StatusActive",
                    "StatusActive",
                    "StatusActive",
                    "StatusActive",
                    "StatusActive",
                    "StatusActive",
                    "StatusActive",
                    "StatusRetired",
                    "StatusActive",
                    "StatusActive",
                    "StatusActive",
                    "StatusActive",
                    "StatusActive",
                    "StatusRetired",
                    "StatusActive",
                    "StatusActive",
                    "StatusActive",
                    "StatusActive",
                    "StatusRetired",
                    "StatusActive",
                    "StatusActive",
                    "StatusRetired",
                    "StatusActive",
                    "StatusActive",
                    "StatusActive",
                    "StatusActive",
                    "StatusActive",
                    "StatusActive",
                    "StatusActive",
                    "StatusActive",
                    "StatusActive",
                    "StatusActive",
                    "StatusRetired",
                    "StatusActive",
                    "StatusActive",
                    "StatusActive",
                    "StatusActive",
                    "StatusActive",
                    "StatusRetired",
                    "StatusActive",
                    "StatusActive",
                    "StatusActive",
                    "StatusRetired",
                    "StatusActive",
                    "StatusRetired",
                    "StatusActive",
                    "StatusRetired",
                    "StatusRetired",
                    "StatusActive",
                    "StatusActive",
                    "StatusActive",
                    "StatusActive",
                    "StatusActive",
                    "StatusActive",
                    "StatusActive",
                    "StatusRetired",
                    "StatusRetired",
                    "StatusActive",
                    "StatusActive",
                    "StatusActive",
                    "StatusActive",
                    "StatusActive",
                    "StatusRetired",
                    "StatusActive",
                    "StatusRetired",
                    "StatusActive",
                    "StatusActive",
                    "StatusActive",
                    "StatusRetired",
                    "StatusActive",
                    "StatusActive",
                    "StatusRetired",
                    "StatusActive",
                    "StatusActive",
                    "StatusRetired",
                    "StatusActive",
                    "StatusActive",
                    "StatusActive",
                    "StatusActive",
                    "StatusActive",
                    "StatusActive",
                    "StatusRetired",
                    "StatusActive",
                    "StatusActive",
                    "StatusActive",
                    "StatusActive",
                    "StatusActive",
                    "StatusActive",
                    "StatusActive",
                    "StatusRetired",
                    "StatusActive",
                    "StatusActive",
                    "StatusActive",
                    "StatusRetired",
                    "StatusActive",
                    "StatusActive",
                    "StatusActive",
                    "StatusRetired",
                    "StatusActive",
                    "StatusRetired",
                    "StatusActive",
                    "StatusRetired",
                    "StatusRetired",
                    "StatusActive",
                    "StatusActive",
                    "StatusActive",
                    "StatusActive",
                    "StatusActive",
                    "StatusActive",
                    "StatusRetired",
                    "StatusActive",
                    "StatusRetired",
                    "StatusActive",
                    "StatusActive",
                    "StatusActive",
                    "StatusRetired",
                    "StatusActive",
                    "StatusActive",
                    "StatusRetired",
                    "StatusRetired",
                    "StatusActive",
                    "StatusRetired",
                    "StatusActive",
                    "StatusActive",
                    "StatusActive",
                    "StatusActive",
                    "StatusActive",
                    "StatusActive",
                    "StatusRetired",
                    "StatusActive",
                    "StatusActive",
                    "StatusRetired",
                    "StatusActive",
                    "StatusActive",
                    "StatusActive",
                    "StatusActive",
                    "StatusRetired",
                    "StatusRetired",
                    "StatusActive",
                    "StatusRetired",
                    "StatusActive",
                    "StatusActive",
                    "StatusRetired",
                    "StatusActive",
                    "StatusActive",
                    "StatusRetired",
                    "StatusRetired",
                    "StatusActive",
                    "StatusActive",
                    "StatusActive",
                    "StatusActive",
                    "StatusActive",
                    "StatusActive",
                    "StatusActive",
                    "StatusRetired",
                    "StatusActive",
                    "StatusActive",
                    "StatusActive",
                    "StatusActive",
                    "StatusActive",
                    "StatusRetired",
                    "StatusActive",
                    "StatusActive",
                    "StatusRetired",
                    "StatusActive",
                    "StatusRetired",
                    "StatusActive",
                    "StatusActive",
                    "StatusRetired",
                    "StatusRetired",
                    "StatusActive",
                    "StatusRetired",
                    "StatusActive",
                    "StatusActive",
                    "StatusActive",
                    "StatusRetired",
                    "StatusRetired",
                    "StatusActive",
                    "StatusActive",
                    "StatusActive",
                    "StatusActive",
                    "StatusActive",
                    "StatusActive",
                    "StatusRetired",
                    "StatusActive",
                    "StatusActive",
                    "StatusActive",
                    "StatusActive",
                    "StatusActive",
                    "StatusActive",
                    "StatusActive",
                    "StatusActive",
                    "StatusActive",
                    "StatusRetired",
                    "StatusRetired",
                    "StatusActive",
                    "StatusActive",
                    "StatusRetired",
                    "StatusActive",
                    "StatusActive",
                    "StatusRetired",
                    "StatusRetired",
                    "StatusActive",
                    "StatusActive",
                    "StatusActive",
                    "StatusActive",
                    "StatusActive",
                    "StatusRetired",
                    "StatusRetired",
                    "StatusActive",
                    "StatusActive",
                    "StatusActive",
                    "StatusRetired",
                    "StatusActive",
                    "StatusActive",
                    "StatusActive",
                    "StatusActive",
                    "StatusActive",
                    "StatusRetired",
                    "StatusActive",
                    "StatusActive",
                    "StatusRetired",
                    "StatusActive",
                    "StatusRetired",
                    "StatusActive",
                    "StatusActive",
                    "StatusActive",
                    "StatusRetired",
                    "StatusRetired",
                    "StatusRetired",
                    "StatusActive",
                    "StatusActive",
                    "StatusActive",
                    "StatusActive",
                    "StatusActive",
                    "StatusActive",
                    "StatusRetired",
                    "StatusActive",
                    "StatusActive",
                    "StatusActive",
                    "StatusRetired",
                    "StatusActive",
                    "StatusActive",
                    "StatusRetired",
                    "StatusActive",
                    "StatusActive",
                    "StatusRetired",
                    "StatusActive",
                    "StatusActive",
                    "StatusActive",
                    "StatusRetired",
                    "StatusActive",
                    "StatusActive",
                    "StatusActive",
                    "StatusActive",
                    "StatusActive",
                    "StatusActive",
                    "StatusRetired",
                    "StatusActive",
                    "StatusActive",
                    "StatusActive",
                    "StatusActive",
                    "StatusRetired",
                    "StatusActive",
                    "StatusRetired",
                    "StatusRetired",
                    "StatusActive",
                    "StatusActive",
                    "StatusActive",
                    "StatusActive",
                    "StatusActive",
                    "StatusActive",
                    "StatusActive",
                    "StatusActive",
                    "StatusRetired",
                    "StatusActive",
                    "StatusRetired",
                    "StatusActive",
                    "StatusActive",
                    "StatusActive",
                    "StatusActive",
                    "StatusActive",
                    "StatusActive",
                    "StatusActive",
                    "StatusActive",
                    "StatusActive",
                    "StatusActive",
                    "StatusActive",
                    "StatusActive",
                    "StatusActive",
                    "StatusActive",
                    "StatusActive",
                    "StatusActive",
                    "StatusRetired",
                    "StatusActive",
                    "StatusActive",
                    "StatusActive",
                    "StatusActive",
                    "StatusActive",
                    "StatusRetired",
                    "StatusRetired",
                    "StatusActive",
                    "StatusActive",
                    "StatusActive",
                    "StatusRetired",
                    "StatusActive",
                    "StatusActive",
                    "StatusActive",
                    "StatusActive",
                    "StatusRetired",
                    "StatusActive",
                    "StatusRetired",
                    "StatusRetired",
                    "StatusActive",
                    "StatusActive",
                    "StatusActive",
                    "StatusRetired",
                    "StatusRetired",
                    "StatusActive",
                    "StatusRetired",
                    "StatusActive",
                    "StatusRetired",
                    "StatusActive",
                    "StatusActive",
                    "StatusActive",
                    "StatusRetired",
                    "StatusActive",
                    "StatusRetired",
                    "StatusActive",
                    "StatusRetired",
                    "StatusActive",
                    "StatusActive",
                    "StatusActive",
                    "StatusActive",
                    "StatusActive",
                    "StatusActive",
                    "StatusRetired",
                    "StatusRetired",
                    "StatusActive",
                    "StatusRetired",
                    "StatusActive",
                    "StatusActive",
                    "StatusActive",
                    "StatusRetired",
                    "StatusActive",
                    "StatusActive",
                    "StatusRetired",
                    "StatusActive",
                    "StatusActive",
                    "StatusRetired",
                    "StatusActive",
                    "StatusRetired",
                    "StatusRetired",
                    "StatusRetired",
                    "StatusRetired",
                    "StatusActive",
                    "StatusActive",
                    "StatusRetired",
                    "StatusRetired",
                    "StatusActive",
                    "StatusRetired",
                    "StatusActive",
                    "StatusActive",
                    "StatusRetired",
                    "StatusActive",
                    "StatusRetired",
                    "StatusActive",
                    "StatusRetired",
                    "StatusActive",
                    "StatusActive",
                    "StatusActive",
                    "StatusActive",
                    "StatusActive",
                    "StatusActive",
                    "StatusActive",
                    "StatusRetired",
                    "StatusActive",
                    "StatusActive",
                    "StatusRetired",
                    "StatusRetired",
                    "StatusActive",
                    "StatusActive",
                    "StatusRetired",
                    "StatusActive",
                    "StatusActive",
                    "StatusRetired",
                    "StatusRetired",
                    "StatusRetired",
                    "StatusActive",
                    "StatusActive",
                    "StatusActive",
                    "StatusRetired",
                    "StatusRetired",
                    "StatusActive",
                    "StatusRetired",
                    "StatusRetired",
                    "StatusRetired",
                    "StatusActive",
                    "StatusActive",
                    "StatusActive",
                    "StatusActive",
                    "StatusRetired",
                    "StatusRetired",
                    "StatusRetired",
                    "StatusActive",
                    "StatusActive",
                    "StatusActive",
                    "StatusActive",
                    "StatusActive",
                    "StatusRetired",
                    "StatusActive",
                    "StatusActive",
                    "StatusRetired",
                    "StatusRetired",
                    "StatusActive",
                    "StatusActive",
                    "StatusRetired",
                    "StatusActive",
                    "StatusRetired",
                    "StatusActive",
                    "StatusActive",
                    "StatusActive",
                    "StatusActive",
                    "StatusActive",
                    "StatusRetired",
                    "StatusActive",
                    "StatusRetired",
                    "StatusActive",
                    "StatusActive",
                    "StatusActive",
                    "StatusActive",
                    "StatusActive",
                    "StatusActive",
                    "StatusActive",
                    "StatusRetired",
                    "StatusRetired",
                    "StatusActive",
                    "StatusActive",
                    "StatusActive",
                    "StatusActive",
                    "StatusActive",
                    "StatusActive",
                    "StatusActive",
                    "StatusRetired",
                    "StatusRetired",
                    "StatusActive",
                    "StatusActive",
                    "StatusActive",
                    "StatusActive",
                    "StatusActive",
                    "StatusActive",
                    "StatusActive",
                    "StatusRetired",
                    "StatusActive",
                    "StatusActive",
                    "StatusActive",
                    "StatusActive",
                    "StatusActive",
                    "StatusActive",
                    "StatusRetired",
                    "StatusRetired",
                    "StatusActive",
                    "StatusActive",
                    "StatusRetired",
                    "StatusRetired",
                    "StatusActive",
                    "StatusActive",
                    "StatusActive",
                    "StatusActive",
                    "StatusActive",
                    "StatusRetired",
                    "StatusActive",
                    "StatusActive",
                    "StatusActive",
                    "StatusActive",
                    "StatusActive",
                    "StatusActive",
                    "StatusActive",
                    "StatusActive",
                    "StatusActive",
                    "StatusRetired",
                    "StatusRetired",
                    "StatusActive",
                    "StatusActive",
                    "StatusActive",
                    "StatusRetired",
                    "StatusActive",
                    "StatusRetired",
                    "StatusActive",
                    "StatusRetired",
                    "StatusRetired",
                    "StatusActive",
                    "StatusRetired",
                    "StatusActive",
                    "StatusActive",
                    "StatusRetired",
                    "StatusActive",
                    "StatusRetired",
                    "StatusActive",
                    "StatusActive",
                    "StatusRetired",
                    "StatusRetired",
                    "StatusActive",
                    "StatusRetired",
                    "StatusRetired",
                    "StatusActive",
                    "StatusActive",
                    "StatusActive",
                    "StatusRetired",
                    "StatusRetired",
                    "StatusActive",
                    "StatusActive",
                    "StatusActive",
                    "StatusRetired",
                    "StatusActive",
                    "StatusRetired",
                    "StatusActive",
                    "StatusActive",
                    "StatusRetired",
                    "StatusActive",
                    "StatusActive",
                    "StatusActive",
                    "StatusActive",
                    "StatusActive",
                    "StatusRetired",
                    "StatusRetired",
                    "StatusRetired",
                    "StatusRetired",
                    "StatusRetired",
                    "StatusRetired",
                    "StatusActive",
                    "StatusRetired",
                    "StatusActive",
                    "StatusRetired",
                    "StatusRetired",
                    "StatusActive",
                    "StatusActive",
                    "StatusRetired",
                    "StatusRetired",
                    "StatusRetired",
                    "StatusRetired",
                    "StatusActive",
                    "StatusRetired",
                    "StatusRetired",
                    "StatusRetired",
                    "StatusRetired",
                    "StatusRetired",
                    "StatusActive",
                    "StatusActive",
                    "StatusActive",
                    "StatusRetired",
                    "StatusRetired",
                    "StatusActive",
                    "StatusRetired",
                    "StatusActive",
                    "StatusRetired",
                    "StatusActive",
                    "StatusRetired",
                    "StatusActive",
                    "StatusRetired",
                    "StatusActive",
                    "StatusRetired",
                    "StatusRetired",
                    "StatusActive",
                    "StatusRetired",
                    "StatusRetired",
                    "StatusRetired",
                    "StatusRetired",
                    "StatusRetired",
                    "StatusRetired",
                    "StatusActive",
                    "StatusRetired",
                    "StatusActive",
                    "StatusActive",
                    "StatusActive",
                    "StatusActive",
                    "StatusRetired",
                    "StatusRetired",
                    "StatusActive",
                    "StatusActive",
                    "StatusRetired",
                    "StatusActive",
                    "StatusRetired",
                    "StatusRetired",
                    "StatusRetired",
                    "StatusRetired",
                    "StatusActive",
                    "StatusActive",
                    "StatusActive",
                    "StatusRetired",
                    "StatusRetired",
                    "StatusRetired",
                    "StatusActive",
                    "StatusActive",
                    "StatusActive",
                    "StatusRetired",
                    "StatusRetired",
                    "StatusActive",
                    "StatusActive",
                    "StatusRetired",
                    "StatusActive",
                    "StatusActive",
                    "StatusActive",
                    "StatusRetired",
                    "StatusRetired",
                    "StatusActive",
                    "StatusActive",
                    "StatusRetired",
                    "StatusActive",
                    "StatusRetired",
                    "StatusRetired",
                    "StatusActive",
                    "StatusRetired",
                    "StatusRetired",
                    "StatusActive",
                    "StatusActive",
                    "StatusRetired",
                    "StatusRetired",
                    "StatusActive",
                    "StatusRetired",
                    "StatusActive",
                    "StatusRetired",
                    "StatusActive",
                    "StatusRetired",
                    "StatusActive",
                    "StatusActive",
                    "StatusActive",
                    "StatusActive",
                    "StatusActive",
                    "StatusActive",
                    "StatusActive",
                    "StatusRetired",
                    "StatusActive",
                    "StatusRetired",
                    "StatusActive",
                    "StatusRetired",
                    "StatusRetired",
                    "StatusActive",
                    "StatusRetired",
                    "StatusActive",
                    "StatusActive",
                    "StatusRetired",
                    "StatusRetired",
                    "StatusActive",
                    "StatusRetired",
                    "StatusActive",
                    "StatusActive",
                    "StatusActive",
                    "StatusRetired",
                    "StatusActive",
                    "StatusRetired",
                    "StatusRetired",
                    "StatusRetired",
                    "StatusActive",
                    "StatusRetired",
                    "StatusRetired",
                    "StatusActive",
                    "StatusRetired",
                    "StatusRetired",
                    "StatusRetired",
                    "StatusRetired",
                    "StatusActive",
                    "StatusRetired",
                    "StatusRetired",
                    "StatusActive",
                    "StatusRetired",
                    "StatusRetired",
                    "StatusRetired",
                    "StatusActive",
                    "StatusRetired",
                    "StatusActive",
                    "StatusRetired",
                    "StatusRetired",
                    "StatusActive",
                    "StatusActive",
                    "StatusActive",
                    "StatusActive",
                    "StatusActive",
                    "StatusActive",
                    "StatusActive",
                    "StatusRetired",
                    "StatusActive",
                    "StatusActive",
                    "StatusRetired",
                    "StatusActive",
                    "StatusActive",
                    "StatusRetired",
                    "StatusRetired",
                    "StatusActive",
                    "StatusActive",
                    "StatusRetired",
                    "StatusRetired",
                    "StatusActive",
                    "StatusActive",
                    "StatusRetired",
                    "StatusRetired",
                    "StatusActive",
                    "StatusActive",
                    "StatusRetired",
                    "StatusRetired",
                    "StatusActive",
                    "StatusActive",
                    "StatusRetired",
                    "StatusActive",
                    "StatusActive",
                    "StatusRetired",
                    "StatusRetired",
                    "StatusActive",
                    "StatusActive",
                    "StatusRetired",
                    "StatusActive",
                    "StatusActive",
                    "StatusActive",
                    "StatusRetired",
                    "StatusRetired",
                    "StatusRetired",
                    "StatusRetired",
                    "StatusRetired",
                    "StatusRetired",
                    "StatusRetired",
                    "StatusRetired",
                    "StatusRetired",
                    "StatusActive",
                    "StatusActive",
                    "StatusRetired",
                    "StatusRetired",
                    "StatusRetired",
                    "StatusActive",
                    "StatusActive",
                    "StatusActive",
                    "StatusActive",
                    "StatusActive",
                    "StatusActive",
                    "StatusRetired",
                    "StatusActive",
                    "StatusRetired",
                    "StatusRetired",
                    "StatusActive",
                    "StatusRetired",
                    "StatusActive",
                    "StatusRetired",
                    "StatusRetired",
                    "StatusActive",
                    "StatusActive",
                    "StatusRetired",
                    "StatusRetired",
                    "StatusActive",
                    "StatusRetired",
                    "StatusRetired",
                    "StatusRetired",
                    "StatusActive",
                    "StatusActive",
                    "StatusRetired",
                    "StatusRetired",
                    "StatusActive",
                    "StatusRetired",
                    "StatusActive",
                    "StatusRetired",
                    "StatusRetired",
                    "StatusActive",
                    "StatusActive",
                    "StatusRetired",
                    "StatusRetired",
                    "StatusRetired",
                    "StatusRetired",
                    "StatusRetired",
                    "StatusActive",
                    "StatusActive",
                    "StatusActive",
                    "StatusActive",
                    "StatusActive",
                    "StatusActive",
                    "StatusRetired",
                    "StatusActive",
                    "StatusRetired",
                    "StatusRetired",
                    "StatusRetired",
                    "StatusRetired",
                    "StatusActive",
                    "StatusRetired",
                    "StatusActive",
                    "StatusRetired",
                    "StatusActive",
                    "StatusActive",
                    "StatusRetired",
                    "StatusActive",
                    "StatusActive",
                    "StatusActive",
                    "StatusRetired",
                    "StatusRetired",
                    "StatusActive",
                    "StatusRetired",
                    "StatusRetired",
                    "StatusActive",
                    "StatusRetired",
                    "StatusActive",
                    "StatusRetired",
                    "StatusRetired",
                    "StatusRetired",
                    "StatusRetired",
                    "StatusActive",
                    "StatusRetired",
                    "StatusRetired",
                    "StatusRetired",
                    "StatusActive",
                    "StatusActive",
                    "StatusRetired",
                    "StatusRetired",
                    "StatusActive",
                    "StatusRetired",
                    "StatusRetired",
                    "StatusRetired",
                    "StatusRetired",
                    "StatusRetired",
                    "StatusRetired",
                    "StatusRetired",
                    "StatusActive",
                    "StatusActive",
                    "StatusRetired",
                    "StatusRetired",
                    "StatusRetired",
                    "StatusRetired",
                    "StatusRetired",
                    "StatusActive",
                    "StatusActive",
                    "StatusRetired",
                    "StatusActive",
                    "StatusRetired",
                    "StatusRetired",
                    "StatusActive",
                    "StatusActive",
                    "StatusRetired",
                    "StatusRetired",
                    "StatusRetired",
                    "StatusRetired",
                    "StatusRetired",
                    "StatusActive",
                    "StatusRetired",
                    "StatusRetired",
                    "StatusActive",
                    "StatusActive",
                    "StatusActive",
                    "StatusRetired",
                    "StatusRetired",
                    "StatusActive",
                    "StatusRetired",
                    "StatusRetired",
                    "StatusRetired",
                    "StatusActive",
                    "StatusRetired",
                    "StatusRetired",
                    "StatusActive",
                    "StatusActive",
                    "StatusRetired",
                    "StatusRetired",
                    "StatusActive",
                    "StatusRetired",
                    "StatusRetired",
                    "StatusRetired",
                    "StatusRetired",
                    "StatusRetired",
                    "StatusRetired",
                    "StatusRetired",
                    "StatusRetired",
                    "StatusRetired",
                    "StatusActive",
                    "StatusRetired",
                    "StatusRetired",
                    "StatusRetired",
                    "StatusActive",
                    "StatusRetired",
                    "StatusRetired",
                    "StatusRetired",
                    "StatusActive",
                    "StatusActive",
                    "StatusRetired",
                    "StatusRetired",
                    "StatusRetired",
                    "StatusRetired",
                    "StatusActive",
                    "StatusRetired",
                    "StatusRetired",
                    "StatusRetired",
                    "StatusRetired",
                    "StatusRetired",
                    "StatusRetired",
                    "StatusRetired",
                    "StatusRetired",
                    "StatusActive",
                    "StatusRetired",
                    "StatusRetired",
                    "StatusRetired",
                    "StatusRetired",
                    "StatusRetired",
                    "StatusRetired",
                    "StatusActive",
                    "StatusRetired",
                    "StatusRetired",
                    "StatusRetired",
                    "StatusRetired",
                    "StatusActive",
                    "StatusRetired",
                    "StatusRetired",
                    "StatusRetired",
                    "StatusRetired",
                    "StatusRetired",
                    "StatusActive",
                    "StatusRetired",
                    "StatusRetired",
                    "StatusRetired",
                    "StatusRetired",
                    "StatusRetired",
                    "StatusRetired",
                    "StatusRetired",
                    "StatusActive",
                    "StatusRetired",
                    "StatusRetired",
                    "StatusRetired",
                    "StatusRetired",
                    "StatusRetired",
                    "StatusRetired",
                    "StatusRetired",
                    "StatusRetired",
                    "StatusRetired",
                    "StatusRetired",
                    "StatusRetired",
                    "StatusRetired",
                    "StatusRetired",
                    "StatusRetired",
                    "StatusRetired",
                    "StatusRetired",
                    "StatusActive",
                    "StatusRetired",
                    "StatusRetired",
                    "StatusActive",
                    "StatusRetired",
                    "StatusRetired",
                    "StatusRetired",
                    "StatusRetired",
                    "StatusRetired",
                    "StatusRetired",
                    "StatusRetired",
                    "StatusRetired",
                    "StatusRetired",
                    "StatusRetired",
                    "StatusRetired",
                    "StatusRetired",
                    "StatusActive",
                    "StatusRetired",
                    "StatusRetired",
                    "StatusRetired",
                    "StatusActive",
                    "StatusRetired",
                    "StatusRetired",
                    "StatusRetired",
                    "StatusActive",
                    "StatusRetired",
                    "StatusRetired",
                    "StatusRetired",
                    "StatusRetired",
                    "StatusActive",
                    "StatusRetired",
                    "StatusActive",
                    "StatusRetired",
                    "StatusRetired",
                    "StatusActive",
                    "StatusRetired",
                    "StatusRetired",
                    "StatusRetired",
                    "StatusRetired",
                    "StatusRetired",
                    "StatusRetired",
                    "StatusActive",
                    "StatusRetired",
                    "StatusActive",
                    "StatusRetired",
                    "StatusRetired",
                    "StatusRetired",
                    "StatusRetired",
                    "StatusRetired",
                    "StatusRetired",
                    "StatusRetired",
                    "StatusRetired",
                    "StatusRetired",
                    "StatusRetired",
                    "StatusRetired",
                    "StatusRetired",
                    "StatusRetired",
                    "StatusActive",
                    "StatusActive",
                    "StatusRetired",
                    "StatusRetired",
                    "StatusRetired",
                    "StatusRetired",
                    "StatusRetired",
                    "StatusRetired",
                    "StatusActive",
                    "StatusRetired",
                    "StatusRetired",
                    "StatusRetired",
                    "StatusRetired",
                    "StatusRetired",
                    "StatusRetired",
                    "StatusRetired",
                    "StatusRetired",
                    "StatusRetired",
                    "StatusActive",
                    "StatusActive",
                    "StatusRetired",
                    "StatusRetired",
                    "StatusRetired",
                    "StatusRetired",
                    "StatusRetired",
                    "StatusRetired",
                    "StatusActive",
                    "StatusActive",
                    "StatusRetired",
                    "StatusRetired",
                    "StatusActive",
                    "StatusRetired",
                    "StatusRetired",
                    "StatusRetired",
                    "StatusRetired",
                    "StatusRetired",
                    "StatusRetired",
                    "StatusActive",
                    "StatusRetired",
                    "StatusActive",
                    "StatusRetired",
                    "StatusRetired",
                    "StatusActive",
                    "StatusRetired",
                    "StatusRetired",
                    "StatusRetired",
                    "StatusActive",
                    "StatusActive",
                    "StatusRetired",
                    "StatusRetired",
                    "StatusRetired",
                    "StatusRetired",
                    "StatusRetired",
                    "StatusRetired",
                    "StatusRetired",
                    "StatusRetired",
                    "StatusRetired",
                    "StatusRetired",
                    "StatusRetired",
                    "StatusRetired",
                    "StatusRetired",
                    "StatusRetired",
                    "StatusRetired",
                    "StatusActive",
                    "StatusRetired",
                    "StatusRetired",
                    "StatusRetired",
                    "StatusRetired",
                    "StatusActive",
                    "StatusActive",
                    "StatusRetired",
                    "StatusRetired",
                    "StatusRetired",
                    "StatusRetired",
                    "StatusRetired",
                    "StatusRetired",
                    "StatusRetired",
                    "StatusRetired",
                    "StatusRetired",
                    "StatusActive",
                    "StatusActive",
                    "StatusRetired",
                    "StatusRetired",
                    "StatusRetired",
                    "StatusRetired",
                    "StatusRetired",
                    "StatusRetired",
                    "StatusRetired",
                    "StatusRetired",
                    "StatusActive",
                    "StatusRetired",
                    "StatusRetired",
                    "StatusActive",
                    "StatusRetired",
                    "StatusRetired",
                    "StatusRetired",
                    "StatusRetired",
                    "StatusRetired",
                    "StatusRetired",
                    "StatusRetired",
                    "StatusRetired",
                    "StatusRetired",
                    "StatusRetired",
                    "StatusRetired",
                    "StatusActive",
                    "StatusRetired",
                    "StatusActive",
                    "StatusRetired",
                    "StatusRetired",
                    "StatusRetired",
                    "StatusRetired",
                    "StatusRetired",
                    "StatusRetired",
                    "StatusRetired",
                    "StatusActive",
                    "StatusRetired",
                    "StatusRetired",
                    "StatusActive",
                    "StatusRetired",
                    "StatusRetired",
                    "StatusRetired",
                    "StatusRetired",
                    "StatusRetired",
                    "StatusRetired",
                    "StatusActive",
                    "StatusRetired",
                    "StatusRetired",
                    "StatusRetired",
                    "StatusActive",
                    "StatusRetired",
                    "StatusRetired",
                    "StatusRetired",
                    "StatusRetired",
                    "StatusActive",
                    "StatusRetired",
                    "StatusRetired",
                    "StatusRetired",
                    "StatusActive",
                    "StatusRetired",
                    "StatusActive",
                    "StatusRetired",
                    "StatusRetired",
                    "StatusRetired",
                    "StatusRetired",
                    "StatusActive",
                    "StatusRetired",
                    "StatusRetired",
                    "StatusRetired",
                    "StatusActive",
                    "StatusRetired",
                    "StatusRetired",
                    "StatusRetired",
                    "StatusRetired",
                    "StatusRetired",
                    "StatusRetired",
                    "StatusRetired",
                    "StatusActive",
                    "StatusActive",
                    "StatusRetired",
                    "StatusRetired",
                    "StatusRetired",
                    "StatusRetired",
                    "StatusRetired",
                    "StatusActive",
                    "StatusRetired",
                    "StatusRetired",
                    "StatusRetired",
                    "StatusRetired",
                    "StatusRetired",
                    "StatusRetired",
                    "StatusActive",
                    "StatusRetired",
                    "StatusRetired",
                    "StatusRetired",
                    "StatusActive",
                    "StatusActive",
                    "StatusRetired",
                    "StatusRetired",
                    "StatusRetired",
                    "StatusRetired",
                    "StatusRetired",
                    "StatusRetired",
                    "StatusRetired",
                    "StatusRetired",
                    "StatusRetired",
                    "StatusRetired",
                    "StatusActive",
                    "StatusActive",
                    "StatusRetired",
                    "StatusRetired",
                    "StatusRetired",
                    "StatusActive",
                    "StatusRetired",
                    "StatusRetired",
                    "StatusActive",
                    "StatusRetired",
                    "StatusRetired",
                    "StatusRetired",
                    "StatusRetired",
                    "StatusRetired",
                    "StatusRetired",
                    "StatusRetired",
                    "StatusRetired",
                    "StatusRetired",
                    "StatusRetired",
                    "StatusRetired",
                    "StatusActive",
                    "StatusRetired",
                    "StatusRetired",
                    "StatusActive",
                    "StatusRetired",
                    "StatusRetired",
                    "StatusRetired",
                    "StatusRetired",
                    "StatusRetired",
                    "StatusActive",
                    "StatusRetired",
                    "StatusRetired",
                    "StatusRetired",
                    "StatusRetired",
                    "StatusRetired",
                    "StatusRetired",
                    "StatusRetired",
                    "StatusRetired",
                    "StatusRetired",
                    "StatusRetired",
                    "StatusRetired",
                    "StatusRetired",
                    "StatusRetired",
                    "StatusRetired",
                    "StatusRetired",
                    "StatusRetired",
                    "StatusRetired",
                    "StatusRetired",
                    "StatusActive",
                    "StatusRetired",
                    "StatusActive",
                    "StatusRetired",
                    "StatusRetired",
                    "StatusRetired",
                    "StatusRetired",
                    "StatusRetired",
                    "StatusRetired",
                    "StatusRetired",
                    "StatusActive",
                    "StatusRetired",
                    "StatusRetired",
                    "StatusRetired",
                    "StatusRetired",
                    "StatusRetired",
                    "StatusRetired",
                    "StatusRetired",
                    "StatusRetired",
                    "StatusRetired",
                    "StatusActive",
                    "StatusRetired",
                    "StatusRetired",
                    "StatusRetired",
                    "StatusRetired",
                    "StatusRetired",
                    "StatusRetired",
                    "StatusRetired",
                    "StatusRetired",
                    "StatusRetired",
                    "StatusRetired",
                    "StatusRetired",
                    "StatusRetired",
                    "StatusRetired",
                    "StatusRetired",
                    "StatusRetired",
                    "StatusRetired",
                    "StatusRetired",
                    "StatusRetired",
                    "StatusActive",
                    "StatusRetired",
                    "StatusRetired",
                    "StatusRetired",
                    "StatusRetired",
                    "StatusActive",
                    "StatusRetired",
                    "StatusRetired",
                    "StatusRetired",
                    "StatusRetired",
                    "StatusRetired",
                    "StatusRetired",
                    "StatusRetired",
                    "StatusRetired",
                    "StatusRetired",
                    "StatusRetired",
                    "StatusRetired",
                    "StatusRetired",
                    "StatusRetired",
                    "StatusRetired",
                    "StatusRetired",
                    "StatusRetired",
                    "StatusRetired",
                    "StatusRetired",
                    "StatusRetired",
                    "StatusRetired",
                    "StatusRetired",
                    "StatusRetired",
                    "StatusRetired",
                    "StatusRetired",
                    "StatusRetired",
                    "StatusRetired",
                    "StatusRetired",
                    "StatusRetired",
                    "StatusRetired",
                    "StatusRetired",
                    "StatusRetired",
                    "StatusRetired",
                    "StatusRetired",
                    "StatusRetired",
                    "StatusRetired",
                    "StatusRetired",
                    "StatusRetired",
                    "StatusRetired",
                    "StatusRetired",
                    "StatusRetired",
                    "StatusRetired",
                    "StatusActive",
                    "StatusRetired",
                    "StatusRetired",
                    "StatusRetired",
                    "StatusRetired",
                    "StatusRetired",
                    "StatusRetired",
                    "StatusRetired",
                    "StatusRetired",
                    "StatusRetired",
                    "StatusRetired",
                    "StatusRetired",
                    "StatusRetired",
                    "StatusRetired",
                    "StatusRetired",
                    "StatusRetired",
                    "StatusRetired",
                    "StatusRetired",
                    "StatusRetired",
                    "StatusRetired",
                    "StatusRetired",
                    "StatusRetired",
                    "StatusRetired",
                    "StatusRetired",
                    "StatusRetired",
                    "StatusRetired",
                    "StatusRetired",
                    "StatusRetired",
                    "StatusRetired",
                    "StatusRetired",
                    "StatusRetired",
                    "StatusRetired",
                    "StatusRetired",
                    "StatusActive",
                    "StatusRetired",
                    "StatusRetired",
                    "StatusRetired",
                    "StatusRetired",
                    "StatusRetired",
                    "StatusRetired",
                    "StatusRetired",
                    "StatusRetired",
                    "StatusRetired",
                    "StatusRetired",
                    "StatusRetired",
                    "StatusRetired",
                    "StatusRetired",
                    "StatusRetired",
                    "StatusRetired",
                    "StatusRetired",
                    "StatusRetired",
                    "StatusRetired",
                    "StatusRetired",
                    "StatusRetired",
                    "StatusRetired",
                    "StatusRetired",
                    "StatusRetired",
                    "StatusRetired",
                    "StatusRetired",
                    "StatusRetired",
                    "StatusRetired",
                    "StatusRetired",
                    "StatusRetired",
                    "StatusRetired",
                    "StatusRetired",
                    "StatusActive",
                    "StatusActive",
                    "StatusRetired",
                    "StatusRetired",
                    "StatusRetired",
                    "StatusRetired",
                    "StatusRetired",
                    "StatusRetired",
                    "StatusRetired",
                    "StatusRetired",
                    "StatusRetired",
                    "StatusRetired",
                    "StatusRetired",
                    "StatusActive",
                    "StatusRetired",
                    "StatusRetired",
                    "StatusRetired",
                    "StatusRetired",
                    "StatusActive",
                    "StatusRetired",
                    "StatusRetired",
                    "StatusRetired",
                    "StatusRetired",
                    "StatusRetired",
                    "StatusRetired",
                    "StatusRetired",
                    "StatusRetired",
                    "StatusRetired",
                    "StatusRetired",
                    "StatusRetired",
                    "StatusRetired",
                    "StatusRetired",
                    "StatusRetired",
                    "StatusRetired",
                    "StatusRetired",
                    "StatusRetired",
                    "StatusRetired",
                    "StatusActive",
                    "StatusRetired",
                    "StatusRetired",
                    "StatusRetired",
                    "StatusRetired",
                    "StatusRetired",
                    "StatusRetired",
                    "StatusRetired",
                    "StatusRetired",
                    "StatusRetired",
                    "StatusRetired",
                    "StatusRetired",
                    "StatusRetired",
                    "StatusRetired",
                    "StatusRetired",
                    "StatusRetired",
                    "StatusRetired",
                    "StatusRetired",
                    "StatusRetired",
                    "StatusRetired",
                    "StatusRetired",
                    "StatusRetired",
                    "StatusRetired",
                    "StatusRetired",
                    "StatusRetired",
                    "StatusRetired",
                    "StatusRetired",
                    "StatusRetired",
                    "StatusRetired",
                    "StatusRetired",
                    "StatusRetired",
                    "StatusRetired",
                    "StatusRetired",
                    "StatusRetired",
                    "StatusRetired",
                    "StatusRetired",
                    "StatusRetired",
                    "StatusRetired",
                    "StatusRetired",
                    "StatusActive",
                    "StatusRetired",
                    "StatusRetired",
                    "StatusRetired",
                    "StatusRetired",
                    "StatusRetired",
                    "StatusRetired",
                    "StatusRetired",
                    "StatusRetired",
                    "StatusRetired",
                    "StatusRetired",
                    "StatusRetired",
                    "StatusRetired",
                    "StatusRetired",
                    "StatusRetired",
                    "StatusRetired",
                    "StatusRetired",
                    "StatusRetired",
                    "StatusRetired",
                    "StatusRetired",
                    "StatusRetired",
                    "StatusRetired",
                    "StatusRetired",
                    "StatusRetired",
                    "StatusRetired",
                    "StatusRetired",
                    "StatusRetired",
                    "StatusRetired",
                    "StatusRetired",
                    "StatusRetired",
                    "StatusActive",
                    "StatusRetired",
                    "StatusRetired",
                    "StatusRetired",
                    "StatusRetired",
                    "StatusRetired",
                    "StatusRetired",
                    "StatusRetired",
                    "StatusRetired",
                    "StatusActive",
                    "StatusRetired",
                    "StatusRetired",
                    "StatusRetired",
                    "StatusRetired",
                    "StatusRetired",
                    "StatusRetired",
                    "StatusRetired",
                    "StatusRetired",
                    "StatusRetired",
                    "StatusRetired",
                    "StatusRetired",
                    "StatusRetired",
                    "StatusRetired",
                    "StatusRetired",
                    "StatusRetired",
                    "StatusRetired",
                    "StatusRetired",
                    "StatusRetired",
                    "StatusRetired",
                    "StatusRetired",
                    "StatusRetired",
                    "StatusRetired",
                    "StatusRetired",
                    "StatusRetired",
                    "StatusRetired",
                    "StatusRetired",
                    "StatusRetired",
                    "StatusRetired",
                    "StatusRetired",
                    "StatusRetired",
                    "StatusRetired",
                    "StatusRetired",
                    "StatusRetired",
                    "StatusRetired",
                    "StatusRetired",
                    "StatusRetired",
                    "StatusRetired",
                    "StatusRetired",
                    "StatusRetired",
                    "StatusRetired",
                    "StatusRetired",
                    "StatusRetired",
                    "StatusRetired",
                    "StatusRetired",
                    "StatusRetired",
                    "StatusRetired",
                    "StatusRetired",
                    "StatusRetired",
                    "StatusRetired",
                    "StatusRetired",
                    "StatusRetired",
                    "StatusRetired",
                    "StatusRetired",
                    "StatusRetired",
                    "StatusRetired",
                    "StatusRetired",
                    "StatusRetired",
                    "StatusRetired",
                    "StatusRetired",
                    "StatusRetired",
                    "StatusRetired",
                    "StatusRetired",
                    "StatusRetired",
                    "StatusRetired",
                    "StatusRetired",
                    "StatusRetired",
                    "StatusRetired",
                    "StatusRetired",
                    "StatusRetired",
                    "StatusRetired",
                    "StatusRetired",
                    "StatusRetired",
                    "StatusRetired",
                    "StatusRetired",
                    "StatusRetired",
                    "StatusRetired",
                    "StatusRetired",
                    "StatusRetired",
                    "StatusRetired",
                    "StatusRetired",
                    "StatusRetired",
                    "StatusRetired",
                    "StatusRetired",
                    "StatusRetired",
                    "StatusRetired",
                    "StatusRetired",
                    "StatusRetired",
                    "StatusRetired",
                    "StatusRetired",
                    "StatusRetired",
                    "StatusRetired",
                    "StatusRetired",
                    "StatusRetired",
                    "StatusRetired",
                    "StatusRetired",
                    "StatusRetired",
                    "StatusRetired",
                    "StatusRetired",
                    "StatusRetired",
                    "StatusRetired",
                    "StatusRetired",
                    "StatusRetired",
                    "StatusRetired",
                    "StatusRetired",
                    "StatusRetired",
                    "StatusRetired",
                    "StatusRetired",
                    "StatusRetired",
                    "StatusRetired",
                    "StatusActive",
                    "StatusRetired",
                    "StatusRetired",
                    "StatusRetired",
                    "StatusRetired",
                    "StatusRetired",
                    "StatusRetired",
                    "StatusRetired",
                    "StatusRetired",
                    "StatusRetired",
                    "StatusRetired",
                    "StatusRetired",
                    "StatusRetired",
                    "StatusRetired",
                    "StatusRetired",
                    "StatusRetired",
                    "StatusRetired",
                    "StatusRetired",
                    "StatusRetired",
                    "StatusRetired",
                    "StatusRetired",
                    "StatusRetired",
                    "StatusRetired",
                    "StatusRetired",
                    "StatusRetired",
                    "StatusRetired",
                    "StatusRetired",
                    "StatusRetired",
                    "StatusRetired",
                    "StatusRetired",
                    "StatusRetired",
                    "StatusRetired",
                    "StatusRetired",
                    "StatusRetired",
                    "StatusRetired",
                    "StatusRetired",
                    "StatusRetired",
                    "StatusRetired",
                    "StatusRetired",
                    "StatusRetired",
                    "StatusRetired",
                    "StatusRetired",
                    "StatusRetired",
                    "StatusRetired",
                    "StatusRetired",
                    "StatusRetired",
                    "StatusRetired",
                    "StatusRetired",
                    "StatusRetired",
                    "StatusRetired",
                    "StatusRetired",
                    "StatusRetired",
                    "StatusRetired",
                    "StatusRetired",
                    "StatusRetired",
                    "StatusRetired",
                    "StatusRetired",
                    "StatusRetired",
                    "StatusRetired",
                    "StatusRetired",
                    "StatusRetired",
                    "StatusRetired",
                    "StatusRetired",
                    "StatusRetired",
                    "StatusRetired",
                    "StatusRetired",
                    "StatusRetired",
                    "StatusRetired",
                    "StatusRetired",
                    "StatusRetired",
                    "StatusRetired",
                    "StatusRetired",
                    "StatusRetired",
                    "StatusRetired",
                    "StatusRetired",
                    "StatusRetired",
                    "StatusRetired",
                    "StatusRetired",
                    "StatusRetired",
                    "StatusRetired",
                    "StatusRetired",
                    "StatusRetired",
                    "StatusRetired",
                    "StatusRetired",
                    "StatusRetired",
                    "StatusRetired",
                    "StatusRetired",
                    "StatusRetired",
                    "StatusRetired",
                    "StatusRetired",
                    "StatusRetired",
                    "StatusRetired",
                    "StatusRetired",
                    "StatusRetired",
                    "StatusRetired",
                    "StatusRetired",
                    "StatusRetired",
                    "StatusRetired",
                    "StatusRetired",
                    "StatusRetired",
                    "StatusRetired",
                    "StatusRetired",
                    "StatusRetired",
                    "StatusRetired",
                    "StatusRetired",
                    "StatusRetired",
                    "StatusRetired",
                    "StatusRetired",
                    "StatusRetired",
                    "StatusRetired",
                    "StatusRetired",
                    "StatusRetired",
                    "StatusRetired",
                    "StatusRetired",
                    "StatusRetired",
                    "StatusRetired",
                    "StatusRetired",
                    "StatusRetired",
                    "StatusRetired",
                    "StatusRetired",
                    "StatusRetired",
                    "StatusRetired",
                    "StatusRetired",
                    "StatusRetired",
                    "StatusRetired",
                    "StatusRetired",
                    "StatusRetired",
                    "StatusRetired",
                    "StatusRetired",
                    "StatusRetired",
                    "StatusRetired",
                    "StatusRetired",
                    "StatusRetired",
                    "StatusRetired",
                    "StatusRetired",
                    "StatusRetired",
                    "StatusRetired",
                    "StatusRetired",
                    "StatusActive",
                    "StatusRetired",
                    "StatusRetired",
                    "StatusRetired",
                    "StatusRetired",
                    "StatusRetired",
                    "StatusRetired",
                    "StatusRetired",
                    "StatusRetired",
                    "StatusRetired",
                    "StatusRetired",
                    "StatusRetired",
                    "StatusRetired",
                    "StatusRetired",
                    "StatusRetired",
                    "StatusRetired",
                    "StatusRetired",
                    "StatusRetired",
                    "StatusRetired",
                    "StatusRetired",
                    "StatusRetired",
                    "StatusRetired",
                    "StatusRetired",
                    "StatusRetired",
                    "StatusRetired",
                    "StatusRetired",
                    "StatusRetired",
                    "StatusRetired",
                    "StatusRetired",
                    "StatusRetired",
                    "StatusRetired",
                    "StatusRetired",
                    "StatusRetired",
                    "StatusRetired",
                    "StatusRetired",
                    "StatusRetired",
                    "StatusRetired",
                    "StatusRetired",
                    "StatusRetired",
                    "StatusRetired",
                    "StatusRetired",
                    "StatusRetired",
                    "StatusRetired",
                    "StatusRetired",
                    "StatusRetired",
                    "StatusRetired",
                    "StatusRetired",
                    "StatusRetired",
                    "StatusActive",
                    "StatusRetired",
                    "StatusRetired",
                    "StatusRetired",
                    "StatusRetired",
                    "StatusRetired",
                    "StatusActive",
                    "StatusRetired",
                    "StatusRetired",
                    "StatusRetired",
                    "StatusRetired",
                    "StatusRetired",
                    "StatusRetired",
                    "StatusRetired",
                    "StatusRetired",
                    "StatusRetired",
                    "StatusRetired",
                    "StatusRetired",
                    "StatusRetired",
                    "StatusRetired",
                    "StatusRetired",
                    "StatusRetired",
                    "StatusRetired",
                    "StatusRetired",
                    "StatusRetired",
                    "StatusRetired",
                    "StatusRetired",
                    "StatusRetired",
                    "StatusRetired",
                    "StatusRetired",
                    "StatusRetired",
                    "StatusRetired",
                    "StatusRetired",
                    "StatusRetired",
                    "StatusRetired",
                    "StatusRetired",
                    "StatusRetired",
                    "StatusRetired",
                    "StatusRetired",
                    "StatusRetired",
                    "StatusRetired",
                    "StatusRetired",
                    "StatusRetired",
                    "StatusRetired",
                    "StatusRetired",
                    "StatusRetired",
                    "StatusRetired",
                    "StatusRetired",
                    "StatusRetired",
                    "StatusRetired",
                    "StatusRetired",
                    "StatusRetired",
                    "StatusRetired",
                    "StatusRetired",
                    "StatusRetired",
                    "StatusRetired",
                    "StatusRetired",
                    "StatusRetired",
                    "StatusRetired",
                    "StatusRetired",
                    "StatusRetired",
                    "StatusActive",
                    "StatusRetired",
                    "StatusRetired",
                    "StatusRetired",
                    "StatusRetired",
                    "StatusRetired",
                    "StatusRetired",
                    "StatusRetired",
                    "StatusRetired",
                    "StatusRetired",
                    "StatusRetired",
                    "StatusRetired",
                    "StatusRetired",
                    "StatusRetired",
                    "StatusRetired",
                    "StatusRetired",
                    "StatusRetired",
                    "StatusRetired",
                    "StatusRetired",
                    "StatusRetired",
                    "StatusRetired",
                    "StatusRetired",
                    "StatusRetired",
                    "StatusRetired",
                    "StatusRetired",
                    "StatusRetired",
                    "StatusRetired",
                    "StatusRetired",
                    "StatusRetired",
                    "StatusRetired",
                    "StatusRetired",
                    "StatusRetired",
                    "StatusRetired",
                    "StatusRetired",
                    "StatusRetired",
                    "StatusRetired",
                    "StatusRetired",
                    "StatusRetired",
                    "StatusRetired",
                    "StatusRetired",
                    "StatusRetired",
                    "StatusRetired",
                    "StatusRetired",
                    "StatusRetired",
                    "StatusRetired",
                    "StatusRetired",
                    "StatusRetired",
                    "StatusRetired",
                    "StatusRetired",
                    "StatusRetired",
                    "StatusRetired",
                    "StatusRetired",
                    "StatusRetired",
                    "StatusRetired",
                    "StatusRetired",
                    "StatusRetired",
                    "StatusRetired",
                    "StatusRetired",
                    "StatusRetired",
                    "StatusRetired",
                    "StatusActive",
                    "StatusRetired",
                    "StatusRetired",
                    "StatusRetired",
                    "StatusRetired",
                    "StatusRetired",
                    "StatusRetired",
                    "StatusRetired",
                    "StatusRetired",
                    "StatusRetired",
                    "StatusRetired",
                    "StatusRetired",
                    "StatusRetired",
                    "StatusRetired",
                    "StatusRetired",
                    "StatusRetired",
                    "StatusRetired",
                    "StatusRetired",
                    "StatusRetired",
                    "StatusRetired",
                    "StatusRetired",
                    "StatusRetired",
                    "StatusRetired",
                    "StatusRetired",
                    "StatusRetired",
                    "StatusRetired",
                    "StatusRetired",
                    "StatusRetired",
                    "StatusRetired",
                    "StatusRetired",
                    "StatusRetired",
                    "StatusRetired",
                    "StatusRetired",
                    "StatusRetired",
                    "StatusRetired",
                    "StatusRetired",
                    "StatusRetired",
                    "StatusRetired",
                    "StatusRetired",
                    "StatusRetired",
                    "StatusRetired",
                    "StatusRetired",
                    "StatusRetired",
                    "StatusRetired",
                    "StatusRetired",
                    "StatusRetired",
                    "StatusRetired",
                    "StatusRetired",
                    "StatusRetired",
                    "StatusRetired",
                    "StatusRetired",
                    "StatusRetired",
                    "StatusRetired",
                    "StatusRetired",
                    "StatusRetired",
                    "StatusRetired",
                    "StatusRetired",
                    "StatusRetired",
                    "StatusRetired",
                    "StatusRetired",
                    "StatusRetired",
                    "StatusRetired",
                    "StatusRetired",
                    "StatusRetired",
                    "StatusRetired",
                    "StatusRetired",
                    "StatusRetired",
                    "StatusRetired",
                    "StatusRetired",
                    "StatusRetired",
                    "StatusRetired",
                    "StatusRetired",
                    "StatusRetired",
                    "StatusRetired",
                    "StatusRetired",
                    "StatusRetired",
                    "StatusActive",
                    "StatusRetired",
                    "StatusRetired",
                    "StatusRetired",
                    "StatusRetired",
                    "StatusRetired",
                    "StatusRetired",
                    "StatusRetired",
                    "StatusRetired",
                    "StatusRetired",
                    "StatusRetired",
                    "StatusRetired",
                    "StatusRetired",
                    "StatusRetired",
                    "StatusRetired",
                    "StatusRetired",
                    "StatusRetired",
                    "StatusRetired",
                    "StatusRetired",
                    "StatusRetired",
                    "StatusRetired",
                    "StatusRetired",
                    "StatusRetired",
                    "StatusRetired",
                    "StatusRetired",
                    "StatusRetired",
                    "StatusRetired",
                    "StatusRetired",
                    "StatusRetired",
                    "StatusRetired",
                    "StatusRetired",
                    "StatusRetired",
                    "StatusRetired",
                    "StatusRetired",
                    "StatusRetired",
                    "StatusRetired",
                    "StatusRetired",
                    "StatusRetired",
                    "StatusRetired",
                    "StatusRetired",
                    "StatusRetired",
                    "StatusRetired",
                    "StatusRetired",
                    "StatusRetired",
                    "StatusRetired",
                    "StatusRetired",
                    "StatusRetired",
                    "StatusRetired",
                    "StatusRetired",
                    "StatusRetired",
                    "StatusRetired",
                    "StatusRetired",
                    "StatusRetired",
                    "StatusRetired",
                    "StatusRetired",
                    "StatusRetired",
                    "StatusRetired",
                    "StatusRetired",
                    "StatusRetired",
                    "StatusRetired",
                    "StatusRetired",
                    "StatusRetired",
                    "StatusRetired",
                    "StatusRetired",
                    "StatusRetired",
                    "StatusRetired",
                    "StatusRetired",
                    "StatusRetired",
                    "StatusRetired",
                    "StatusRetired",
                    "StatusRetired",
                    "StatusRetired",
                    "StatusActive",
                    "StatusRetired",
                    "StatusRetired",
                    "StatusRetired",
                    "StatusRetired",
                    "StatusRetired",
                    "StatusRetired",
                    "StatusRetired",
                    "StatusRetired",
                    "StatusRetired",
                    "StatusRetired",
                    "StatusRetired",
                    "StatusRetired",
                    "StatusRetired",
                    "StatusRetired",
                    "StatusRetired",
                    "StatusRetired",
                    "StatusRetired",
                    "StatusRetired",
                    "StatusRetired",
                    "StatusRetired",
                    "StatusRetired",
                    "StatusRetired",
                    "StatusRetired",
                    "StatusRetired",
                    "StatusRetired",
                    "StatusRetired",
                    "StatusRetired",
                    "StatusRetired",
                    "StatusRetired",
                    "StatusRetired",
                    "StatusRetired",
                    "StatusRetired",
                    "StatusRetired",
                    "StatusRetired",
                    "StatusRetired",
                    "StatusRetired",
                    "StatusRetired",
                    "StatusRetired",
                    "StatusRetired",
                    "StatusRetired",
                    "StatusRetired",
                    "StatusRetired",
                    "StatusRetired",
                    "StatusRetired",
                    "StatusRetired",
                    "StatusRetired",
                    "StatusRetired",
                    "StatusRetired",
                    "StatusRetired",
                    "StatusRetired",
                    "StatusRetired",
                    "StatusRetired",
                    "StatusRetired",
                    "StatusRetired",
                    "StatusRetired",
                    "StatusRetired",
                    "StatusRetired",
                    "StatusRetired",
                    "StatusRetired",
                    "StatusActive",
                    "StatusRetired",
                    "StatusRetired",
                    "StatusRetired",
                    "StatusRetired",
                    "StatusRetired",
                    "StatusRetired",
                    "StatusRetired",
                    "StatusRetired",
                    "StatusRetired",
                    "StatusRetired",
                    "StatusRetired",
                    "StatusRetired",
                    "StatusRetired",
                    "StatusRetired",
                    "StatusRetired",
                    "StatusRetired",
                    "StatusRetired",
                    "StatusRetired",
                    "StatusRetired",
                    "StatusRetired",
                    "StatusRetired",
                    "StatusRetired",
                    "StatusRetired",
                    "StatusRetired",
                    "StatusRetired",
                    "StatusRetired",
                    "StatusRetired",
                    "StatusRetired",
                    "StatusRetired",
                    "StatusRetired",
                    "StatusRetired",
                    "StatusRetired",
                    "StatusRetired",
                    "StatusRetired",
                    "StatusRetired",
                    "StatusRetired",
                    "StatusRetired",
                    "StatusRetired",
                    "StatusRetired",
                    "StatusRetired",
                    "StatusRetired",
                    "StatusRetired",
                    "StatusRetired",
                    "StatusRetired",
                    "StatusRetired",
                    "StatusRetired",
                    "StatusRetired",
                    "StatusRetired",
                    "StatusRetired",
                    "StatusRetired",
                    "StatusRetired",
                    "StatusRetired",
                    "StatusRetired",
                    "StatusRetired",
                    "StatusRetired",
                    "StatusRetired",
                    "StatusRetired",
                    "StatusRetired",
                    "StatusRetired",
                    "StatusRetired",
                    "StatusRetired",
                    "StatusRetired",
                    "StatusRetired",
                    "StatusRetired",
                    "StatusRetired",
                    "StatusRetired",
                    "StatusRetired",
                    "StatusRetired",
                    "StatusRetired",
                    "StatusRetired",
                    "StatusRetired",
                    "StatusRetired",
                    "StatusRetired",
                    "StatusRetired",
                    "StatusRetired",
                    "StatusRetired",
                    "StatusRetired",
                    "StatusRetired",
                    "StatusRetired",
                    "StatusRetired",
                    "StatusRetired",
                    "StatusRetired",
                    "StatusRetired",
                    "StatusRetired",
                    "StatusRetired",
                    "StatusRetired",
                    "StatusRetired",
                    "StatusRetired",
                    "StatusRetired",
                    "StatusRetired",
                    "StatusRetired",
                    "StatusRetired",
                    "StatusRetired",
                    "StatusRetired",
                    "StatusRetired",
                    "StatusRetired",
                    "StatusRetired",
                    "StatusRetired",
                    "StatusRetired",
                    "StatusRetired",
                    "StatusRetired",
                    "StatusRetired",
                    "StatusRetired",
                    "StatusRetired",
                    "StatusRetired",
                    "StatusRetired",
                    "StatusRetired",
                    "StatusRetired",
                    "StatusRetired",
                    "StatusRetired",
                    "StatusRetired",
                    "StatusRetired",
                    "StatusRetired",
                    "StatusRetired",
                    "StatusRetired",
                    "StatusRetired",
                    "StatusRetired",
                    "StatusRetired",
                    "StatusRetired",
                    "StatusRetired",
                    "StatusRetired",
                    "StatusRetired",
                    "StatusRetired",
                    "StatusRetired",
                    "StatusRetired",
                    "StatusRetired",
                    "StatusRetired",
                    "StatusRetired",
                    "StatusRetired",
                    "StatusRetired",
                    "StatusRetired",
                    "StatusRetired",
                    "StatusRetired",
                    "StatusRetired",
                    "StatusRetired",
                    "StatusRetired",
                    "StatusRetired",
                    "StatusRetired",
                    "StatusRetired",
                    "StatusRetired",
                    "StatusRetired",
                    "StatusRetired",
                    "StatusRetired",
                    "StatusRetired",
                    "StatusRetired",
                    "StatusRetired",
                    "StatusRetired",
                    "StatusRetired",
                    "StatusRetired",
                    "StatusRetired",
                    "StatusRetired",
                    "StatusRetired",
                    "StatusRetired",
                    "StatusRetired",
                    "StatusRetired",
                    "StatusRetired",
                    "StatusRetired",
                    "StatusRetired",
                    "StatusRetired",
                    "StatusRetired",
                    "StatusRetired",
                    "StatusRetired",
                    "StatusRetired",
                    "StatusRetired",
                    "StatusRetired",
                    "StatusRetired",
                    "StatusRetired",
                    "StatusRetired",
                    "StatusRetired",
                    "StatusRetired",
                    "StatusRetired",
                    "StatusRetired",
                    "StatusRetired",
                    "StatusRetired",
                    "StatusRetired",
                    "StatusRetired",
                    "StatusRetired",
                    "StatusRetired",
                    "StatusRetired",
                    "StatusRetired",
                    "StatusRetired",
                    "StatusRetired",
                    "StatusRetired",
                    "StatusRetired",
                    "StatusRetired",
                    "StatusRetired",
                    "StatusRetired",
                    "StatusRetired",
                    "StatusRetired",
                    "StatusRetired",
                    "StatusRetired",
                    "StatusRetired",
                    "StatusRetired",
                    "StatusRetired",
                    "StatusRetired",
                    "StatusRetired",
                    "StatusRetired",
                    "StatusRetired",
                    "StatusRetired",
                    "StatusRetired",
                    "StatusRetired",
                    "StatusRetired",
                    "StatusRetired",
                    "StatusRetired",
                    "StatusRetired",
                    "StatusRetired",
                    "StatusRetired",
                    "StatusRetired",
                    "StatusRetired",
                    "StatusRetired",
                    "StatusRetired",
                    "StatusRetired",
                    "StatusRetired",
                    "StatusRetired",
                    "StatusRetired",
                    "StatusRetired",
                    "StatusRetired",
                    "StatusRetired",
                    "StatusRetired",
                    "StatusRetired",
                    "StatusRetired",
                    "StatusRetired",
                    "StatusRetired",
                    "StatusRetired",
                    "StatusRetired",
                    "StatusRetired",
                    "StatusRetired",
                    "StatusRetired",
                    "StatusRetired",
                    "StatusRetired",
                    "StatusRetired",
                    "StatusRetired",
                    "StatusRetired",
                    "StatusRetired",
                    "StatusRetired",
                    "StatusRetired",
                    "StatusRetired",
                    "StatusRetired",
                    "StatusRetired",
                    "StatusRetired",
                    "StatusRetired",
                    "StatusRetired",
                    "StatusRetired",
                    "StatusRetired",
                    "StatusRetired",
                    "StatusRetired",
                    "StatusRetired",
                    "StatusRetired",
                    "StatusRetired",
                    "StatusRetired",
                    "StatusRetired",
                    "StatusRetired",
                    "StatusRetired",
                    "StatusRetired",
                    "StatusRetired",
                    "StatusRetired",
                    "StatusRetired",
                    "StatusRetired",
                    "StatusRetired",
                    "StatusRetired",
                    "StatusRetired",
                    "StatusRetired",
                    "StatusRetired",
                    "StatusRetired",
                    "StatusRetired",
                    "StatusRetired",
                    "StatusRetired",
                    "StatusRetired",
                    "StatusRetired",
                    "StatusRetired",
                    "StatusRetired",
                    "StatusRetired",
                    "StatusRetired",
                    "StatusRetired",
                    "StatusRetired",
                    "StatusRetired",
                    "StatusRetired",
                    "StatusRetired",
                    "StatusRetired",
                    "StatusRetired",
                    "StatusRetired",
                    "StatusRetired",
                    "StatusRetired",
                    "StatusRetired",
                    "StatusRetired",
                    "StatusRetired",
                    "StatusRetired",
                    "StatusRetired",
                    "StatusRetired",
                    "StatusRetired",
                    "StatusRetired",
                    "StatusRetired",
                    "StatusRetired",
                    "StatusRetired",
                    "StatusRetired",
                    "StatusRetired",
                    "StatusRetired",
                    "StatusRetired",
                    "StatusRetired",
                    "StatusRetired",
                    "StatusRetired",
                    "StatusRetired",
                    "StatusRetired",
                    "StatusRetired",
                    "StatusRetired",
                    "StatusRetired",
                    "StatusRetired",
                    "StatusRetired",
                    "StatusRetired",
                    "StatusRetired",
                    "StatusRetired",
                    "StatusRetired",
                    "StatusRetired",
                    "StatusRetired",
                    "StatusRetired",
                    "StatusRetired",
                    "StatusRetired",
                    "StatusRetired",
                    "StatusRetired",
                    "StatusRetired",
                    "StatusRetired",
                    "StatusRetired",
                    "StatusRetired",
                    "StatusRetired",
                    "StatusRetired",
                    "StatusRetired",
                    "StatusRetired",
                    "StatusRetired",
                    "StatusRetired",
                    "StatusRetired",
                    "StatusRetired",
                    "StatusRetired",
                    "StatusRetired",
                    "StatusRetired",
                    "StatusRetired",
                    "StatusRetired",
                    "StatusRetired",
                    "StatusRetired",
                    "StatusRetired",
                    "StatusRetired",
                    "StatusRetired",
                    "StatusRetired",
                    "StatusRetired",
                    "StatusRetired",
                    "StatusRetired",
                    "StatusRetired",
                    "StatusRetired",
                    "StatusRetired",
                    "StatusRetired",
                    "StatusRetired",
                    "StatusRetired",
                    "StatusRetired",
                    "StatusRetired",
                    "StatusRetired",
                    "StatusRetired",
                    "StatusRetired",
                    "StatusRetired",
                    "StatusRetired",
                    "StatusRetired",
                    "StatusRetired",
                    "StatusRetired",
                    "StatusRetired",
                    "StatusRetired",
                    "StatusRetired",
                    "StatusRetired",
                    "StatusRetired",
                    "StatusRetired",
                    "StatusRetired",
                    "StatusRetired",
                    "StatusRetired",
                    "StatusRetired",
                    "StatusRetired",
                    "StatusRetired",
                    "StatusRetired",
                    "StatusRetired",
                    "StatusRetired",
                    "StatusRetired",
                    "StatusRetired",
                    "StatusRetired",
                    "StatusRetired",
                    "StatusRetired",
                    "StatusRetired",
                    "StatusRetired",
                    "StatusRetired",
                    "StatusRetired",
                    "StatusRetired",
                    "StatusRetired",
                    "StatusRetired",
                    "StatusRetired",
                    "StatusRetired",
                    "StatusRetired",
                    "StatusRetired",
                    "StatusRetired",
                    "StatusRetired",
                    "StatusRetired",
                    "StatusRetired",
                    "StatusRetired",
                    "StatusRetired",
                    "StatusRetired",
                    "StatusRetired",
                    "StatusRetired",
                    "StatusRetired",
                    "StatusRetired",
                    "StatusRetired",
                    "StatusRetired",
                    "StatusRetired",
                    "StatusRetired",
                    "StatusRetired",
                    "StatusRetired",
                    "StatusRetired",
                    "StatusRetired",
                    "StatusRetired",
                    "StatusRetired",
                    "StatusRetired",
                    "StatusRetired",
                    "StatusRetired",
                    "StatusRetired",
                    "StatusRetired",
                    "StatusRetired",
                    "StatusRetired",
                    "StatusRetired",
                    "StatusRetired",
                    "StatusRetired",
                    "StatusRetired",
                    "StatusRetired",
                    "StatusRetired",
                    "StatusRetired",
                    "StatusRetired",
                    "StatusRetired",
                    "StatusRetired",
                    "StatusRetired",
                    "StatusRetired",
                    "StatusRetired",
                    "StatusRetired",
                    "StatusRetired",
                    "StatusRetired",
                    "StatusRetired",
                    "StatusRetired",
                    "StatusRetired",
                    "StatusRetired",
                    "StatusRetired",
                    "StatusRetired",
                    "StatusRetired",
                    "StatusRetired",
                    "StatusRetired",
                    "StatusRetired",
                    "StatusRetired",
                    "StatusRetired",
                    "StatusRetired",
                    "StatusRetired",
                    "StatusRetired",
                    "StatusRetired",
                    "StatusRetired",
                    "StatusRetired",
                    "StatusRetired",
                    "StatusRetired",
                    "StatusRetired",
                    "StatusRetired",
                    "StatusRetired",
                    "StatusRetired",
                    "StatusRetired",
                    "StatusRetired",
                    "StatusRetired",
                    "StatusRetired",
                    "StatusRetired",
                    "StatusRetired",
                    "StatusRetired",
                    "StatusRetired",
                    "StatusRetired",
                    "StatusRetired",
                    "StatusRetired",
                    "StatusRetired",
                    "StatusRetired",
                    "StatusRetired",
                    "StatusRetired",
                    "StatusRetired",
                    "StatusRetired",
                    "StatusRetired",
                    "StatusRetired",
                    "StatusRetired",
                    "StatusRetired",
                    "StatusRetired",
                    "StatusRetired",
                    "StatusRetired",
                    "StatusRetired",
                    "StatusRetired",
                    "StatusRetired",
                    "StatusRetired",
                    "StatusRetired",
                    "StatusRetired",
                    "StatusRetired",
                    "StatusRetired",
                    "StatusRetired",
                    "StatusRetired",
                    "StatusRetired",
                    "StatusRetired",
                    "StatusRetired",
                    "StatusRetired",
                    "StatusRetired",
                    "StatusRetired",
                    "StatusRetired",
                    "StatusRetired",
                    "StatusRetired",
                    "StatusRetired",
                    "StatusRetired",
                    "StatusRetired",
                    "StatusRetired",
                    "StatusRetired",
                    "StatusRetired",
                    "StatusRetired",
                    "StatusRetired",
                    "StatusRetired",
                    "StatusRetired",
                    "StatusRetired",
                    "StatusRetired",
                    "StatusRetired",
                    "StatusRetired",
                    "StatusRetired",
                    "StatusRetired",
                    "StatusRetired",
                    "StatusRetired",
                    "StatusRetired",
                    "StatusRetired",
                    "StatusRetired",
                    "StatusRetired",
                    "StatusRetired",
                    "StatusRetired",
                    "StatusRetired",
                    "StatusRetired",
                    "StatusRetired",
                    "StatusRetired",
                    "StatusRetired",
                    "StatusRetired",
                    "StatusRetired",
                    "StatusRetired",
                    "StatusRetired",
                    "StatusRetired",
                    "StatusRetired",
                    "StatusRetired",
                    "StatusRetired",
                    "StatusRetired",
                    "StatusRetired",
                    "StatusRetired",
                    "StatusRetired",
                    "StatusRetired",
                    "StatusRetired",
                    "StatusRetired",
                    "StatusRetired",
                    "StatusRetired",
                    "StatusRetired",
                    "StatusRetired",
                    "StatusRetired",
                    "StatusRetired",
                    "StatusRetired",
                    "StatusRetired",
                    "StatusRetired",
                    "StatusRetired",
                    "StatusRetired",
                    "StatusRetired",
                    "StatusRetired",
                    "StatusRetired",
                    "StatusRetired",
                    "StatusRetired",
                    "StatusRetired",
                    "StatusRetired",
                    "StatusRetired",
                    "StatusRetired",
                    "StatusRetired",
                    "StatusRetired",
                    "StatusRetired",
                    "StatusRetired",
                    "StatusRetired",
                    "StatusRetired",
                    "StatusRetired",
                    "StatusRetired",
                    "StatusRetired",
                    "StatusRetired",
                    "StatusRetired",
                    "StatusRetired",
                    "StatusRetired",
                    "StatusRetired",
                    "StatusRetired",
                    "StatusRetired",
                    "StatusRetired",
                    "StatusRetired",
                    "StatusRetired",
                    "StatusRetired",
                    "StatusRetired",
                    "StatusRetired",
                    "StatusRetired",
                    "StatusRetired",
                    "StatusRetired",
                    "StatusRetired",
                    "StatusRetired",
                    "StatusRetired",
                    "StatusRetired",
                    "StatusRetired",
                    "StatusRetired",
                    "StatusRetired",
                    "StatusRetired",
                    "StatusRetired",
                    "StatusRetired",
                    "StatusRetired",
                    "StatusRetired",
                    "StatusRetired",
                    "StatusRetired",
                    "StatusRetired",
                    "StatusRetired",
                    "StatusRetired",
                    "StatusRetired",
                    "StatusRetired",
                    "StatusRetired",
                    "StatusRetired",
                    "StatusRetired",
                    "StatusRetired",
                    "StatusRetired",
                    "StatusRetired",
                    "StatusRetired",
                    "StatusRetired",
                    "StatusRetired",
                    "StatusRetired",
                    "StatusRetired",
                    "StatusRetired",
                    "StatusRetired",
                    "StatusRetired",
                    "StatusRetired",
                    "StatusRetired",
                    "StatusRetired",
                    "StatusRetired",
                    "StatusRetired",
                    "StatusRetired",
                    "StatusRetired",
                    "StatusRetired",
                    "StatusRetired",
                    "StatusRetired",
                    "StatusRetired",
                    "StatusRetired",
                    "StatusRetired",
                    "StatusRetired",
                    "StatusRetired",
                    "StatusRetired",
                    "StatusRetired",
                    "StatusRetired",
                    "StatusRetired",
                    "StatusRetired",
                    "StatusRetired",
                    "StatusRetired",
                    "StatusRetired",
                    "StatusRetired",
                    "StatusRetired",
                    "StatusRetired",
                    "StatusRetired",
                    "StatusRetired",
                    "StatusRetired",
                    "StatusRetired",
                    "StatusRetired",
                    "StatusRetired",
                    "StatusRetired",
                    "StatusRetired",
                    "StatusRetired",
                    "StatusRetired",
                    "StatusRetired",
                    "StatusRetired",
                    "StatusRetired",
                    "StatusRetired",
                    "StatusRetired",
                    "StatusRetired",
                    "StatusRetired",
                    "StatusRetired",
                    "StatusRetired",
                    "StatusRetired",
                    "StatusRetired",
                    "StatusRetired",
                    "StatusRetired",
                    "StatusRetired",
                    "StatusRetired",
                    "StatusRetired",
                    "StatusRetired",
                    "StatusRetired",
                    "StatusRetired",
                    "StatusRetired",
                    "StatusRetired",
                    "StatusRetired",
                    "StatusRetired",
                    "StatusRetired",
                    "StatusRetired",
                    "StatusRetired",
                    "StatusRetired",
                    "StatusRetired",
                    "StatusRetired",
                    "StatusRetired",
                    "StatusRetired",
                    "StatusRetired",
                    "StatusRetired",
                    "StatusRetired",
                    "StatusRetired",
                    "StatusRetired",
                    "StatusRetired",
                    "StatusRetired",
                    "StatusRetired",
                    "StatusRetired",
                    "StatusRetired",
                    "StatusRetired",
                    "StatusRetired",
                    "StatusRetired",
                    "StatusRetired",
                    "StatusRetired",
                    "StatusRetired",
                    "StatusRetired",
                    "StatusRetired",
                    "StatusRetired",
                    "StatusRetired",
                    "StatusRetired",
                    "StatusRetired",
                    "StatusRetired",
                    "StatusRetired",
                    "StatusRetired",
                    "StatusRetired",
                    "StatusRetired",
                    "StatusRetired",
                    "StatusRetired",
                    "StatusRetired",
                    "StatusRetired",
                    "StatusRetired",
                    "StatusRetired",
                    "StatusRetired",
                    "StatusRetired",
                    "StatusRetired",
                    "StatusRetired",
                    "StatusRetired",
                    "StatusRetired",
                    "StatusRetired",
                    "StatusRetired",
                    "StatusRetired",
                    "StatusRetired",
                    "StatusRetired",
                    "StatusRetired",
                    "StatusRetired",
                    "StatusRetired",
                    "StatusRetired",
                    "StatusRetired",
                    "StatusRetired",
                    "StatusRetired",
                    "StatusRetired",
                    "StatusRetired",
                    "StatusRetired",
                    "StatusRetired",
                    "StatusRetired",
                    "StatusRetired",
                    "StatusRetired",
                    "StatusRetired",
                    "StatusRetired",
                    "StatusRetired",
                    "StatusRetired",
                    "StatusRetired",
                    "StatusRetired",
                    "StatusRetired",
                    "StatusRetired",
                    "StatusRetired",
                    "StatusRetired",
                    "StatusRetired",
                    "StatusRetired",
                    "StatusRetired",
                    "StatusRetired",
                    "StatusRetired",
                    "StatusRetired",
                    "StatusRetired",
                    "StatusRetired",
                    "StatusRetired",
                    "StatusRetired",
                    "StatusRetired",
                    "StatusRetired",
                    "StatusRetired",
                    "StatusRetired",
                    "StatusRetired",
                    "StatusRetired",
                    "StatusRetired",
                    "StatusRetired",
                    "StatusRetired",
                    "StatusRetired",
                    "StatusRetired",
                    "StatusRetired",
                    "StatusRetired",
                    "StatusRetired",
                    "StatusRetired",
                    "StatusRetired",
                    "StatusRetired",
                    "StatusRetired",
                    "StatusRetired",
                    "StatusRetired",
                    "StatusRetired",
                    "StatusRetired",
                    "StatusRetired",
                    "StatusRetired",
                    "StatusRetired",
                    "StatusRetired",
                    "StatusRetired",
                    "StatusRetired",
                    "StatusRetired",
                    "StatusRetired",
                    "StatusRetired",
                    "StatusRetired",
                    "StatusRetired",
                    "StatusRetired",
                    "StatusRetired",
                    "StatusRetired",
                    "StatusRetired",
                    "StatusRetired",
                    "StatusRetired",
                    "StatusRetired",
                    "StatusRetired",
                    "StatusRetired",
                    "StatusRetired",
                    "StatusRetired",
                    "StatusRetired",
                    "StatusRetired",
                    "StatusRetired",
                    "StatusRetired",
                    "StatusRetired",
                    "StatusRetired",
                    "StatusRetired",
                    "StatusRetired",
                    "StatusRetired",
                    "StatusRetired",
                    "StatusRetired",
                    "StatusRetired",
                    "StatusRetired",
                    "StatusRetired",
                    "StatusRetired",
                    "StatusRetired",
                    "StatusRetired",
                    "StatusRetired",
                    "StatusRetired",
                    "StatusRetired",
                    "StatusRetired",
                    "StatusRetired",
                    "StatusRetired",
                    "StatusRetired",
                    "StatusRetired",
                    "StatusRetired",
                    "StatusRetired",
                    "StatusRetired",
                    "StatusRetired",
                    "StatusRetired",
                    "StatusRetired",
                    "StatusRetired",
                    "StatusRetired",
                    "StatusRetired",
                    "StatusRetired",
                    "StatusRetired",
                    "StatusRetired",
                    "StatusRetired",
                    "StatusRetired",
                    "StatusRetired",
                    "StatusRetired",
                    "StatusRetired",
                    "StatusRetired",
                    "StatusRetired",
                    "StatusRetired",
                    "StatusRetired",
                    "StatusRetired",
                    "StatusRetired",
                    "StatusRetired",
                    "StatusRetired",
                    "StatusRetired",
                    "StatusRetired",
                    "StatusRetired",
                    "StatusRetired",
                    "StatusRetired",
                    "StatusRetired",
                    "StatusRetired",
                    "StatusRetired",
                    "StatusRetired",
                    "StatusRetired",
                    "StatusRetired",
                    "StatusRetired",
                    "StatusRetired",
                    "StatusRetired",
                    "StatusRetired",
                    "StatusRetired",
                    "StatusRetired",
                    "StatusRetired",
                    "StatusRetired",
                    "StatusRetired",
                    "StatusRetired",
                    "StatusRetired",
                    "StatusRetired",
                    "StatusRetired",
                    "StatusRetired",
                    "StatusRetired",
                    "StatusRetired",
                    "StatusRetired",
                    "StatusRetired",
                    "StatusRetired",
                    "StatusRetired",
                    "StatusRetired",
                    "StatusRetired",
                    "StatusRetired",
                    "StatusRetired",
                    "StatusRetired",
                    "StatusRetired",
                    "StatusRetired",
                    "StatusRetired",
                    "StatusRetired",
                    "StatusRetired",
                    "StatusRetired",
                    "StatusRetired",
                    "StatusRetired",
                    "StatusRetired",
                    "StatusRetired",
                    "StatusRetired",
                    "StatusRetired",
                    "StatusRetired",
                    "StatusRetired",
                    "StatusRetired",
                    "StatusRetired",
                    "StatusRetired",
                    "StatusRetired",
                    "StatusRetired",
                    "StatusRetired",
                    "StatusRetired",
                    "StatusRetired",
                    "StatusRetired",
                    "StatusRetired",
                    "StatusRetired",
                    "StatusRetired",
                    "StatusRetired",
                    "StatusRetired",
                    "StatusRetired",
                    "StatusRetired",
                    "StatusRetired",
                    "StatusRetired",
                    "StatusRetired",
                    "StatusRetired",
                    "StatusRetired",
                    "StatusRetired",
                    "StatusRetired",
                    "StatusRetired",
                    "StatusRetired",
                    "StatusRetired",
                    "StatusRetired",
                    "StatusRetired",
                    "StatusRetired",
                    "StatusRetired",
                    "StatusRetired",
                    "StatusRetired",
                    "StatusRetired",
                    "StatusRetired",
                    "StatusRetired",
                    "StatusRetired",
                    "StatusRetired",
                    "StatusRetired",
                    "StatusRetired",
                    "StatusRetired",
                    "StatusRetired",
                    "StatusRetired",
                    "StatusRetired",
                    "StatusRetired",
                    "StatusRetired",
                    "StatusRetired",
                    "StatusRetired",
                    "StatusRetired",
                    "StatusRetired",
                    "StatusRetired",
                    "StatusRetired",
                    "StatusRetired",
                    "StatusRetired",
                    "StatusRetired",
                    "StatusRetired",
                    "StatusRetired",
                    "StatusRetired",
                    "StatusRetired",
                    "StatusRetired",
                    "StatusRetired",
                    "StatusRetired",
                    "StatusRetired",
                    "StatusRetired",
                    "StatusRetired",
                    "StatusRetired",
                    "StatusRetired",
                    "StatusRetired",
                    "StatusRetired",
                    "StatusRetired",
                    "StatusRetired",
                    "StatusRetired",
                    "StatusRetired",
                    "StatusRetired",
                    "StatusRetired",
                    "StatusRetired",
                    "StatusRetired",
                    "StatusRetired",
                    "StatusRetired",
                    "StatusRetired",
                    "StatusRetired",
                    "StatusRetired",
                    "StatusRetired",
                    "StatusRetired",
                    "StatusRetired",
                    "StatusRetired",
                    "StatusRetired",
                    "StatusRetired",
                    "StatusRetired",
                    "StatusRetired",
                    "StatusRetired",
                    "StatusRetired",
                    "StatusRetired",
                    "StatusRetired",
                    "StatusRetired",
                    "StatusRetired",
                    "StatusRetired",
                    "StatusRetired",
                    "StatusRetired",
                    "StatusRetired",
                    "StatusRetired",
                    "StatusRetired",
                    "StatusRetired",
                    "StatusRetired",
                    "StatusRetired",
                    "StatusRetired",
                    "StatusRetired",
                    "StatusRetired",
                    "StatusRetired",
                    "StatusRetired",
                    "StatusRetired",
                    "StatusRetired",
                    "StatusRetired",
                    "StatusRetired",
                    "StatusRetired",
                    "StatusRetired",
                    "StatusRetired",
                    "StatusRetired",
                    "StatusRetired",
                    "StatusRetired",
                    "StatusRetired",
                    "StatusRetired",
                    "StatusRetired",
                    "StatusRetired",
                    "StatusRetired",
                    "StatusRetired",
                    "StatusRetired",
                    "StatusRetired",
                    "StatusRetired",
                    "StatusRetired",
                    "StatusRetired",
                    "StatusRetired",
                    "StatusRetired",
                    "StatusRetired",
                    "StatusRetired",
                    "StatusRetired",
                    "StatusRetired",
                    "StatusRetired",
                    "StatusRetired",
                    "StatusRetired",
                    "StatusRetired",
                    "StatusRetired",
                    "StatusRetired",
                    "StatusRetired",
                    "StatusRetired",
                    "StatusRetired",
                    "StatusRetired",
                    "StatusRetired",
                    "StatusRetired",
                    "StatusRetired",
                    "StatusRetired",
                    "StatusRetired",
                    "StatusRetired",
                    "StatusRetired",
                    "StatusRetired",
                    "StatusRetired",
                    "StatusRetired",
                    "StatusRetired",
                    "StatusRetired",
                    "StatusRetired",
                    "StatusRetired",
                    "StatusRetired",
                    "StatusRetired",
                    "StatusRetired",
                    "StatusRetired",
                    "StatusRetired",
                    "StatusRetired",
                    "StatusRetired",
                    "StatusRetired",
                    "StatusRetired",
                    "StatusRetired",
                    "StatusRetired",
                    "StatusRetired",
                    "StatusRetired",
                    "StatusRetired",
                    "StatusRetired",
                    "StatusRetired",
                    "StatusRetired",
                    "StatusRetired",
                    "StatusRetired",
                    "StatusRetired",
                    "StatusRetired",
                    "StatusRetired",
                    "StatusRetired",
                    "StatusRetired",
                    "StatusRetired",
                    "StatusRetired",
                    "StatusRetired",
                    "StatusRetired",
                    "StatusRetired",
                    "StatusRetired",
                    "StatusRetired",
                    "StatusRetired",
                    "StatusRetired",
                    "StatusRetired",
                    "StatusRetired",
                    "StatusRetired",
                    "StatusRetired",
                    "StatusRetired",
                    "StatusRetired",
                    "StatusRetired",
                    "StatusRetired",
                    "StatusRetired",
                    "StatusRetired",
                    "StatusRetired",
                    "StatusRetired",
                    "StatusRetired",
                    "StatusRetired",
                    "StatusRetired",
                    "StatusRetired",
                    "StatusRetired",
                    "StatusRetired",
                    "StatusRetired",
                    "StatusRetired",
                    "StatusRetired",
                    "StatusRetired",
                    "StatusRetired",
                    "StatusRetired",
                    "StatusRetired",
                    "StatusRetired",
                    "StatusRetired",
                    "StatusRetired",
                    "StatusRetired",
                    "StatusRetired",
                    "StatusRetired",
                    "StatusRetired",
                    "StatusRetired",
                    "StatusRetired",
                    "StatusRetired",
                    "StatusRetired",
                    "StatusRetired",
                    "StatusRetired",
                    "StatusRetired",
                    "StatusRetired",
                    "StatusRetired",
                    "StatusRetired",
                    "StatusRetired",
                    "StatusRetired",
                    "StatusRetired",
                    "StatusRetired",
                    "StatusRetired",
                    "StatusRetired",
                    "StatusRetired",
                    "StatusRetired",
                    "StatusRetired",
                    "StatusRetired",
                    "StatusRetired",
                    "StatusRetired",
                    "StatusRetired",
                    "StatusRetired",
                    "StatusRetired",
                    "StatusRetired",
                    "StatusRetired",
                    "StatusRetired",
                    "StatusRetired",
                    "StatusRetired",
                    "StatusRetired",
                    "StatusRetired",
                    "StatusRetired",
                    "StatusRetired",
                    "StatusRetired",
                    "StatusRetired",
                    "StatusRetired",
                    "StatusRetired",
                    "StatusRetired",
                    "StatusRetired",
                    "StatusRetired",
                    "StatusRetired",
                    "StatusRetired",
                    "StatusRetired",
                    "StatusRetired",
                    "StatusRetired",
                    "StatusRetired",
                    "StatusRetired",
                    "StatusRetired",
                    "StatusRetired",
                    "StatusRetired",
                    "StatusRetired",
                    "StatusRetired",
                    "StatusRetired",
                    "StatusRetired",
                    "StatusRetired",
                    "StatusRetired",
                    "StatusRetired",
                    "StatusRetired",
                    "StatusRetired",
                    "StatusRetired",
                    "StatusRetired",
                    "StatusRetired",
                    "StatusRetired",
                    "StatusRetired",
                    "StatusRetired",
                    "StatusRetired",
                    "StatusRetired",
                    "StatusRetired",
                    "StatusRetired",
                    "StatusRetired",
                    "StatusRetired",
                    "StatusRetired",
                    "StatusRetired",
                    "StatusRetired",
                    "StatusRetired",
                    "StatusRetired",
                    "StatusRetired",
                    "StatusRetired",
                    "StatusRetired",
                    "StatusRetired",
                    "StatusRetired",
                    "StatusRetired",
                    "StatusRetired",
                    "StatusRetired",
                    "StatusRetired",
                    "StatusRetired",
                    "StatusRetired",
                    "StatusRetired",
                    "StatusRetired",
                    "StatusRetired",
                    "StatusRetired",
                    "StatusRetired",
                    "StatusRetired",
                    "StatusRetired",
                    "StatusRetired",
                    "StatusRetired",
                    "StatusRetired",
                    "StatusRetired",
                    "StatusRetired",
                    "StatusRetired",
                    "StatusRetired",
                    "StatusRetired",
                    "StatusRetired",
                    "StatusRetired",
                    "StatusRetired",
                    "StatusRetired",
                    "StatusRetired",
                    "StatusRetired",
                    "StatusRetired",
                    "StatusRetired",
                    "StatusRetired",
                    "StatusRetired",
                    "StatusRetired",
                    "StatusRetired",
                    "StatusRetired",
                    "StatusRetired",
                    "StatusRetired",
                    "StatusRetired",
                    "StatusRetired",
                    "StatusRetired",
                    "StatusRetired",
                    "StatusRetired",
                    "StatusRetired",
                    "StatusRetired",
                    "StatusRetired",
                    "StatusRetired",
                    "StatusRetired",
                    "StatusRetired",
                    "StatusRetired",
                    "StatusRetired",
                    "StatusRetired",
                    "StatusRetired",
                    "StatusRetired",
                    "StatusRetired",
                    "StatusRetired",
                    "StatusRetired",
                    "StatusRetired",
                    "StatusRetired",
                    "StatusRetired",
                    "StatusRetired",
                    "StatusRetired",
                    "StatusRetired",
                    "StatusRetired",
                    "StatusRetired",
                    "StatusRetired",
                    "StatusRetired",
                    "StatusRetired",
                    "StatusRetired",
                    "StatusRetired",
                    "StatusRetired",
                    "StatusRetired",
                    "StatusRetired",
                    "StatusRetired",
                    "StatusRetired",
                    "StatusRetired",
                    "StatusRetired",
                    "StatusRetired",
                    "StatusRetired",
                    "StatusRetired",
                    "StatusRetired",
                    "StatusRetired",
                    "StatusRetired",
                    "StatusRetired",
                    "StatusRetired",
                    "StatusRetired",
                    "StatusRetired",
                    "StatusRetired",
                    "StatusRetired",
                    "StatusRetired",
                    "StatusRetired",
                    "StatusRetired",
                    "StatusRetired",
                    "StatusRetired",
                    "StatusRetired",
                    "StatusRetired",
                    "StatusRetired",
                    "StatusRetired",
                    "StatusRetired",
                    "StatusRetired",
                    "StatusRetired",
                    "StatusRetired",
                    "StatusRetired",
                    "StatusRetired",
                    "StatusRetired",
                    "StatusRetired",
                    "StatusRetired",
                    "StatusRetired",
                    "StatusRetired",
                    "StatusRetired",
                    "StatusRetired",
                    "StatusRetired",
                    "StatusRetired",
                    "StatusRetired",
                    "StatusRetired",
                    "StatusRetired",
                    "StatusRetired",
                    "StatusRetired",
                    "StatusRetired",
                    "StatusRetired",
                    "StatusRetired",
                    "StatusRetired",
                    "StatusRetired",
                    "StatusRetired",
                    "StatusRetired",
                    "StatusRetired",
                    "StatusRetired",
                    "StatusRetired",
                    "StatusRetired",
                    "StatusRetired",
                    "StatusRetired",
                    "StatusRetired",
                    "StatusRetired",
                    "StatusRetired",
                    "StatusRetired",
                    "StatusRetired",
                    "StatusRetired",
                    "StatusRetired",
                    "StatusRetired",
                    "StatusRetired",
                    "StatusRetired",
                    "StatusRetired",
                    "StatusRetired",
                    "StatusRetired",
                    "StatusRetired",
                    "StatusRetired",
                    "StatusRetired",
                    "StatusRetired",
                    "StatusRetired",
                    "StatusRetired",
                    "StatusRetired",
                    "StatusRetired",
                    "StatusRetired",
                    "StatusRetired",
                    "StatusRetired",
                    "StatusRetired",
                    "StatusRetired",
                    "StatusRetired",
                    "StatusRetired",
                    "StatusRetired",
                    "StatusRetired",
                    "StatusRetired",
                    "StatusRetired",
                    "StatusRetired",
                    "StatusRetired",
                    "StatusRetired",
                    "StatusRetired",
                    "StatusRetired",
                    "StatusRetired",
                    "StatusRetired",
                    "StatusRetired",
                    "StatusRetired",
                    "StatusRetired",
                    "StatusRetired",
                    "StatusRetired",
                    "StatusRetired",
                    "StatusRetired",
                    "StatusRetired",
                    "StatusRetired",
                    "StatusRetired",
                    "StatusRetired",
                    "StatusRetired",
                    "StatusRetired",
                    "StatusRetired",
                    "StatusRetired",
                    "StatusRetired",
                    "StatusRetired",
                    "StatusRetired",
                    "StatusRetired",
                    "StatusRetired",
                    "StatusRetired",
                    "StatusRetired",
                    "StatusRetired",
                    "StatusRetired",
                    "StatusRetired",
                    "StatusRetired",
                    "StatusRetired",
                    "StatusRetired",
                    "StatusRetired",
                    "StatusRetired",
                    "StatusRetired",
                    "StatusRetired",
                    "StatusRetired",
                    "StatusRetired",
                    "StatusRetired",
                    "StatusRetired",
                    "StatusRetired",
                    "StatusRetired",
                    "StatusRetired",
                    "StatusRetired",
                    "StatusRetired",
                    "StatusRetired",
                    "StatusRetired",
                    "StatusRetired",
                    "StatusRetired",
                    "StatusRetired",
                    "StatusRetired",
                    "StatusRetired",
                    "StatusRetired",
                    "StatusRetired",
                    "StatusRetired",
                    "StatusRetired",
                    "StatusRetired",
                    "StatusRetired",
                    "StatusRetired",
                    "StatusRetired",
                    "StatusRetired",
                    "StatusRetired",
                    "StatusRetired",
                    "StatusRetired",
                    "StatusRetired",
                    "StatusRetired",
                    "StatusRetired",
                    "StatusRetired",
                    "StatusRetired",
                    "StatusRetired",
                    "StatusRetired",
                    "StatusRetired",
                    "StatusRetired",
                    "StatusRetired",
                    "StatusRetired",
                    "StatusRetired",
                    "StatusRetired",
                    "StatusRetired",
                    "StatusRetired",
                    "StatusRetired",
                    "StatusRetired",
                    "StatusRetired",
                    "StatusRetired",
                    "StatusRetired",
                    "StatusRetired",
                    "StatusRetired",
                    "StatusRetired",
                    "StatusRetired",
                    "StatusRetired",
                    "StatusRetired",
                    "StatusRetired",
                    "StatusRetired",
                    "StatusRetired",
                    "StatusRetired",
                    "StatusRetired",
                    "StatusRetired",
                    "StatusRetired",
                    "StatusRetired",
                    "StatusRetired",
                    "StatusRetired",
                    "StatusRetired",
                    "StatusRetired",
                    "StatusRetired",
                    "StatusRetired",
                    "StatusRetired",
                    "StatusRetired",
                    "StatusRetired",
                    "StatusRetired",
                    "StatusRetired",
                    "StatusRetired",
                    "StatusRetired",
                    "StatusRetired",
                    "StatusRetired",
                    "StatusRetired",
                    "StatusRetired",
                    "StatusRetired",
                    "StatusRetired",
                    "StatusRetired",
                    "StatusRetired",
                    "StatusRetired",
                    "StatusRetired",
                    "StatusRetired",
                    "StatusRetired",
                    "StatusRetired",
                    "StatusRetired",
                    "StatusRetired",
                    "StatusRetired",
                    "StatusRetired",
                    "StatusRetired",
                    "StatusRetired",
                    "StatusRetired",
                    "StatusRetired",
                    "StatusRetired",
                    "StatusRetired",
                    "StatusRetired",
                    "StatusRetired",
                    "StatusRetired",
                    "StatusRetired",
                    "StatusRetired",
                    "StatusRetired",
                    "StatusRetired",
                    "StatusRetired",
                    "StatusRetired",
                    "StatusRetired",
                    "StatusRetired",
                    "StatusRetired",
                    "StatusRetired",
                    "StatusRetired",
                    "StatusRetired",
                    "StatusRetired",
                    "StatusRetired",
                    "StatusRetired",
                    "StatusRetired",
                    "StatusRetired",
                    "StatusRetired",
                    "StatusRetired",
                    "StatusRetired",
                    "StatusRetired",
                    "StatusRetired",
                    "StatusRetired",
                    "StatusRetired",
                    "StatusRetired",
                    "StatusRetired",
                    "StatusRetired",
                    "StatusRetired",
                    "StatusRetired",
                    "StatusRetired",
                    "StatusRetired",
                    "StatusRetired",
                    "StatusRetired",
                    "StatusRetired",
                    "StatusRetired",
                    "StatusRetired",
                    "StatusRetired",
                    "StatusRetired",
                    "StatusRetired",
                    "StatusRetired",
                    "StatusRetired",
                    "StatusRetired",
                    "StatusRetired",
                    "StatusRetired",
                    "StatusRetired",
                    "StatusRetired",
                    "StatusRetired",
                    "StatusRetired",
                    "StatusRetired",
                    "StatusRetired",
                    "StatusRetired",
                    "StatusRetired",
                    "StatusRetired",
                    "StatusRetired",
                    "StatusRetired",
                    "StatusRetired",
                    "StatusRetired",
                    "StatusRetired",
                    "StatusRetired",
                    "StatusRetired",
                    "StatusRetired",
                    "StatusRetired",
                    "StatusRetired",
                    "StatusRetired",
                    "StatusRetired",
                    "StatusRetired",
                    "StatusRetired",
                    "StatusRetired",
                    "StatusRetired",
                    "StatusRetired",
                    "StatusRetired",
                    "StatusRetired",
                    "StatusRetired",
                    "StatusRetired",
                    "StatusRetired",
                    "StatusRetired",
                    "StatusRetired",
                    "StatusRetired",
                    "StatusRetired",
                    "StatusRetired",
                    "StatusRetired",
                    "StatusRetired",
                    "StatusRetired",
                    "StatusRetired",
                    "StatusRetired",
                    "StatusRetired",
                    "StatusRetired",
                    "StatusRetired",
                    "StatusRetired",
                    "StatusRetired",
                    "StatusRetired",
                    "StatusRetired",
                    "StatusRetired",
                    "StatusRetired",
                    "StatusRetired",
                    "StatusRetired",
                    "StatusRetired",
                    "StatusRetired",
                    "StatusRetired",
                    "StatusRetired",
                    "StatusRetired",
                    "StatusRetired",
                    "StatusRetired",
                    "StatusRetired",
                    "StatusRetired",
                    "StatusRetired",
                    "StatusRetired",
                    "StatusRetired",
                    "StatusRetired",
                    "StatusRetired",
                    "StatusRetired",
                    "StatusRetired",
                    "StatusRetired",
                    "StatusRetired",
                    "StatusRetired",
                    "StatusRetired",
                    "StatusRetired",
                    "StatusRetired",
                    "StatusRetired",
                    "StatusRetired",
                    "StatusRetired",
                    "StatusRetired",
                    "StatusRetired",
                    "StatusRetired",
                    "StatusRetired",
                    "StatusRetired",
                    "StatusRetired",
                    "StatusRetired",
                    "StatusRetired",
                    "StatusRetired",
                    "StatusRetired",
                    "StatusRetired",
                    "StatusRetired",
                    "StatusRetired",
                    "StatusRetired",
                    "StatusRetired",
                    "StatusRetired",
                    "StatusRetired",
                    "StatusRetired",
                    "StatusRetired",
                    "StatusRetired",
                    "StatusRetired",
                    "StatusRetired",
                    "StatusRetired",
                    "StatusRetired",
                    "StatusRetired",
                    "StatusRetired",
                    "StatusRetired",
                    "StatusRetired",
                    "StatusRetired",
                    "StatusRetired",
                    "StatusRetired",
                    "StatusRetired",
                    "StatusRetired",
                    "StatusRetired",
                    "StatusRetired",
                    "StatusRetired",
                    "StatusRetired",
                    "StatusRetired",
                    "StatusRetired",
                    "StatusRetired",
                    "StatusRetired",
                    "StatusRetired",
                    "StatusRetired",
                    "StatusRetired",
                    "StatusRetired",
                    "StatusRetired",
                    "StatusRetired",
                    "StatusRetired",
                    "StatusRetired",
                    "StatusRetired",
                    "StatusRetired",
                    "StatusRetired",
                    "StatusRetired",
                    "StatusRetired",
                    "StatusRetired",
                    "StatusRetired",
                    "StatusRetired",
                    "StatusRetired",
                    "StatusRetired",
                    "StatusRetired",
                    "StatusRetired",
                    "StatusRetired",
                    "StatusRetired",
                    "StatusRetired",
                    "StatusRetired",
                    "StatusRetired",
                    "StatusRetired",
                    "StatusRetired",
                    "StatusRetired",
                    "StatusRetired",
                    "StatusRetired",
                    "StatusRetired",
                    "StatusRetired",
                    "StatusRetired",
                    "StatusRetired",
                    "StatusRetired",
                    "StatusRetired",
                    "StatusRetired",
                    "StatusRetired",
                    "StatusRetired",
                    "StatusRetired",
                    "StatusRetired",
                    "StatusRetired",
                    "StatusRetired",
                    "StatusRetired",
                    "StatusRetired",
                    "StatusRetired",
                    "StatusRetired",
                    "StatusRetired",
                    "StatusRetired",
                    "StatusRetired",
                    "StatusRetired",
                    "StatusRetired",
                    "StatusRetired",
                    "StatusRetired",
                    "StatusRetired",
                    "StatusRetired",
                    "StatusRetired",
                    "StatusRetired",
                    "StatusRetired",
                    "StatusRetired",
                    "StatusRetired",
                    "StatusRetired",
                    "StatusRetired",
                    "StatusRetired",
                    "StatusRetired",
                    "StatusRetired",
                    "StatusRetired",
                    "StatusRetired",
                    "StatusRetired",
                    "StatusRetired",
                    "StatusRetired",
                    "StatusRetired",
                    "StatusRetired",
                    "StatusRetired",
                    "StatusRetired",
                    "StatusRetired",
                    "StatusRetired",
                    "StatusRetired",
                    "StatusRetired",
                    "StatusRetired",
                    "StatusRetired",
                    "StatusRetired",
                    "StatusRetired",
                    "StatusRetired",
                    "StatusRetired",
                    "StatusRetired",
                    "StatusRetired",
                    "StatusRetired",
                    "StatusRetired",
                    "StatusRetired",
                    "StatusRetired",
                    "StatusRetired",
                    "StatusRetired",
                    "StatusRetired",
                    "StatusRetired",
                    "StatusRetired",
                    "StatusRetired",
                    "StatusRetired",
                    "StatusRetired",
                    "StatusRetired",
                    "StatusRetired",
                    "StatusRetired",
                    "StatusRetired",
                    "StatusRetired",
                    "StatusRetired",
                    "StatusRetired",
                    "StatusRetired",
                    "StatusRetired",
                    "StatusRetired",
                    "StatusRetired",
                    "StatusRetired",
                    "StatusRetired",
                    "StatusRetired",
                    "StatusRetired",
                    "StatusRetired",
                    "StatusRetired",
                    "StatusRetired",
                    "StatusRetired",
                    "StatusRetired",
                    "StatusRetired",
                    "StatusRetired",
                    "StatusRetired",
                    "StatusRetired",
                    "StatusRetired",
                    "StatusRetired",
                    "StatusRetired",
                    "StatusRetired",
                    "StatusRetired",
                    "StatusRetired",
                    "StatusRetired",
                    "StatusRetired",
                    "StatusRetired",
                    "StatusRetired",
                    "StatusRetired",
                    "StatusRetired",
                    "StatusRetired",
                    "StatusRetired",
                    "StatusRetired",
                    "StatusRetired",
                    "StatusRetired",
                    "StatusRetired",
                    "StatusRetired",
                    "StatusRetired",
                    "StatusRetired",
                    "StatusRetired",
                    "StatusRetired",
                    "StatusRetired",
                    "StatusRetired",
                    "StatusRetired",
                    "StatusRetired",
                    "StatusRetired",
                    "StatusRetired",
                    "StatusRetired",
                    "StatusRetired",
                    "StatusRetired",
                    "StatusRetired",
                    "StatusRetired",
                    "StatusRetired",
                    "StatusRetired",
                    "StatusRetired",
                    "StatusRetired",
                    "StatusRetired",
                    "StatusRetired",
                    "StatusRetired",
                    "StatusRetired",
                    "StatusRetired",
                    "StatusRetired",
                    "StatusRetired",
                    "StatusRetired",
                    "StatusRetired",
                    "StatusRetired",
                    "StatusRetired",
                    "StatusRetired",
                    "StatusRetired",
                    "StatusRetired",
                    "StatusRetired",
                    "StatusRetired",
                    "StatusRetired",
                    "StatusRetired",
                    "StatusRetired",
                    "StatusRetired",
                    "StatusRetired",
                    "StatusRetired",
                    "StatusRetired",
                    "StatusRetired",
                    "StatusRetired",
                    "StatusRetired",
                    "StatusRetired",
                    "StatusRetired",
                    "StatusRetired",
                    "StatusRetired",
                    "StatusRetired",
                    "StatusRetired",
                    "StatusRetired",
                    "StatusRetired",
                    "StatusRetired",
                    "StatusRetired",
                    "StatusRetired",
                    "StatusRetired",
                    "StatusRetired",
                    "StatusRetired",
                    "StatusRetired",
                    "StatusRetired",
                    "StatusRetired",
                    "StatusRetired",
                    "StatusRetired",
                    "StatusRetired",
                    "StatusRetired",
                    "StatusRetired",
                    "StatusRetired",
                    "StatusRetired",
                    "StatusRetired",
                    "StatusRetired",
                    "StatusRetired",
                    "StatusRetired",
                    "StatusRetired",
                    "StatusRetired",
                    "StatusRetired",
                    "StatusRetired",
                    "StatusRetired",
                    "StatusRetired",
                    "StatusRetired",
                    "StatusRetired",
                    "StatusRetired",
                    "StatusRetired",
                    "StatusRetired",
                    "StatusRetired",
                    "StatusRetired",
                    "StatusRetired",
                    "StatusRetired",
                    "StatusRetired",
                    "StatusRetired",
                    "StatusRetired",
                    "StatusRetired",
                    "StatusRetired",
                    "StatusRetired",
                    "StatusRetired",
                    "StatusRetired",
                    "StatusRetired",
                    "StatusRetired",
                    "StatusRetired",
                    "StatusRetired",
                    "StatusRetired",
                    "StatusRetired",
                    "StatusRetired",
                    "StatusRetired",
                    "StatusRetired",
                    "StatusRetired",
                    "StatusRetired",
                    "StatusRetired",
                    "StatusRetired",
                    "StatusRetired",
                    "StatusRetired",
                    "StatusRetired",
                    "StatusRetired",
                    "StatusRetired",
                    "StatusRetired",
                    "StatusRetired",
                    "StatusRetired",
                    "StatusRetired",
                    "StatusRetired",
                    "StatusRetired",
                    "StatusRetired",
                    "StatusRetired",
                    "StatusRetired",
                    "StatusRetired",
                    "StatusRetired",
                    "StatusRetired",
                    "StatusRetired",
                    "StatusRetired",
                    "StatusRetired",
                    "StatusRetired",
                    "StatusRetired",
                    "StatusRetired",
                    "StatusRetired",
                    "StatusRetired",
                    "StatusRetired",
                    "StatusRetired",
                    "StatusRetired",
                    "StatusRetired",
                    "StatusRetired",
                    "StatusRetired",
                    "StatusRetired",
                    "StatusRetired",
                    "StatusRetired",
                    "StatusRetired",
                    "StatusRetired",
                    "StatusRetired",
                    "StatusRetired",
                    "StatusRetired",
                    "StatusRetired",
                    "StatusRetired",
                    "StatusRetired",
                    "StatusRetired",
                    "StatusRetired",
                    "StatusRetired",
                    "StatusRetired",
                    "StatusRetired",
                    "StatusRetired",
                    "StatusRetired",
                    "StatusRetired",
                    "StatusRetired",
                    "StatusRetired",
                    "StatusRetired",
                    "StatusRetired",
                    "StatusRetired",
                    "StatusRetired",
                    "StatusRetired",
                    "StatusRetired",
                    "StatusRetired",
                    "StatusRetired",
                    "StatusRetired",
                    "StatusRetired",
                    "StatusRetired",
                    "StatusRetired",
                    "StatusRetired",
                    "StatusRetired",
                    "StatusRetired",
                    "StatusRetired",
                    "StatusRetired",
                    "StatusRetired",
                    "StatusRetired",
                    "StatusRetired",
                    "StatusRetired",
                    "StatusRetired",
                    "StatusRetired",
                    "StatusRetired",
                    "StatusRetired",
                    "StatusRetired",
                    "StatusRetired"
                  ],
                  "legendgroup": "",
                  "name": "",
                  "showlegend": true,
                  "type": "pie"
                }
              ],
              "layout": {
                "legend": {
                  "tracegroupgap": 0
                },
                "template": {
                  "data": {
                    "bar": [
                      {
                        "error_x": {
                          "color": "#2a3f5f"
                        },
                        "error_y": {
                          "color": "#2a3f5f"
                        },
                        "marker": {
                          "line": {
                            "color": "#E5ECF6",
                            "width": 0.5
                          },
                          "pattern": {
                            "fillmode": "overlay",
                            "size": 10,
                            "solidity": 0.2
                          }
                        },
                        "type": "bar"
                      }
                    ],
                    "barpolar": [
                      {
                        "marker": {
                          "line": {
                            "color": "#E5ECF6",
                            "width": 0.5
                          },
                          "pattern": {
                            "fillmode": "overlay",
                            "size": 10,
                            "solidity": 0.2
                          }
                        },
                        "type": "barpolar"
                      }
                    ],
                    "carpet": [
                      {
                        "aaxis": {
                          "endlinecolor": "#2a3f5f",
                          "gridcolor": "white",
                          "linecolor": "white",
                          "minorgridcolor": "white",
                          "startlinecolor": "#2a3f5f"
                        },
                        "baxis": {
                          "endlinecolor": "#2a3f5f",
                          "gridcolor": "white",
                          "linecolor": "white",
                          "minorgridcolor": "white",
                          "startlinecolor": "#2a3f5f"
                        },
                        "type": "carpet"
                      }
                    ],
                    "choropleth": [
                      {
                        "colorbar": {
                          "outlinewidth": 0,
                          "ticks": ""
                        },
                        "type": "choropleth"
                      }
                    ],
                    "contour": [
                      {
                        "colorbar": {
                          "outlinewidth": 0,
                          "ticks": ""
                        },
                        "colorscale": [
                          [
                            0,
                            "#0d0887"
                          ],
                          [
                            0.1111111111111111,
                            "#46039f"
                          ],
                          [
                            0.2222222222222222,
                            "#7201a8"
                          ],
                          [
                            0.3333333333333333,
                            "#9c179e"
                          ],
                          [
                            0.4444444444444444,
                            "#bd3786"
                          ],
                          [
                            0.5555555555555556,
                            "#d8576b"
                          ],
                          [
                            0.6666666666666666,
                            "#ed7953"
                          ],
                          [
                            0.7777777777777778,
                            "#fb9f3a"
                          ],
                          [
                            0.8888888888888888,
                            "#fdca26"
                          ],
                          [
                            1,
                            "#f0f921"
                          ]
                        ],
                        "type": "contour"
                      }
                    ],
                    "contourcarpet": [
                      {
                        "colorbar": {
                          "outlinewidth": 0,
                          "ticks": ""
                        },
                        "type": "contourcarpet"
                      }
                    ],
                    "heatmap": [
                      {
                        "colorbar": {
                          "outlinewidth": 0,
                          "ticks": ""
                        },
                        "colorscale": [
                          [
                            0,
                            "#0d0887"
                          ],
                          [
                            0.1111111111111111,
                            "#46039f"
                          ],
                          [
                            0.2222222222222222,
                            "#7201a8"
                          ],
                          [
                            0.3333333333333333,
                            "#9c179e"
                          ],
                          [
                            0.4444444444444444,
                            "#bd3786"
                          ],
                          [
                            0.5555555555555556,
                            "#d8576b"
                          ],
                          [
                            0.6666666666666666,
                            "#ed7953"
                          ],
                          [
                            0.7777777777777778,
                            "#fb9f3a"
                          ],
                          [
                            0.8888888888888888,
                            "#fdca26"
                          ],
                          [
                            1,
                            "#f0f921"
                          ]
                        ],
                        "type": "heatmap"
                      }
                    ],
                    "heatmapgl": [
                      {
                        "colorbar": {
                          "outlinewidth": 0,
                          "ticks": ""
                        },
                        "colorscale": [
                          [
                            0,
                            "#0d0887"
                          ],
                          [
                            0.1111111111111111,
                            "#46039f"
                          ],
                          [
                            0.2222222222222222,
                            "#7201a8"
                          ],
                          [
                            0.3333333333333333,
                            "#9c179e"
                          ],
                          [
                            0.4444444444444444,
                            "#bd3786"
                          ],
                          [
                            0.5555555555555556,
                            "#d8576b"
                          ],
                          [
                            0.6666666666666666,
                            "#ed7953"
                          ],
                          [
                            0.7777777777777778,
                            "#fb9f3a"
                          ],
                          [
                            0.8888888888888888,
                            "#fdca26"
                          ],
                          [
                            1,
                            "#f0f921"
                          ]
                        ],
                        "type": "heatmapgl"
                      }
                    ],
                    "histogram": [
                      {
                        "marker": {
                          "pattern": {
                            "fillmode": "overlay",
                            "size": 10,
                            "solidity": 0.2
                          }
                        },
                        "type": "histogram"
                      }
                    ],
                    "histogram2d": [
                      {
                        "colorbar": {
                          "outlinewidth": 0,
                          "ticks": ""
                        },
                        "colorscale": [
                          [
                            0,
                            "#0d0887"
                          ],
                          [
                            0.1111111111111111,
                            "#46039f"
                          ],
                          [
                            0.2222222222222222,
                            "#7201a8"
                          ],
                          [
                            0.3333333333333333,
                            "#9c179e"
                          ],
                          [
                            0.4444444444444444,
                            "#bd3786"
                          ],
                          [
                            0.5555555555555556,
                            "#d8576b"
                          ],
                          [
                            0.6666666666666666,
                            "#ed7953"
                          ],
                          [
                            0.7777777777777778,
                            "#fb9f3a"
                          ],
                          [
                            0.8888888888888888,
                            "#fdca26"
                          ],
                          [
                            1,
                            "#f0f921"
                          ]
                        ],
                        "type": "histogram2d"
                      }
                    ],
                    "histogram2dcontour": [
                      {
                        "colorbar": {
                          "outlinewidth": 0,
                          "ticks": ""
                        },
                        "colorscale": [
                          [
                            0,
                            "#0d0887"
                          ],
                          [
                            0.1111111111111111,
                            "#46039f"
                          ],
                          [
                            0.2222222222222222,
                            "#7201a8"
                          ],
                          [
                            0.3333333333333333,
                            "#9c179e"
                          ],
                          [
                            0.4444444444444444,
                            "#bd3786"
                          ],
                          [
                            0.5555555555555556,
                            "#d8576b"
                          ],
                          [
                            0.6666666666666666,
                            "#ed7953"
                          ],
                          [
                            0.7777777777777778,
                            "#fb9f3a"
                          ],
                          [
                            0.8888888888888888,
                            "#fdca26"
                          ],
                          [
                            1,
                            "#f0f921"
                          ]
                        ],
                        "type": "histogram2dcontour"
                      }
                    ],
                    "mesh3d": [
                      {
                        "colorbar": {
                          "outlinewidth": 0,
                          "ticks": ""
                        },
                        "type": "mesh3d"
                      }
                    ],
                    "parcoords": [
                      {
                        "line": {
                          "colorbar": {
                            "outlinewidth": 0,
                            "ticks": ""
                          }
                        },
                        "type": "parcoords"
                      }
                    ],
                    "pie": [
                      {
                        "automargin": true,
                        "type": "pie"
                      }
                    ],
                    "scatter": [
                      {
                        "fillpattern": {
                          "fillmode": "overlay",
                          "size": 10,
                          "solidity": 0.2
                        },
                        "type": "scatter"
                      }
                    ],
                    "scatter3d": [
                      {
                        "line": {
                          "colorbar": {
                            "outlinewidth": 0,
                            "ticks": ""
                          }
                        },
                        "marker": {
                          "colorbar": {
                            "outlinewidth": 0,
                            "ticks": ""
                          }
                        },
                        "type": "scatter3d"
                      }
                    ],
                    "scattercarpet": [
                      {
                        "marker": {
                          "colorbar": {
                            "outlinewidth": 0,
                            "ticks": ""
                          }
                        },
                        "type": "scattercarpet"
                      }
                    ],
                    "scattergeo": [
                      {
                        "marker": {
                          "colorbar": {
                            "outlinewidth": 0,
                            "ticks": ""
                          }
                        },
                        "type": "scattergeo"
                      }
                    ],
                    "scattergl": [
                      {
                        "marker": {
                          "colorbar": {
                            "outlinewidth": 0,
                            "ticks": ""
                          }
                        },
                        "type": "scattergl"
                      }
                    ],
                    "scattermapbox": [
                      {
                        "marker": {
                          "colorbar": {
                            "outlinewidth": 0,
                            "ticks": ""
                          }
                        },
                        "type": "scattermapbox"
                      }
                    ],
                    "scatterpolar": [
                      {
                        "marker": {
                          "colorbar": {
                            "outlinewidth": 0,
                            "ticks": ""
                          }
                        },
                        "type": "scatterpolar"
                      }
                    ],
                    "scatterpolargl": [
                      {
                        "marker": {
                          "colorbar": {
                            "outlinewidth": 0,
                            "ticks": ""
                          }
                        },
                        "type": "scatterpolargl"
                      }
                    ],
                    "scatterternary": [
                      {
                        "marker": {
                          "colorbar": {
                            "outlinewidth": 0,
                            "ticks": ""
                          }
                        },
                        "type": "scatterternary"
                      }
                    ],
                    "surface": [
                      {
                        "colorbar": {
                          "outlinewidth": 0,
                          "ticks": ""
                        },
                        "colorscale": [
                          [
                            0,
                            "#0d0887"
                          ],
                          [
                            0.1111111111111111,
                            "#46039f"
                          ],
                          [
                            0.2222222222222222,
                            "#7201a8"
                          ],
                          [
                            0.3333333333333333,
                            "#9c179e"
                          ],
                          [
                            0.4444444444444444,
                            "#bd3786"
                          ],
                          [
                            0.5555555555555556,
                            "#d8576b"
                          ],
                          [
                            0.6666666666666666,
                            "#ed7953"
                          ],
                          [
                            0.7777777777777778,
                            "#fb9f3a"
                          ],
                          [
                            0.8888888888888888,
                            "#fdca26"
                          ],
                          [
                            1,
                            "#f0f921"
                          ]
                        ],
                        "type": "surface"
                      }
                    ],
                    "table": [
                      {
                        "cells": {
                          "fill": {
                            "color": "#EBF0F8"
                          },
                          "line": {
                            "color": "white"
                          }
                        },
                        "header": {
                          "fill": {
                            "color": "#C8D4E3"
                          },
                          "line": {
                            "color": "white"
                          }
                        },
                        "type": "table"
                      }
                    ]
                  },
                  "layout": {
                    "annotationdefaults": {
                      "arrowcolor": "#2a3f5f",
                      "arrowhead": 0,
                      "arrowwidth": 1
                    },
                    "autotypenumbers": "strict",
                    "coloraxis": {
                      "colorbar": {
                        "outlinewidth": 0,
                        "ticks": ""
                      }
                    },
                    "colorscale": {
                      "diverging": [
                        [
                          0,
                          "#8e0152"
                        ],
                        [
                          0.1,
                          "#c51b7d"
                        ],
                        [
                          0.2,
                          "#de77ae"
                        ],
                        [
                          0.3,
                          "#f1b6da"
                        ],
                        [
                          0.4,
                          "#fde0ef"
                        ],
                        [
                          0.5,
                          "#f7f7f7"
                        ],
                        [
                          0.6,
                          "#e6f5d0"
                        ],
                        [
                          0.7,
                          "#b8e186"
                        ],
                        [
                          0.8,
                          "#7fbc41"
                        ],
                        [
                          0.9,
                          "#4d9221"
                        ],
                        [
                          1,
                          "#276419"
                        ]
                      ],
                      "sequential": [
                        [
                          0,
                          "#0d0887"
                        ],
                        [
                          0.1111111111111111,
                          "#46039f"
                        ],
                        [
                          0.2222222222222222,
                          "#7201a8"
                        ],
                        [
                          0.3333333333333333,
                          "#9c179e"
                        ],
                        [
                          0.4444444444444444,
                          "#bd3786"
                        ],
                        [
                          0.5555555555555556,
                          "#d8576b"
                        ],
                        [
                          0.6666666666666666,
                          "#ed7953"
                        ],
                        [
                          0.7777777777777778,
                          "#fb9f3a"
                        ],
                        [
                          0.8888888888888888,
                          "#fdca26"
                        ],
                        [
                          1,
                          "#f0f921"
                        ]
                      ],
                      "sequentialminus": [
                        [
                          0,
                          "#0d0887"
                        ],
                        [
                          0.1111111111111111,
                          "#46039f"
                        ],
                        [
                          0.2222222222222222,
                          "#7201a8"
                        ],
                        [
                          0.3333333333333333,
                          "#9c179e"
                        ],
                        [
                          0.4444444444444444,
                          "#bd3786"
                        ],
                        [
                          0.5555555555555556,
                          "#d8576b"
                        ],
                        [
                          0.6666666666666666,
                          "#ed7953"
                        ],
                        [
                          0.7777777777777778,
                          "#fb9f3a"
                        ],
                        [
                          0.8888888888888888,
                          "#fdca26"
                        ],
                        [
                          1,
                          "#f0f921"
                        ]
                      ]
                    },
                    "colorway": [
                      "#636efa",
                      "#EF553B",
                      "#00cc96",
                      "#ab63fa",
                      "#FFA15A",
                      "#19d3f3",
                      "#FF6692",
                      "#B6E880",
                      "#FF97FF",
                      "#FECB52"
                    ],
                    "font": {
                      "color": "#2a3f5f"
                    },
                    "geo": {
                      "bgcolor": "white",
                      "lakecolor": "white",
                      "landcolor": "#E5ECF6",
                      "showlakes": true,
                      "showland": true,
                      "subunitcolor": "white"
                    },
                    "hoverlabel": {
                      "align": "left"
                    },
                    "hovermode": "closest",
                    "mapbox": {
                      "style": "light"
                    },
                    "paper_bgcolor": "white",
                    "plot_bgcolor": "#E5ECF6",
                    "polar": {
                      "angularaxis": {
                        "gridcolor": "white",
                        "linecolor": "white",
                        "ticks": ""
                      },
                      "bgcolor": "#E5ECF6",
                      "radialaxis": {
                        "gridcolor": "white",
                        "linecolor": "white",
                        "ticks": ""
                      }
                    },
                    "scene": {
                      "xaxis": {
                        "backgroundcolor": "#E5ECF6",
                        "gridcolor": "white",
                        "gridwidth": 2,
                        "linecolor": "white",
                        "showbackground": true,
                        "ticks": "",
                        "zerolinecolor": "white"
                      },
                      "yaxis": {
                        "backgroundcolor": "#E5ECF6",
                        "gridcolor": "white",
                        "gridwidth": 2,
                        "linecolor": "white",
                        "showbackground": true,
                        "ticks": "",
                        "zerolinecolor": "white"
                      },
                      "zaxis": {
                        "backgroundcolor": "#E5ECF6",
                        "gridcolor": "white",
                        "gridwidth": 2,
                        "linecolor": "white",
                        "showbackground": true,
                        "ticks": "",
                        "zerolinecolor": "white"
                      }
                    },
                    "shapedefaults": {
                      "line": {
                        "color": "#2a3f5f"
                      }
                    },
                    "ternary": {
                      "aaxis": {
                        "gridcolor": "white",
                        "linecolor": "white",
                        "ticks": ""
                      },
                      "baxis": {
                        "gridcolor": "white",
                        "linecolor": "white",
                        "ticks": ""
                      },
                      "bgcolor": "#E5ECF6",
                      "caxis": {
                        "gridcolor": "white",
                        "linecolor": "white",
                        "ticks": ""
                      }
                    },
                    "title": {
                      "x": 0.05
                    },
                    "xaxis": {
                      "automargin": true,
                      "gridcolor": "white",
                      "linecolor": "white",
                      "ticks": "",
                      "title": {
                        "standoff": 15
                      },
                      "zerolinecolor": "white",
                      "zerolinewidth": 2
                    },
                    "yaxis": {
                      "automargin": true,
                      "gridcolor": "white",
                      "linecolor": "white",
                      "ticks": "",
                      "title": {
                        "standoff": 15
                      },
                      "zerolinecolor": "white",
                      "zerolinewidth": 2
                    }
                  }
                },
                "title": {
                  "text": "Number of Active vs. Retired Rockets"
                }
              }
            }
          },
          "metadata": {},
          "output_type": "display_data"
        }
      ],
      "source": [
        "figure = px.pie(df_data, df_data[\"Rocket_Status\"], title=\"Number of Active vs. Retired Rockets\")\n",
        "\n",
        "figure.show()"
      ]
    },
    {
      "cell_type": "markdown",
      "metadata": {
        "id": "y9WtP5xWkYkp"
      },
      "source": [
        "## Distribution of Mission Status"
      ]
    },
    {
      "cell_type": "markdown",
      "metadata": {},
      "source": [
        "How many missions were successful?\n",
        "How many missions failed?"
      ]
    },
    {
      "cell_type": "code",
      "execution_count": 21,
      "metadata": {
        "id": "83kY1alqmUhb"
      },
      "outputs": [
        {
          "data": {
            "text/plain": [
              "Success              3878\n",
              "Failure               339\n",
              "Partial Failure       102\n",
              "Prelaunch Failure       4\n",
              "Name: Mission_Status, dtype: int64"
            ]
          },
          "execution_count": 21,
          "metadata": {},
          "output_type": "execute_result"
        }
      ],
      "source": [
        "distribution_of_mission_status = df_data[\"Mission_Status\"].value_counts()\n",
        "distribution_of_mission_status"
      ]
    },
    {
      "cell_type": "code",
      "execution_count": 22,
      "metadata": {
        "id": "bdmXcaopmUeZ"
      },
      "outputs": [
        {
          "data": {
            "image/png": "[encoded data removed]",
            "text/plain": [
              "<Figure size 1600x900 with 1 Axes>"
            ]
          },
          "metadata": {},
          "output_type": "display_data"
        }
      ],
      "source": [
        "plt.figure(figsize=(16, 9))\n",
        "\n",
        "plt.xlabel(\"No of launches\", fontsize=20)\n",
        "plt.ylabel(\"Mission Status\", fontsize=20)\n",
        "\n",
        "plt.title(\"Distribution of Mission Status\", fontsize=24)\n",
        "\n",
        "for index, value in enumerate(distribution_of_mission_status):\n",
        "    plt.text(x=index, y=value, s=value, ha='center', va='bottom')\n",
        "\n",
        "plt.bar(distribution_of_mission_status.index.values, distribution_of_mission_status.values)\n",
        "\n",
        "plt.show()"
      ]
    },
    {
      "cell_type": "code",
      "execution_count": 23,
      "metadata": {},
      "outputs": [
        {
          "data": {
            "application/vnd.plotly.v1+json": {
              "config": {
                "plotlyServerURL": "https://plot.ly"
              },
              "data": [
                {
                  "domain": {
                    "x": [
                      0,
                      1
                    ],
                    "y": [
                      0,
                      1
                    ]
                  },
                  "hovertemplate": "Mission_Status=%{label}<extra></extra>",
                  "labels": [
                    "Success",
                    "Success",
                    "Success",
                    "Success",
                    "Success",
                    "Success",
                    "Success",
                    "Success",
                    "Success",
                    "Success",
                    "Success",
                    "Failure",
                    "Success",
                    "Success",
                    "Success",
                    "Failure",
                    "Success",
                    "Success",
                    "Success",
                    "Success",
                    "Success",
                    "Success",
                    "Success",
                    "Success",
                    "Success",
                    "Success",
                    "Success",
                    "Failure",
                    "Success",
                    "Success",
                    "Success",
                    "Success",
                    "Success",
                    "Success",
                    "Success",
                    "Success",
                    "Failure",
                    "Success",
                    "Success",
                    "Success",
                    "Success",
                    "Success",
                    "Success",
                    "Failure",
                    "Success",
                    "Success",
                    "Success",
                    "Success",
                    "Success",
                    "Success",
                    "Success",
                    "Success",
                    "Failure",
                    "Success",
                    "Success",
                    "Success",
                    "Success",
                    "Success",
                    "Success",
                    "Success",
                    "Success",
                    "Success",
                    "Success",
                    "Success",
                    "Success",
                    "Success",
                    "Success",
                    "Success",
                    "Success",
                    "Success",
                    "Success",
                    "Success",
                    "Success",
                    "Success",
                    "Success",
                    "Success",
                    "Success",
                    "Success",
                    "Success",
                    "Success",
                    "Success",
                    "Success",
                    "Success",
                    "Success",
                    "Success",
                    "Success",
                    "Success",
                    "Success",
                    "Success",
                    "Success",
                    "Success",
                    "Failure",
                    "Success",
                    "Success",
                    "Success",
                    "Success",
                    "Success",
                    "Success",
                    "Success",
                    "Success",
                    "Success",
                    "Success",
                    "Success",
                    "Success",
                    "Success",
                    "Success",
                    "Prelaunch Failure",
                    "Success",
                    "Success",
                    "Success",
                    "Success",
                    "Success",
                    "Success",
                    "Success",
                    "Success",
                    "Success",
                    "Success",
                    "Success",
                    "Success",
                    "Success",
                    "Success",
                    "Success",
                    "Success",
                    "Success",
                    "Failure",
                    "Success",
                    "Success",
                    "Partial Failure",
                    "Success",
                    "Success",
                    "Success",
                    "Success",
                    "Success",
                    "Success",
                    "Success",
                    "Success",
                    "Success",
                    "Failure",
                    "Success",
                    "Success",
                    "Success",
                    "Success",
                    "Success",
                    "Success",
                    "Success",
                    "Success",
                    "Success",
                    "Success",
                    "Success",
                    "Success",
                    "Success",
                    "Success",
                    "Failure",
                    "Success",
                    "Success",
                    "Success",
                    "Success",
                    "Partial Failure",
                    "Success",
                    "Success",
                    "Success",
                    "Success",
                    "Success",
                    "Failure",
                    "Success",
                    "Success",
                    "Success",
                    "Success",
                    "Success",
                    "Failure",
                    "Success",
                    "Success",
                    "Success",
                    "Success",
                    "Success",
                    "Success",
                    "Success",
                    "Success",
                    "Success",
                    "Success",
                    "Success",
                    "Success",
                    "Success",
                    "Success",
                    "Success",
                    "Success",
                    "Success",
                    "Success",
                    "Success",
                    "Success",
                    "Success",
                    "Success",
                    "Success",
                    "Success",
                    "Success",
                    "Success",
                    "Success",
                    "Success",
                    "Success",
                    "Success",
                    "Success",
                    "Success",
                    "Failure",
                    "Success",
                    "Success",
                    "Success",
                    "Success",
                    "Success",
                    "Failure",
                    "Success",
                    "Success",
                    "Success",
                    "Success",
                    "Success",
                    "Success",
                    "Success",
                    "Success",
                    "Success",
                    "Success",
                    "Partial Failure",
                    "Success",
                    "Success",
                    "Success",
                    "Success",
                    "Success",
                    "Success",
                    "Success",
                    "Success",
                    "Success",
                    "Success",
                    "Success",
                    "Success",
                    "Success",
                    "Success",
                    "Success",
                    "Success",
                    "Success",
                    "Success",
                    "Success",
                    "Success",
                    "Success",
                    "Success",
                    "Success",
                    "Success",
                    "Success",
                    "Success",
                    "Success",
                    "Success",
                    "Success",
                    "Success",
                    "Success",
                    "Success",
                    "Success",
                    "Success",
                    "Success",
                    "Success",
                    "Success",
                    "Success",
                    "Success",
                    "Success",
                    "Success",
                    "Success",
                    "Success",
                    "Success",
                    "Success",
                    "Success",
                    "Success",
                    "Success",
                    "Success",
                    "Success",
                    "Success",
                    "Success",
                    "Success",
                    "Success",
                    "Success",
                    "Success",
                    "Success",
                    "Partial Failure",
                    "Success",
                    "Success",
                    "Success",
                    "Success",
                    "Success",
                    "Success",
                    "Success",
                    "Success",
                    "Success",
                    "Success",
                    "Success",
                    "Success",
                    "Success",
                    "Success",
                    "Success",
                    "Success",
                    "Success",
                    "Success",
                    "Success",
                    "Success",
                    "Success",
                    "Success",
                    "Success",
                    "Failure",
                    "Success",
                    "Success",
                    "Success",
                    "Success",
                    "Success",
                    "Success",
                    "Success",
                    "Success",
                    "Success",
                    "Success",
                    "Success",
                    "Success",
                    "Success",
                    "Success",
                    "Success",
                    "Success",
                    "Success",
                    "Success",
                    "Success",
                    "Success",
                    "Success",
                    "Success",
                    "Failure",
                    "Success",
                    "Success",
                    "Success",
                    "Success",
                    "Success",
                    "Success",
                    "Success",
                    "Success",
                    "Success",
                    "Success",
                    "Failure",
                    "Partial Failure",
                    "Success",
                    "Failure",
                    "Success",
                    "Success",
                    "Success",
                    "Success",
                    "Success",
                    "Partial Failure",
                    "Success",
                    "Success",
                    "Success",
                    "Success",
                    "Success",
                    "Success",
                    "Success",
                    "Success",
                    "Failure",
                    "Success",
                    "Success",
                    "Success",
                    "Success",
                    "Success",
                    "Success",
                    "Success",
                    "Success",
                    "Success",
                    "Success",
                    "Success",
                    "Success",
                    "Success",
                    "Success",
                    "Success",
                    "Success",
                    "Success",
                    "Success",
                    "Success",
                    "Success",
                    "Success",
                    "Success",
                    "Success",
                    "Failure",
                    "Success",
                    "Success",
                    "Success",
                    "Partial Failure",
                    "Success",
                    "Success",
                    "Success",
                    "Success",
                    "Success",
                    "Success",
                    "Success",
                    "Success",
                    "Success",
                    "Success",
                    "Failure",
                    "Success",
                    "Success",
                    "Success",
                    "Success",
                    "Success",
                    "Success",
                    "Success",
                    "Success",
                    "Success",
                    "Success",
                    "Success",
                    "Success",
                    "Success",
                    "Success",
                    "Success",
                    "Success",
                    "Success",
                    "Success",
                    "Success",
                    "Success",
                    "Prelaunch Failure",
                    "Failure",
                    "Success",
                    "Success",
                    "Success",
                    "Success",
                    "Success",
                    "Success",
                    "Success",
                    "Success",
                    "Success",
                    "Success",
                    "Success",
                    "Success",
                    "Success",
                    "Success",
                    "Success",
                    "Success",
                    "Success",
                    "Success",
                    "Success",
                    "Success",
                    "Success",
                    "Success",
                    "Success",
                    "Success",
                    "Success",
                    "Success",
                    "Success",
                    "Success",
                    "Success",
                    "Success",
                    "Success",
                    "Success",
                    "Success",
                    "Success",
                    "Success",
                    "Success",
                    "Success",
                    "Success",
                    "Success",
                    "Success",
                    "Success",
                    "Success",
                    "Success",
                    "Success",
                    "Success",
                    "Success",
                    "Success",
                    "Success",
                    "Success",
                    "Success",
                    "Success",
                    "Success",
                    "Success",
                    "Success",
                    "Success",
                    "Success",
                    "Success",
                    "Success",
                    "Success",
                    "Success",
                    "Success",
                    "Partial Failure",
                    "Success",
                    "Success",
                    "Success",
                    "Success",
                    "Failure",
                    "Success",
                    "Success",
                    "Success",
                    "Success",
                    "Success",
                    "Success",
                    "Success",
                    "Success",
                    "Success",
                    "Success",
                    "Success",
                    "Success",
                    "Success",
                    "Success",
                    "Success",
                    "Success",
                    "Success",
                    "Failure",
                    "Success",
                    "Success",
                    "Success",
                    "Success",
                    "Success",
                    "Success",
                    "Success",
                    "Success",
                    "Success",
                    "Success",
                    "Success",
                    "Success",
                    "Success",
                    "Success",
                    "Success",
                    "Failure",
                    "Success",
                    "Success",
                    "Success",
                    "Success",
                    "Success",
                    "Success",
                    "Success",
                    "Success",
                    "Success",
                    "Success",
                    "Success",
                    "Success",
                    "Success",
                    "Success",
                    "Success",
                    "Success",
                    "Success",
                    "Success",
                    "Failure",
                    "Success",
                    "Success",
                    "Success",
                    "Success",
                    "Success",
                    "Success",
                    "Success",
                    "Partial Failure",
                    "Success",
                    "Success",
                    "Success",
                    "Success",
                    "Success",
                    "Success",
                    "Success",
                    "Success",
                    "Success",
                    "Success",
                    "Success",
                    "Success",
                    "Success",
                    "Success",
                    "Success",
                    "Success",
                    "Success",
                    "Success",
                    "Success",
                    "Success",
                    "Success",
                    "Success",
                    "Success",
                    "Success",
                    "Success",
                    "Success",
                    "Success",
                    "Success",
                    "Success",
                    "Success",
                    "Success",
                    "Success",
                    "Success",
                    "Success",
                    "Success",
                    "Success",
                    "Success",
                    "Success",
                    "Success",
                    "Success",
                    "Success",
                    "Success",
                    "Success",
                    "Success",
                    "Success",
                    "Success",
                    "Success",
                    "Success",
                    "Success",
                    "Success",
                    "Success",
                    "Success",
                    "Success",
                    "Success",
                    "Success",
                    "Success",
                    "Success",
                    "Success",
                    "Failure",
                    "Success",
                    "Success",
                    "Success",
                    "Success",
                    "Success",
                    "Success",
                    "Success",
                    "Success",
                    "Success",
                    "Success",
                    "Success",
                    "Success",
                    "Success",
                    "Success",
                    "Success",
                    "Failure",
                    "Success",
                    "Success",
                    "Success",
                    "Partial Failure",
                    "Success",
                    "Success",
                    "Success",
                    "Success",
                    "Success",
                    "Success",
                    "Success",
                    "Partial Failure",
                    "Success",
                    "Success",
                    "Failure",
                    "Success",
                    "Success",
                    "Success",
                    "Success",
                    "Success",
                    "Success",
                    "Success",
                    "Success",
                    "Success",
                    "Success",
                    "Success",
                    "Success",
                    "Success",
                    "Failure",
                    "Success",
                    "Success",
                    "Success",
                    "Success",
                    "Success",
                    "Success",
                    "Failure",
                    "Success",
                    "Success",
                    "Success",
                    "Success",
                    "Success",
                    "Success",
                    "Success",
                    "Success",
                    "Success",
                    "Success",
                    "Success",
                    "Success",
                    "Success",
                    "Success",
                    "Success",
                    "Success",
                    "Success",
                    "Success",
                    "Success",
                    "Success",
                    "Success",
                    "Success",
                    "Success",
                    "Success",
                    "Success",
                    "Success",
                    "Success",
                    "Success",
                    "Success",
                    "Success",
                    "Success",
                    "Success",
                    "Success",
                    "Success",
                    "Success",
                    "Success",
                    "Success",
                    "Success",
                    "Success",
                    "Success",
                    "Failure",
                    "Success",
                    "Success",
                    "Success",
                    "Partial Failure",
                    "Success",
                    "Success",
                    "Success",
                    "Success",
                    "Failure",
                    "Success",
                    "Success",
                    "Success",
                    "Success",
                    "Success",
                    "Success",
                    "Success",
                    "Success",
                    "Success",
                    "Success",
                    "Success",
                    "Success",
                    "Success",
                    "Success",
                    "Success",
                    "Success",
                    "Success",
                    "Failure",
                    "Success",
                    "Success",
                    "Success",
                    "Success",
                    "Success",
                    "Success",
                    "Success",
                    "Success",
                    "Success",
                    "Failure",
                    "Success",
                    "Success",
                    "Success",
                    "Success",
                    "Success",
                    "Success",
                    "Success",
                    "Success",
                    "Success",
                    "Success",
                    "Success",
                    "Success",
                    "Success",
                    "Success",
                    "Success",
                    "Success",
                    "Success",
                    "Success",
                    "Success",
                    "Success",
                    "Success",
                    "Success",
                    "Success",
                    "Success",
                    "Success",
                    "Failure",
                    "Success",
                    "Success",
                    "Success",
                    "Success",
                    "Success",
                    "Success",
                    "Success",
                    "Success",
                    "Success",
                    "Success",
                    "Success",
                    "Success",
                    "Success",
                    "Success",
                    "Success",
                    "Success",
                    "Success",
                    "Failure",
                    "Success",
                    "Success",
                    "Success",
                    "Success",
                    "Success",
                    "Success",
                    "Failure",
                    "Success",
                    "Success",
                    "Success",
                    "Success",
                    "Success",
                    "Success",
                    "Success",
                    "Success",
                    "Success",
                    "Success",
                    "Success",
                    "Success",
                    "Success",
                    "Success",
                    "Success",
                    "Success",
                    "Success",
                    "Success",
                    "Success",
                    "Success",
                    "Success",
                    "Success",
                    "Failure",
                    "Success",
                    "Failure",
                    "Success",
                    "Success",
                    "Success",
                    "Success",
                    "Success",
                    "Success",
                    "Success",
                    "Success",
                    "Success",
                    "Success",
                    "Success",
                    "Success",
                    "Partial Failure",
                    "Success",
                    "Success",
                    "Success",
                    "Success",
                    "Success",
                    "Success",
                    "Success",
                    "Success",
                    "Success",
                    "Success",
                    "Success",
                    "Success",
                    "Success",
                    "Success",
                    "Success",
                    "Success",
                    "Success",
                    "Success",
                    "Success",
                    "Success",
                    "Success",
                    "Success",
                    "Success",
                    "Success",
                    "Success",
                    "Success",
                    "Success",
                    "Success",
                    "Success",
                    "Success",
                    "Success",
                    "Success",
                    "Success",
                    "Success",
                    "Partial Failure",
                    "Success",
                    "Success",
                    "Success",
                    "Success",
                    "Success",
                    "Success",
                    "Success",
                    "Partial Failure",
                    "Success",
                    "Success",
                    "Success",
                    "Success",
                    "Success",
                    "Success",
                    "Success",
                    "Success",
                    "Success",
                    "Success",
                    "Success",
                    "Success",
                    "Success",
                    "Success",
                    "Failure",
                    "Success",
                    "Success",
                    "Success",
                    "Success",
                    "Success",
                    "Failure",
                    "Success",
                    "Success",
                    "Success",
                    "Success",
                    "Success",
                    "Success",
                    "Success",
                    "Success",
                    "Success",
                    "Success",
                    "Success",
                    "Success",
                    "Success",
                    "Success",
                    "Success",
                    "Success",
                    "Success",
                    "Success",
                    "Success",
                    "Success",
                    "Success",
                    "Success",
                    "Success",
                    "Success",
                    "Failure",
                    "Success",
                    "Success",
                    "Failure",
                    "Success",
                    "Success",
                    "Success",
                    "Success",
                    "Success",
                    "Success",
                    "Success",
                    "Success",
                    "Success",
                    "Success",
                    "Success",
                    "Success",
                    "Success",
                    "Success",
                    "Success",
                    "Failure",
                    "Success",
                    "Success",
                    "Success",
                    "Success",
                    "Success",
                    "Success",
                    "Success",
                    "Success",
                    "Success",
                    "Success",
                    "Success",
                    "Success",
                    "Success",
                    "Success",
                    "Failure",
                    "Success",
                    "Success",
                    "Success",
                    "Success",
                    "Success",
                    "Success",
                    "Success",
                    "Success",
                    "Success",
                    "Success",
                    "Success",
                    "Success",
                    "Failure",
                    "Failure",
                    "Success",
                    "Success",
                    "Success",
                    "Success",
                    "Success",
                    "Success",
                    "Success",
                    "Success",
                    "Success",
                    "Success",
                    "Success",
                    "Success",
                    "Success",
                    "Success",
                    "Partial Failure",
                    "Partial Failure",
                    "Success",
                    "Success",
                    "Success",
                    "Success",
                    "Success",
                    "Success",
                    "Success",
                    "Success",
                    "Success",
                    "Success",
                    "Success",
                    "Success",
                    "Failure",
                    "Success",
                    "Success",
                    "Success",
                    "Success",
                    "Success",
                    "Success",
                    "Success",
                    "Success",
                    "Success",
                    "Success",
                    "Success",
                    "Success",
                    "Success",
                    "Success",
                    "Success",
                    "Success",
                    "Success",
                    "Success",
                    "Success",
                    "Success",
                    "Success",
                    "Success",
                    "Success",
                    "Success",
                    "Success",
                    "Success",
                    "Success",
                    "Success",
                    "Success",
                    "Success",
                    "Failure",
                    "Success",
                    "Success",
                    "Success",
                    "Success",
                    "Success",
                    "Success",
                    "Success",
                    "Success",
                    "Success",
                    "Success",
                    "Failure",
                    "Success",
                    "Success",
                    "Prelaunch Failure",
                    "Success",
                    "Success",
                    "Success",
                    "Success",
                    "Success",
                    "Success",
                    "Success",
                    "Success",
                    "Success",
                    "Success",
                    "Success",
                    "Success",
                    "Success",
                    "Success",
                    "Success",
                    "Success",
                    "Success",
                    "Success",
                    "Success",
                    "Success",
                    "Success",
                    "Success",
                    "Success",
                    "Success",
                    "Success",
                    "Success",
                    "Success",
                    "Success",
                    "Success",
                    "Failure",
                    "Success",
                    "Success",
                    "Success",
                    "Success",
                    "Success",
                    "Success",
                    "Success",
                    "Failure",
                    "Success",
                    "Success",
                    "Success",
                    "Success",
                    "Success",
                    "Success",
                    "Success",
                    "Success",
                    "Failure",
                    "Success",
                    "Success",
                    "Success",
                    "Success",
                    "Success",
                    "Success",
                    "Success",
                    "Success",
                    "Success",
                    "Success",
                    "Success",
                    "Success",
                    "Success",
                    "Success",
                    "Success",
                    "Success",
                    "Success",
                    "Success",
                    "Success",
                    "Success",
                    "Success",
                    "Success",
                    "Success",
                    "Success",
                    "Success",
                    "Success",
                    "Success",
                    "Success",
                    "Success",
                    "Success",
                    "Success",
                    "Success",
                    "Success",
                    "Success",
                    "Success",
                    "Success",
                    "Success",
                    "Success",
                    "Success",
                    "Success",
                    "Success",
                    "Success",
                    "Success",
                    "Success",
                    "Success",
                    "Success",
                    "Success",
                    "Failure",
                    "Success",
                    "Success",
                    "Success",
                    "Success",
                    "Success",
                    "Success",
                    "Success",
                    "Success",
                    "Partial Failure",
                    "Success",
                    "Success",
                    "Success",
                    "Success",
                    "Success",
                    "Success",
                    "Success",
                    "Success",
                    "Partial Failure",
                    "Success",
                    "Success",
                    "Success",
                    "Success",
                    "Success",
                    "Success",
                    "Success",
                    "Success",
                    "Success",
                    "Success",
                    "Success",
                    "Failure",
                    "Success",
                    "Success",
                    "Success",
                    "Success",
                    "Success",
                    "Success",
                    "Success",
                    "Failure",
                    "Success",
                    "Success",
                    "Success",
                    "Success",
                    "Success",
                    "Success",
                    "Success",
                    "Success",
                    "Success",
                    "Success",
                    "Success",
                    "Success",
                    "Success",
                    "Success",
                    "Success",
                    "Success",
                    "Success",
                    "Success",
                    "Success",
                    "Success",
                    "Success",
                    "Success",
                    "Success",
                    "Success",
                    "Success",
                    "Success",
                    "Success",
                    "Success",
                    "Success",
                    "Success",
                    "Success",
                    "Success",
                    "Success",
                    "Success",
                    "Success",
                    "Success",
                    "Failure",
                    "Success",
                    "Success",
                    "Success",
                    "Success",
                    "Failure",
                    "Success",
                    "Success",
                    "Success",
                    "Success",
                    "Success",
                    "Success",
                    "Success",
                    "Success",
                    "Success",
                    "Success",
                    "Success",
                    "Success",
                    "Success",
                    "Failure",
                    "Success",
                    "Success",
                    "Success",
                    "Success",
                    "Success",
                    "Failure",
                    "Success",
                    "Success",
                    "Success",
                    "Success",
                    "Success",
                    "Success",
                    "Success",
                    "Success",
                    "Success",
                    "Success",
                    "Success",
                    "Success",
                    "Success",
                    "Success",
                    "Success",
                    "Success",
                    "Success",
                    "Success",
                    "Success",
                    "Success",
                    "Success",
                    "Success",
                    "Success",
                    "Success",
                    "Success",
                    "Success",
                    "Failure",
                    "Failure",
                    "Success",
                    "Failure",
                    "Success",
                    "Success",
                    "Success",
                    "Failure",
                    "Success",
                    "Success",
                    "Success",
                    "Success",
                    "Success",
                    "Success",
                    "Success",
                    "Success",
                    "Success",
                    "Success",
                    "Success",
                    "Success",
                    "Success",
                    "Success",
                    "Success",
                    "Success",
                    "Success",
                    "Success",
                    "Success",
                    "Success",
                    "Success",
                    "Success",
                    "Success",
                    "Success",
                    "Success",
                    "Success",
                    "Success",
                    "Success",
                    "Success",
                    "Success",
                    "Failure",
                    "Success",
                    "Failure",
                    "Failure",
                    "Success",
                    "Success",
                    "Success",
                    "Success",
                    "Failure",
                    "Success",
                    "Success",
                    "Success",
                    "Success",
                    "Success",
                    "Success",
                    "Success",
                    "Success",
                    "Partial Failure",
                    "Success",
                    "Success",
                    "Success",
                    "Success",
                    "Success",
                    "Success",
                    "Success",
                    "Success",
                    "Success",
                    "Success",
                    "Success",
                    "Success",
                    "Success",
                    "Success",
                    "Success",
                    "Success",
                    "Success",
                    "Success",
                    "Success",
                    "Partial Failure",
                    "Success",
                    "Success",
                    "Success",
                    "Success",
                    "Success",
                    "Failure",
                    "Success",
                    "Success",
                    "Success",
                    "Partial Failure",
                    "Success",
                    "Success",
                    "Success",
                    "Success",
                    "Success",
                    "Success",
                    "Success",
                    "Success",
                    "Success",
                    "Success",
                    "Success",
                    "Success",
                    "Success",
                    "Success",
                    "Failure",
                    "Partial Failure",
                    "Success",
                    "Success",
                    "Success",
                    "Success",
                    "Success",
                    "Success",
                    "Partial Failure",
                    "Success",
                    "Success",
                    "Success",
                    "Success",
                    "Success",
                    "Success",
                    "Success",
                    "Success",
                    "Success",
                    "Success",
                    "Success",
                    "Success",
                    "Success",
                    "Success",
                    "Success",
                    "Success",
                    "Success",
                    "Success",
                    "Success",
                    "Success",
                    "Success",
                    "Success",
                    "Success",
                    "Success",
                    "Failure",
                    "Success",
                    "Success",
                    "Success",
                    "Success",
                    "Success",
                    "Success",
                    "Success",
                    "Success",
                    "Success",
                    "Success",
                    "Success",
                    "Success",
                    "Success",
                    "Success",
                    "Success",
                    "Success",
                    "Success",
                    "Success",
                    "Success",
                    "Failure",
                    "Success",
                    "Success",
                    "Success",
                    "Success",
                    "Success",
                    "Success",
                    "Success",
                    "Success",
                    "Success",
                    "Success",
                    "Failure",
                    "Success",
                    "Success",
                    "Success",
                    "Success",
                    "Success",
                    "Success",
                    "Success",
                    "Success",
                    "Success",
                    "Success",
                    "Partial Failure",
                    "Success",
                    "Success",
                    "Success",
                    "Success",
                    "Success",
                    "Success",
                    "Success",
                    "Success",
                    "Success",
                    "Success",
                    "Success",
                    "Failure",
                    "Success",
                    "Success",
                    "Success",
                    "Success",
                    "Success",
                    "Success",
                    "Success",
                    "Success",
                    "Success",
                    "Success",
                    "Success",
                    "Success",
                    "Success",
                    "Success",
                    "Success",
                    "Success",
                    "Success",
                    "Success",
                    "Success",
                    "Success",
                    "Failure",
                    "Success",
                    "Success",
                    "Success",
                    "Success",
                    "Success",
                    "Success",
                    "Success",
                    "Success",
                    "Success",
                    "Success",
                    "Success",
                    "Success",
                    "Success",
                    "Success",
                    "Success",
                    "Success",
                    "Success",
                    "Success",
                    "Success",
                    "Success",
                    "Failure",
                    "Success",
                    "Success",
                    "Success",
                    "Partial Failure",
                    "Success",
                    "Success",
                    "Partial Failure",
                    "Success",
                    "Success",
                    "Success",
                    "Failure",
                    "Success",
                    "Success",
                    "Success",
                    "Success",
                    "Success",
                    "Success",
                    "Success",
                    "Success",
                    "Success",
                    "Failure",
                    "Success",
                    "Success",
                    "Success",
                    "Success",
                    "Success",
                    "Success",
                    "Success",
                    "Success",
                    "Success",
                    "Success",
                    "Success",
                    "Success",
                    "Failure",
                    "Success",
                    "Success",
                    "Success",
                    "Success",
                    "Success",
                    "Success",
                    "Success",
                    "Success",
                    "Failure",
                    "Success",
                    "Partial Failure",
                    "Success",
                    "Success",
                    "Success",
                    "Success",
                    "Success",
                    "Success",
                    "Success",
                    "Failure",
                    "Partial Failure",
                    "Success",
                    "Success",
                    "Success",
                    "Success",
                    "Success",
                    "Success",
                    "Success",
                    "Success",
                    "Success",
                    "Success",
                    "Success",
                    "Success",
                    "Success",
                    "Success",
                    "Success",
                    "Success",
                    "Success",
                    "Success",
                    "Success",
                    "Success",
                    "Success",
                    "Success",
                    "Success",
                    "Success",
                    "Success",
                    "Success",
                    "Success",
                    "Success",
                    "Success",
                    "Success",
                    "Success",
                    "Success",
                    "Failure",
                    "Success",
                    "Success",
                    "Failure",
                    "Partial Failure",
                    "Success",
                    "Success",
                    "Success",
                    "Success",
                    "Success",
                    "Success",
                    "Success",
                    "Success",
                    "Success",
                    "Success",
                    "Success",
                    "Success",
                    "Success",
                    "Success",
                    "Success",
                    "Success",
                    "Success",
                    "Success",
                    "Failure",
                    "Success",
                    "Success",
                    "Success",
                    "Success",
                    "Success",
                    "Success",
                    "Success",
                    "Success",
                    "Success",
                    "Success",
                    "Success",
                    "Success",
                    "Success",
                    "Failure",
                    "Success",
                    "Failure",
                    "Success",
                    "Success",
                    "Success",
                    "Success",
                    "Success",
                    "Success",
                    "Success",
                    "Success",
                    "Success",
                    "Failure",
                    "Success",
                    "Success",
                    "Success",
                    "Success",
                    "Success",
                    "Success",
                    "Success",
                    "Success",
                    "Success",
                    "Success",
                    "Success",
                    "Success",
                    "Success",
                    "Success",
                    "Success",
                    "Success",
                    "Success",
                    "Success",
                    "Success",
                    "Success",
                    "Success",
                    "Success",
                    "Success",
                    "Success",
                    "Failure",
                    "Success",
                    "Success",
                    "Success",
                    "Success",
                    "Success",
                    "Success",
                    "Success",
                    "Success",
                    "Success",
                    "Success",
                    "Success",
                    "Success",
                    "Success",
                    "Failure",
                    "Success",
                    "Success",
                    "Success",
                    "Success",
                    "Success",
                    "Success",
                    "Success",
                    "Success",
                    "Success",
                    "Success",
                    "Success",
                    "Success",
                    "Success",
                    "Success",
                    "Success",
                    "Success",
                    "Success",
                    "Success",
                    "Success",
                    "Success",
                    "Success",
                    "Failure",
                    "Success",
                    "Success",
                    "Success",
                    "Success",
                    "Success",
                    "Success",
                    "Success",
                    "Success",
                    "Success",
                    "Success",
                    "Success",
                    "Success",
                    "Success",
                    "Success",
                    "Success",
                    "Success",
                    "Success",
                    "Success",
                    "Success",
                    "Success",
                    "Success",
                    "Success",
                    "Success",
                    "Success",
                    "Success",
                    "Success",
                    "Success",
                    "Success",
                    "Success",
                    "Success",
                    "Success",
                    "Success",
                    "Success",
                    "Failure",
                    "Success",
                    "Success",
                    "Partial Failure",
                    "Success",
                    "Success",
                    "Success",
                    "Success",
                    "Success",
                    "Success",
                    "Success",
                    "Success",
                    "Success",
                    "Success",
                    "Success",
                    "Success",
                    "Success",
                    "Success",
                    "Success",
                    "Failure",
                    "Success",
                    "Success",
                    "Success",
                    "Success",
                    "Success",
                    "Success",
                    "Success",
                    "Success",
                    "Success",
                    "Partial Failure",
                    "Success",
                    "Success",
                    "Failure",
                    "Success",
                    "Success",
                    "Success",
                    "Success",
                    "Success",
                    "Success",
                    "Success",
                    "Success",
                    "Success",
                    "Success",
                    "Failure",
                    "Success",
                    "Success",
                    "Success",
                    "Success",
                    "Success",
                    "Success",
                    "Success",
                    "Success",
                    "Success",
                    "Success",
                    "Success",
                    "Success",
                    "Success",
                    "Success",
                    "Success",
                    "Success",
                    "Success",
                    "Success",
                    "Success",
                    "Success",
                    "Success",
                    "Success",
                    "Success",
                    "Success",
                    "Success",
                    "Success",
                    "Success",
                    "Success",
                    "Success",
                    "Success",
                    "Success",
                    "Success",
                    "Success",
                    "Success",
                    "Success",
                    "Success",
                    "Success",
                    "Failure",
                    "Success",
                    "Success",
                    "Success",
                    "Success",
                    "Success",
                    "Success",
                    "Success",
                    "Success",
                    "Success",
                    "Success",
                    "Success",
                    "Success",
                    "Success",
                    "Success",
                    "Success",
                    "Success",
                    "Success",
                    "Success",
                    "Success",
                    "Success",
                    "Partial Failure",
                    "Success",
                    "Success",
                    "Success",
                    "Success",
                    "Success",
                    "Success",
                    "Success",
                    "Success",
                    "Success",
                    "Success",
                    "Success",
                    "Success",
                    "Success",
                    "Success",
                    "Success",
                    "Success",
                    "Success",
                    "Success",
                    "Success",
                    "Success",
                    "Failure",
                    "Success",
                    "Success",
                    "Success",
                    "Failure",
                    "Success",
                    "Success",
                    "Success",
                    "Success",
                    "Success",
                    "Success",
                    "Success",
                    "Success",
                    "Success",
                    "Success",
                    "Success",
                    "Success",
                    "Success",
                    "Success",
                    "Success",
                    "Success",
                    "Success",
                    "Success",
                    "Success",
                    "Success",
                    "Success",
                    "Success",
                    "Success",
                    "Success",
                    "Success",
                    "Success",
                    "Success",
                    "Success",
                    "Success",
                    "Success",
                    "Success",
                    "Success",
                    "Success",
                    "Success",
                    "Success",
                    "Success",
                    "Success",
                    "Success",
                    "Success",
                    "Success",
                    "Success",
                    "Success",
                    "Success",
                    "Failure",
                    "Success",
                    "Success",
                    "Success",
                    "Partial Failure",
                    "Success",
                    "Success",
                    "Success",
                    "Success",
                    "Success",
                    "Success",
                    "Success",
                    "Success",
                    "Success",
                    "Success",
                    "Success",
                    "Success",
                    "Success",
                    "Success",
                    "Success",
                    "Success",
                    "Success",
                    "Success",
                    "Success",
                    "Success",
                    "Success",
                    "Success",
                    "Success",
                    "Success",
                    "Success",
                    "Success",
                    "Success",
                    "Success",
                    "Success",
                    "Success",
                    "Success",
                    "Success",
                    "Success",
                    "Success",
                    "Success",
                    "Success",
                    "Success",
                    "Success",
                    "Success",
                    "Success",
                    "Partial Failure",
                    "Success",
                    "Success",
                    "Failure",
                    "Success",
                    "Success",
                    "Success",
                    "Success",
                    "Success",
                    "Success",
                    "Success",
                    "Success",
                    "Success",
                    "Success",
                    "Success",
                    "Success",
                    "Success",
                    "Success",
                    "Success",
                    "Success",
                    "Success",
                    "Success",
                    "Success",
                    "Success",
                    "Success",
                    "Success",
                    "Success",
                    "Success",
                    "Success",
                    "Success",
                    "Success",
                    "Success",
                    "Success",
                    "Success",
                    "Success",
                    "Success",
                    "Success",
                    "Success",
                    "Success",
                    "Success",
                    "Success",
                    "Success",
                    "Success",
                    "Success",
                    "Success",
                    "Success",
                    "Success",
                    "Success",
                    "Success",
                    "Success",
                    "Success",
                    "Success",
                    "Success",
                    "Success",
                    "Success",
                    "Success",
                    "Success",
                    "Success",
                    "Success",
                    "Success",
                    "Success",
                    "Success",
                    "Success",
                    "Success",
                    "Success",
                    "Success",
                    "Success",
                    "Success",
                    "Success",
                    "Success",
                    "Success",
                    "Success",
                    "Success",
                    "Success",
                    "Success",
                    "Failure",
                    "Failure",
                    "Success",
                    "Success",
                    "Success",
                    "Success",
                    "Success",
                    "Success",
                    "Success",
                    "Success",
                    "Success",
                    "Success",
                    "Partial Failure",
                    "Success",
                    "Success",
                    "Success",
                    "Success",
                    "Success",
                    "Success",
                    "Success",
                    "Success",
                    "Success",
                    "Success",
                    "Success",
                    "Success",
                    "Success",
                    "Success",
                    "Success",
                    "Success",
                    "Success",
                    "Success",
                    "Success",
                    "Success",
                    "Success",
                    "Success",
                    "Failure",
                    "Success",
                    "Partial Failure",
                    "Success",
                    "Success",
                    "Success",
                    "Success",
                    "Success",
                    "Success",
                    "Success",
                    "Success",
                    "Success",
                    "Success",
                    "Success",
                    "Success",
                    "Partial Failure",
                    "Success",
                    "Success",
                    "Success",
                    "Success",
                    "Success",
                    "Failure",
                    "Success",
                    "Success",
                    "Success",
                    "Success",
                    "Failure",
                    "Success",
                    "Success",
                    "Success",
                    "Success",
                    "Success",
                    "Success",
                    "Success",
                    "Success",
                    "Success",
                    "Success",
                    "Success",
                    "Success",
                    "Failure",
                    "Success",
                    "Success",
                    "Success",
                    "Success",
                    "Success",
                    "Partial Failure",
                    "Success",
                    "Success",
                    "Success",
                    "Success",
                    "Success",
                    "Success",
                    "Success",
                    "Success",
                    "Success",
                    "Success",
                    "Success",
                    "Failure",
                    "Success",
                    "Success",
                    "Success",
                    "Success",
                    "Success",
                    "Success",
                    "Success",
                    "Success",
                    "Success",
                    "Success",
                    "Success",
                    "Success",
                    "Success",
                    "Success",
                    "Failure",
                    "Success",
                    "Failure",
                    "Success",
                    "Success",
                    "Success",
                    "Success",
                    "Success",
                    "Success",
                    "Success",
                    "Success",
                    "Success",
                    "Success",
                    "Success",
                    "Failure",
                    "Success",
                    "Success",
                    "Success",
                    "Success",
                    "Success",
                    "Success",
                    "Success",
                    "Success",
                    "Success",
                    "Success",
                    "Success",
                    "Success",
                    "Success",
                    "Failure",
                    "Success",
                    "Success",
                    "Success",
                    "Success",
                    "Success",
                    "Success",
                    "Success",
                    "Success",
                    "Success",
                    "Success",
                    "Success",
                    "Success",
                    "Success",
                    "Success",
                    "Success",
                    "Success",
                    "Success",
                    "Success",
                    "Success",
                    "Success",
                    "Success",
                    "Success",
                    "Success",
                    "Success",
                    "Partial Failure",
                    "Success",
                    "Success",
                    "Success",
                    "Success",
                    "Success",
                    "Success",
                    "Success",
                    "Success",
                    "Success",
                    "Success",
                    "Success",
                    "Success",
                    "Success",
                    "Success",
                    "Success",
                    "Success",
                    "Success",
                    "Success",
                    "Success",
                    "Success",
                    "Success",
                    "Success",
                    "Success",
                    "Success",
                    "Success",
                    "Success",
                    "Success",
                    "Success",
                    "Success",
                    "Success",
                    "Success",
                    "Failure",
                    "Success",
                    "Success",
                    "Success",
                    "Success",
                    "Success",
                    "Success",
                    "Success",
                    "Success",
                    "Success",
                    "Success",
                    "Success",
                    "Success",
                    "Success",
                    "Success",
                    "Success",
                    "Success",
                    "Success",
                    "Success",
                    "Success",
                    "Success",
                    "Success",
                    "Success",
                    "Success",
                    "Success",
                    "Success",
                    "Partial Failure",
                    "Success",
                    "Success",
                    "Success",
                    "Success",
                    "Success",
                    "Success",
                    "Success",
                    "Success",
                    "Success",
                    "Success",
                    "Success",
                    "Success",
                    "Success",
                    "Success",
                    "Success",
                    "Success",
                    "Success",
                    "Success",
                    "Success",
                    "Success",
                    "Success",
                    "Success",
                    "Success",
                    "Success",
                    "Success",
                    "Success",
                    "Success",
                    "Success",
                    "Success",
                    "Success",
                    "Success",
                    "Success",
                    "Success",
                    "Success",
                    "Success",
                    "Success",
                    "Success",
                    "Success",
                    "Success",
                    "Success",
                    "Success",
                    "Success",
                    "Success",
                    "Success",
                    "Success",
                    "Success",
                    "Success",
                    "Success",
                    "Success",
                    "Success",
                    "Success",
                    "Success",
                    "Success",
                    "Success",
                    "Success",
                    "Success",
                    "Success",
                    "Success",
                    "Success",
                    "Success",
                    "Success",
                    "Success",
                    "Success",
                    "Success",
                    "Success",
                    "Success",
                    "Failure",
                    "Success",
                    "Success",
                    "Success",
                    "Success",
                    "Success",
                    "Success",
                    "Partial Failure",
                    "Failure",
                    "Success",
                    "Success",
                    "Success",
                    "Success",
                    "Success",
                    "Success",
                    "Success",
                    "Success",
                    "Success",
                    "Success",
                    "Success",
                    "Failure",
                    "Success",
                    "Success",
                    "Success",
                    "Success",
                    "Success",
                    "Success",
                    "Success",
                    "Success",
                    "Success",
                    "Success",
                    "Success",
                    "Success",
                    "Success",
                    "Success",
                    "Partial Failure",
                    "Success",
                    "Success",
                    "Success",
                    "Success",
                    "Success",
                    "Success",
                    "Success",
                    "Success",
                    "Success",
                    "Success",
                    "Success",
                    "Success",
                    "Success",
                    "Success",
                    "Success",
                    "Success",
                    "Success",
                    "Success",
                    "Success",
                    "Success",
                    "Success",
                    "Success",
                    "Success",
                    "Success",
                    "Success",
                    "Failure",
                    "Success",
                    "Success",
                    "Success",
                    "Success",
                    "Success",
                    "Success",
                    "Success",
                    "Success",
                    "Success",
                    "Success",
                    "Success",
                    "Failure",
                    "Success",
                    "Success",
                    "Partial Failure",
                    "Success",
                    "Success",
                    "Success",
                    "Success",
                    "Success",
                    "Success",
                    "Success",
                    "Success",
                    "Success",
                    "Success",
                    "Success",
                    "Success",
                    "Success",
                    "Success",
                    "Success",
                    "Success",
                    "Partial Failure",
                    "Success",
                    "Success",
                    "Success",
                    "Success",
                    "Success",
                    "Success",
                    "Success",
                    "Success",
                    "Partial Failure",
                    "Success",
                    "Success",
                    "Success",
                    "Success",
                    "Success",
                    "Success",
                    "Success",
                    "Success",
                    "Success",
                    "Partial Failure",
                    "Success",
                    "Success",
                    "Success",
                    "Success",
                    "Success",
                    "Success",
                    "Success",
                    "Success",
                    "Success",
                    "Success",
                    "Success",
                    "Success",
                    "Success",
                    "Success",
                    "Success",
                    "Success",
                    "Success",
                    "Success",
                    "Success",
                    "Success",
                    "Success",
                    "Success",
                    "Success",
                    "Success",
                    "Success",
                    "Failure",
                    "Success",
                    "Success",
                    "Success",
                    "Success",
                    "Partial Failure",
                    "Success",
                    "Success",
                    "Failure",
                    "Success",
                    "Success",
                    "Success",
                    "Success",
                    "Success",
                    "Success",
                    "Success",
                    "Success",
                    "Success",
                    "Success",
                    "Success",
                    "Success",
                    "Success",
                    "Success",
                    "Success",
                    "Success",
                    "Success",
                    "Success",
                    "Success",
                    "Success",
                    "Success",
                    "Success",
                    "Success",
                    "Success",
                    "Failure",
                    "Failure",
                    "Success",
                    "Success",
                    "Success",
                    "Success",
                    "Partial Failure",
                    "Success",
                    "Success",
                    "Success",
                    "Success",
                    "Success",
                    "Success",
                    "Success",
                    "Success",
                    "Success",
                    "Partial Failure",
                    "Success",
                    "Success",
                    "Success",
                    "Success",
                    "Success",
                    "Success",
                    "Success",
                    "Success",
                    "Success",
                    "Success",
                    "Success",
                    "Success",
                    "Success",
                    "Success",
                    "Success",
                    "Success",
                    "Success",
                    "Success",
                    "Success",
                    "Success",
                    "Success",
                    "Success",
                    "Success",
                    "Success",
                    "Failure",
                    "Success",
                    "Failure",
                    "Success",
                    "Success",
                    "Success",
                    "Success",
                    "Success",
                    "Success",
                    "Success",
                    "Success",
                    "Success",
                    "Success",
                    "Success",
                    "Success",
                    "Success",
                    "Success",
                    "Success",
                    "Success",
                    "Success",
                    "Success",
                    "Success",
                    "Success",
                    "Success",
                    "Success",
                    "Success",
                    "Success",
                    "Success",
                    "Success",
                    "Success",
                    "Partial Failure",
                    "Success",
                    "Success",
                    "Success",
                    "Success",
                    "Partial Failure",
                    "Success",
                    "Success",
                    "Success",
                    "Partial Failure",
                    "Success",
                    "Success",
                    "Success",
                    "Success",
                    "Success",
                    "Success",
                    "Success",
                    "Success",
                    "Success",
                    "Success",
                    "Success",
                    "Success",
                    "Success",
                    "Success",
                    "Success",
                    "Success",
                    "Success",
                    "Success",
                    "Success",
                    "Success",
                    "Success",
                    "Success",
                    "Success",
                    "Success",
                    "Success",
                    "Success",
                    "Success",
                    "Success",
                    "Success",
                    "Success",
                    "Success",
                    "Success",
                    "Success",
                    "Success",
                    "Success",
                    "Success",
                    "Success",
                    "Success",
                    "Success",
                    "Success",
                    "Success",
                    "Success",
                    "Success",
                    "Success",
                    "Success",
                    "Success",
                    "Success",
                    "Success",
                    "Success",
                    "Success",
                    "Success",
                    "Success",
                    "Success",
                    "Success",
                    "Success",
                    "Success",
                    "Success",
                    "Success",
                    "Success",
                    "Success",
                    "Success",
                    "Success",
                    "Success",
                    "Success",
                    "Success",
                    "Failure",
                    "Success",
                    "Success",
                    "Success",
                    "Success",
                    "Success",
                    "Success",
                    "Success",
                    "Success",
                    "Success",
                    "Success",
                    "Success",
                    "Success",
                    "Success",
                    "Success",
                    "Success",
                    "Success",
                    "Success",
                    "Success",
                    "Success",
                    "Success",
                    "Success",
                    "Success",
                    "Success",
                    "Success",
                    "Success",
                    "Success",
                    "Success",
                    "Success",
                    "Success",
                    "Success",
                    "Success",
                    "Success",
                    "Success",
                    "Success",
                    "Success",
                    "Success",
                    "Success",
                    "Success",
                    "Success",
                    "Failure",
                    "Success",
                    "Success",
                    "Success",
                    "Success",
                    "Success",
                    "Success",
                    "Success",
                    "Success",
                    "Success",
                    "Failure",
                    "Success",
                    "Success",
                    "Success",
                    "Success",
                    "Success",
                    "Success",
                    "Success",
                    "Success",
                    "Success",
                    "Success",
                    "Success",
                    "Success",
                    "Success",
                    "Success",
                    "Success",
                    "Success",
                    "Success",
                    "Success",
                    "Success",
                    "Success",
                    "Success",
                    "Failure",
                    "Success",
                    "Success",
                    "Success",
                    "Success",
                    "Success",
                    "Success",
                    "Success",
                    "Success",
                    "Success",
                    "Success",
                    "Success",
                    "Success",
                    "Success",
                    "Success",
                    "Success",
                    "Success",
                    "Success",
                    "Success",
                    "Success",
                    "Success",
                    "Success",
                    "Success",
                    "Success",
                    "Success",
                    "Success",
                    "Success",
                    "Success",
                    "Success",
                    "Success",
                    "Success",
                    "Success",
                    "Success",
                    "Success",
                    "Success",
                    "Success",
                    "Success",
                    "Success",
                    "Success",
                    "Success",
                    "Success",
                    "Success",
                    "Success",
                    "Success",
                    "Success",
                    "Success",
                    "Success",
                    "Success",
                    "Success",
                    "Success",
                    "Success",
                    "Success",
                    "Success",
                    "Success",
                    "Success",
                    "Failure",
                    "Success",
                    "Success",
                    "Success",
                    "Success",
                    "Success",
                    "Success",
                    "Success",
                    "Success",
                    "Success",
                    "Success",
                    "Success",
                    "Success",
                    "Success",
                    "Success",
                    "Success",
                    "Success",
                    "Success",
                    "Success",
                    "Success",
                    "Success",
                    "Success",
                    "Success",
                    "Success",
                    "Success",
                    "Success",
                    "Success",
                    "Success",
                    "Success",
                    "Success",
                    "Success",
                    "Failure",
                    "Success",
                    "Success",
                    "Success",
                    "Success",
                    "Success",
                    "Success",
                    "Success",
                    "Success",
                    "Success",
                    "Failure",
                    "Success",
                    "Success",
                    "Success",
                    "Success",
                    "Success",
                    "Success",
                    "Success",
                    "Partial Failure",
                    "Success",
                    "Success",
                    "Success",
                    "Success",
                    "Success",
                    "Success",
                    "Success",
                    "Success",
                    "Success",
                    "Success",
                    "Success",
                    "Success",
                    "Success",
                    "Success",
                    "Success",
                    "Success",
                    "Success",
                    "Success",
                    "Success",
                    "Success",
                    "Success",
                    "Success",
                    "Partial Failure",
                    "Success",
                    "Success",
                    "Success",
                    "Success",
                    "Success",
                    "Success",
                    "Success",
                    "Success",
                    "Success",
                    "Success",
                    "Success",
                    "Success",
                    "Success",
                    "Success",
                    "Success",
                    "Success",
                    "Success",
                    "Success",
                    "Success",
                    "Success",
                    "Success",
                    "Success",
                    "Success",
                    "Success",
                    "Success",
                    "Success",
                    "Success",
                    "Success",
                    "Success",
                    "Success",
                    "Success",
                    "Success",
                    "Success",
                    "Success",
                    "Success",
                    "Success",
                    "Success",
                    "Success",
                    "Success",
                    "Success",
                    "Success",
                    "Success",
                    "Failure",
                    "Success",
                    "Success",
                    "Success",
                    "Success",
                    "Success",
                    "Success",
                    "Success",
                    "Success",
                    "Success",
                    "Success",
                    "Success",
                    "Success",
                    "Success",
                    "Failure",
                    "Success",
                    "Success",
                    "Success",
                    "Success",
                    "Success",
                    "Success",
                    "Success",
                    "Success",
                    "Success",
                    "Success",
                    "Success",
                    "Success",
                    "Success",
                    "Success",
                    "Success",
                    "Success",
                    "Success",
                    "Success",
                    "Success",
                    "Success",
                    "Success",
                    "Success",
                    "Success",
                    "Success",
                    "Success",
                    "Success",
                    "Success",
                    "Success",
                    "Success",
                    "Success",
                    "Success",
                    "Success",
                    "Success",
                    "Success",
                    "Success",
                    "Success",
                    "Success",
                    "Success",
                    "Success",
                    "Success",
                    "Success",
                    "Success",
                    "Success",
                    "Success",
                    "Success",
                    "Success",
                    "Success",
                    "Success",
                    "Success",
                    "Success",
                    "Success",
                    "Success",
                    "Success",
                    "Success",
                    "Success",
                    "Success",
                    "Success",
                    "Success",
                    "Success",
                    "Success",
                    "Success",
                    "Success",
                    "Failure",
                    "Success",
                    "Success",
                    "Success",
                    "Success",
                    "Success",
                    "Success",
                    "Success",
                    "Failure",
                    "Success",
                    "Success",
                    "Success",
                    "Success",
                    "Success",
                    "Success",
                    "Success",
                    "Success",
                    "Success",
                    "Success",
                    "Failure",
                    "Success",
                    "Success",
                    "Success",
                    "Failure",
                    "Success",
                    "Success",
                    "Success",
                    "Success",
                    "Success",
                    "Success",
                    "Success",
                    "Success",
                    "Success",
                    "Success",
                    "Success",
                    "Failure",
                    "Success",
                    "Success",
                    "Success",
                    "Success",
                    "Success",
                    "Success",
                    "Success",
                    "Success",
                    "Success",
                    "Success",
                    "Success",
                    "Success",
                    "Success",
                    "Success",
                    "Success",
                    "Success",
                    "Success",
                    "Partial Failure",
                    "Success",
                    "Success",
                    "Success",
                    "Success",
                    "Success",
                    "Success",
                    "Success",
                    "Failure",
                    "Success",
                    "Success",
                    "Success",
                    "Success",
                    "Success",
                    "Success",
                    "Success",
                    "Success",
                    "Success",
                    "Success",
                    "Success",
                    "Success",
                    "Success",
                    "Success",
                    "Success",
                    "Success",
                    "Failure",
                    "Success",
                    "Success",
                    "Success",
                    "Success",
                    "Success",
                    "Success",
                    "Success",
                    "Success",
                    "Success",
                    "Success",
                    "Success",
                    "Success",
                    "Success",
                    "Failure",
                    "Success",
                    "Failure",
                    "Success",
                    "Success",
                    "Success",
                    "Success",
                    "Success",
                    "Success",
                    "Success",
                    "Success",
                    "Success",
                    "Success",
                    "Success",
                    "Success",
                    "Success",
                    "Success",
                    "Success",
                    "Success",
                    "Failure",
                    "Success",
                    "Success",
                    "Success",
                    "Success",
                    "Success",
                    "Success",
                    "Success",
                    "Success",
                    "Success",
                    "Success",
                    "Success",
                    "Failure",
                    "Success",
                    "Success",
                    "Success",
                    "Success",
                    "Success",
                    "Success",
                    "Success",
                    "Success",
                    "Success",
                    "Success",
                    "Success",
                    "Success",
                    "Success",
                    "Success",
                    "Failure",
                    "Success",
                    "Success",
                    "Success",
                    "Success",
                    "Success",
                    "Success",
                    "Success",
                    "Success",
                    "Success",
                    "Success",
                    "Success",
                    "Success",
                    "Success",
                    "Success",
                    "Success",
                    "Success",
                    "Success",
                    "Success",
                    "Success",
                    "Success",
                    "Success",
                    "Success",
                    "Success",
                    "Success",
                    "Success",
                    "Success",
                    "Success",
                    "Success",
                    "Success",
                    "Success",
                    "Success",
                    "Success",
                    "Success",
                    "Success",
                    "Success",
                    "Success",
                    "Success",
                    "Success",
                    "Success",
                    "Success",
                    "Success",
                    "Success",
                    "Success",
                    "Success",
                    "Success",
                    "Failure",
                    "Success",
                    "Success",
                    "Success",
                    "Success",
                    "Success",
                    "Success",
                    "Success",
                    "Success",
                    "Success",
                    "Success",
                    "Success",
                    "Success",
                    "Success",
                    "Success",
                    "Success",
                    "Success",
                    "Failure",
                    "Success",
                    "Failure",
                    "Failure",
                    "Success",
                    "Success",
                    "Success",
                    "Success",
                    "Success",
                    "Success",
                    "Success",
                    "Success",
                    "Success",
                    "Success",
                    "Success",
                    "Failure",
                    "Success",
                    "Success",
                    "Failure",
                    "Success",
                    "Success",
                    "Success",
                    "Success",
                    "Success",
                    "Success",
                    "Failure",
                    "Success",
                    "Success",
                    "Success",
                    "Success",
                    "Success",
                    "Success",
                    "Success",
                    "Success",
                    "Success",
                    "Success",
                    "Success",
                    "Success",
                    "Success",
                    "Success",
                    "Success",
                    "Success",
                    "Success",
                    "Success",
                    "Success",
                    "Success",
                    "Success",
                    "Partial Failure",
                    "Success",
                    "Success",
                    "Success",
                    "Success",
                    "Success",
                    "Success",
                    "Success",
                    "Success",
                    "Success",
                    "Success",
                    "Success",
                    "Failure",
                    "Success",
                    "Success",
                    "Success",
                    "Success",
                    "Success",
                    "Success",
                    "Success",
                    "Failure",
                    "Success",
                    "Success",
                    "Success",
                    "Success",
                    "Success",
                    "Success",
                    "Success",
                    "Success",
                    "Success",
                    "Success",
                    "Success",
                    "Failure",
                    "Success",
                    "Success",
                    "Success",
                    "Success",
                    "Success",
                    "Success",
                    "Success",
                    "Success",
                    "Success",
                    "Success",
                    "Failure",
                    "Success",
                    "Success",
                    "Partial Failure",
                    "Success",
                    "Success",
                    "Success",
                    "Success",
                    "Success",
                    "Success",
                    "Success",
                    "Success",
                    "Success",
                    "Success",
                    "Success",
                    "Success",
                    "Success",
                    "Success",
                    "Success",
                    "Failure",
                    "Success",
                    "Success",
                    "Success",
                    "Success",
                    "Failure",
                    "Success",
                    "Success",
                    "Success",
                    "Success",
                    "Success",
                    "Success",
                    "Success",
                    "Success",
                    "Success",
                    "Partial Failure",
                    "Success",
                    "Success",
                    "Success",
                    "Success",
                    "Success",
                    "Success",
                    "Success",
                    "Success",
                    "Success",
                    "Success",
                    "Success",
                    "Success",
                    "Failure",
                    "Success",
                    "Success",
                    "Success",
                    "Success",
                    "Success",
                    "Success",
                    "Success",
                    "Success",
                    "Success",
                    "Success",
                    "Partial Failure",
                    "Success",
                    "Success",
                    "Success",
                    "Success",
                    "Success",
                    "Success",
                    "Success",
                    "Success",
                    "Success",
                    "Failure",
                    "Failure",
                    "Success",
                    "Failure",
                    "Success",
                    "Success",
                    "Success",
                    "Success",
                    "Success",
                    "Success",
                    "Success",
                    "Partial Failure",
                    "Success",
                    "Success",
                    "Failure",
                    "Success",
                    "Success",
                    "Success",
                    "Success",
                    "Success",
                    "Success",
                    "Success",
                    "Success",
                    "Success",
                    "Success",
                    "Success",
                    "Success",
                    "Success",
                    "Success",
                    "Success",
                    "Success",
                    "Success",
                    "Success",
                    "Success",
                    "Failure",
                    "Success",
                    "Success",
                    "Success",
                    "Success",
                    "Failure",
                    "Success",
                    "Success",
                    "Success",
                    "Success",
                    "Success",
                    "Failure",
                    "Success",
                    "Success",
                    "Failure",
                    "Failure",
                    "Success",
                    "Success",
                    "Success",
                    "Success",
                    "Success",
                    "Success",
                    "Success",
                    "Success",
                    "Success",
                    "Success",
                    "Success",
                    "Success",
                    "Success",
                    "Success",
                    "Success",
                    "Success",
                    "Failure",
                    "Success",
                    "Success",
                    "Success",
                    "Success",
                    "Success",
                    "Success",
                    "Success",
                    "Success",
                    "Success",
                    "Success",
                    "Success",
                    "Success",
                    "Success",
                    "Success",
                    "Success",
                    "Success",
                    "Success",
                    "Success",
                    "Success",
                    "Success",
                    "Failure",
                    "Failure",
                    "Success",
                    "Success",
                    "Success",
                    "Success",
                    "Success",
                    "Success",
                    "Success",
                    "Success",
                    "Success",
                    "Success",
                    "Success",
                    "Success",
                    "Success",
                    "Success",
                    "Success",
                    "Success",
                    "Success",
                    "Success",
                    "Success",
                    "Failure",
                    "Success",
                    "Success",
                    "Success",
                    "Success",
                    "Success",
                    "Success",
                    "Success",
                    "Success",
                    "Success",
                    "Success",
                    "Success",
                    "Failure",
                    "Success",
                    "Success",
                    "Success",
                    "Success",
                    "Success",
                    "Success",
                    "Partial Failure",
                    "Failure",
                    "Success",
                    "Success",
                    "Success",
                    "Success",
                    "Success",
                    "Success",
                    "Success",
                    "Success",
                    "Success",
                    "Success",
                    "Success",
                    "Success",
                    "Success",
                    "Success",
                    "Success",
                    "Success",
                    "Success",
                    "Success",
                    "Failure",
                    "Success",
                    "Success",
                    "Success",
                    "Success",
                    "Success",
                    "Success",
                    "Partial Failure",
                    "Partial Failure",
                    "Success",
                    "Success",
                    "Success",
                    "Success",
                    "Success",
                    "Success",
                    "Success",
                    "Success",
                    "Failure",
                    "Success",
                    "Success",
                    "Failure",
                    "Success",
                    "Success",
                    "Success",
                    "Success",
                    "Success",
                    "Success",
                    "Success",
                    "Success",
                    "Success",
                    "Failure",
                    "Success",
                    "Success",
                    "Failure",
                    "Success",
                    "Success",
                    "Success",
                    "Success",
                    "Success",
                    "Success",
                    "Success",
                    "Success",
                    "Success",
                    "Success",
                    "Success",
                    "Success",
                    "Success",
                    "Success",
                    "Success",
                    "Success",
                    "Success",
                    "Partial Failure",
                    "Success",
                    "Success",
                    "Success",
                    "Success",
                    "Success",
                    "Success",
                    "Success",
                    "Failure",
                    "Failure",
                    "Success",
                    "Success",
                    "Success",
                    "Success",
                    "Success",
                    "Success",
                    "Failure",
                    "Success",
                    "Success",
                    "Success",
                    "Success",
                    "Success",
                    "Success",
                    "Failure",
                    "Success",
                    "Success",
                    "Failure",
                    "Success",
                    "Success",
                    "Success",
                    "Success",
                    "Success",
                    "Success",
                    "Success",
                    "Success",
                    "Failure",
                    "Success",
                    "Success",
                    "Success",
                    "Success",
                    "Success",
                    "Success",
                    "Success",
                    "Success",
                    "Success",
                    "Success",
                    "Failure",
                    "Success",
                    "Success",
                    "Success",
                    "Success",
                    "Success",
                    "Success",
                    "Success",
                    "Success",
                    "Success",
                    "Success",
                    "Success",
                    "Success",
                    "Failure",
                    "Success",
                    "Success",
                    "Success",
                    "Success",
                    "Failure",
                    "Failure",
                    "Success",
                    "Success",
                    "Success",
                    "Failure",
                    "Success",
                    "Success",
                    "Success",
                    "Success",
                    "Success",
                    "Success",
                    "Success",
                    "Success",
                    "Partial Failure",
                    "Success",
                    "Success",
                    "Success",
                    "Success",
                    "Success",
                    "Success",
                    "Success",
                    "Success",
                    "Failure",
                    "Success",
                    "Success",
                    "Failure",
                    "Failure",
                    "Success",
                    "Success",
                    "Success",
                    "Success",
                    "Success",
                    "Success",
                    "Success",
                    "Success",
                    "Success",
                    "Success",
                    "Success",
                    "Success",
                    "Success",
                    "Failure",
                    "Failure",
                    "Success",
                    "Success",
                    "Failure",
                    "Failure",
                    "Success",
                    "Success",
                    "Failure",
                    "Success",
                    "Success",
                    "Success",
                    "Success",
                    "Success",
                    "Success",
                    "Success",
                    "Success",
                    "Success",
                    "Success",
                    "Success",
                    "Success",
                    "Success",
                    "Success",
                    "Success",
                    "Success",
                    "Success",
                    "Success",
                    "Success",
                    "Success",
                    "Success",
                    "Success",
                    "Success",
                    "Success",
                    "Success",
                    "Success",
                    "Success",
                    "Success",
                    "Success",
                    "Success",
                    "Success",
                    "Partial Failure",
                    "Success",
                    "Success",
                    "Success",
                    "Success",
                    "Success",
                    "Success",
                    "Success",
                    "Success",
                    "Success",
                    "Success",
                    "Success",
                    "Success",
                    "Success",
                    "Failure",
                    "Partial Failure",
                    "Success",
                    "Success",
                    "Success",
                    "Success",
                    "Success",
                    "Success",
                    "Success",
                    "Success",
                    "Success",
                    "Success",
                    "Success",
                    "Success",
                    "Success",
                    "Success",
                    "Failure",
                    "Success",
                    "Success",
                    "Success",
                    "Success",
                    "Failure",
                    "Success",
                    "Success",
                    "Success",
                    "Success",
                    "Success",
                    "Success",
                    "Success",
                    "Partial Failure",
                    "Failure",
                    "Success",
                    "Success",
                    "Success",
                    "Success",
                    "Success",
                    "Success",
                    "Success",
                    "Success",
                    "Success",
                    "Success",
                    "Partial Failure",
                    "Success",
                    "Success",
                    "Success",
                    "Success",
                    "Success",
                    "Success",
                    "Success",
                    "Failure",
                    "Success",
                    "Success",
                    "Success",
                    "Partial Failure",
                    "Success",
                    "Success",
                    "Failure",
                    "Success",
                    "Success",
                    "Success",
                    "Success",
                    "Success",
                    "Success",
                    "Success",
                    "Success",
                    "Success",
                    "Success",
                    "Success",
                    "Success",
                    "Success",
                    "Success",
                    "Success",
                    "Failure",
                    "Success",
                    "Success",
                    "Success",
                    "Success",
                    "Success",
                    "Success",
                    "Success",
                    "Success",
                    "Success",
                    "Success",
                    "Success",
                    "Success",
                    "Success",
                    "Success",
                    "Success",
                    "Success",
                    "Success",
                    "Success",
                    "Failure",
                    "Failure",
                    "Success",
                    "Success",
                    "Success",
                    "Success",
                    "Success",
                    "Success",
                    "Success",
                    "Success",
                    "Failure",
                    "Success",
                    "Success",
                    "Success",
                    "Success",
                    "Success",
                    "Success",
                    "Success",
                    "Partial Failure",
                    "Failure",
                    "Success",
                    "Success",
                    "Success",
                    "Success",
                    "Failure",
                    "Partial Failure",
                    "Failure",
                    "Partial Failure",
                    "Success",
                    "Success",
                    "Success",
                    "Success",
                    "Success",
                    "Success",
                    "Success",
                    "Success",
                    "Success",
                    "Success",
                    "Success",
                    "Success",
                    "Partial Failure",
                    "Success",
                    "Success",
                    "Success",
                    "Success",
                    "Success",
                    "Failure",
                    "Success",
                    "Success",
                    "Success",
                    "Success",
                    "Partial Failure",
                    "Partial Failure",
                    "Success",
                    "Failure",
                    "Success",
                    "Success",
                    "Failure",
                    "Success",
                    "Success",
                    "Success",
                    "Success",
                    "Success",
                    "Success",
                    "Success",
                    "Partial Failure",
                    "Success",
                    "Success",
                    "Success",
                    "Success",
                    "Partial Failure",
                    "Success",
                    "Success",
                    "Success",
                    "Failure",
                    "Success",
                    "Success",
                    "Success",
                    "Success",
                    "Success",
                    "Failure",
                    "Success",
                    "Success",
                    "Prelaunch Failure",
                    "Success",
                    "Success",
                    "Success",
                    "Success",
                    "Success",
                    "Success",
                    "Success",
                    "Failure",
                    "Success",
                    "Success",
                    "Success",
                    "Success",
                    "Success",
                    "Success",
                    "Partial Failure",
                    "Success",
                    "Success",
                    "Success",
                    "Success",
                    "Success",
                    "Success",
                    "Success",
                    "Success",
                    "Failure",
                    "Success",
                    "Partial Failure",
                    "Success",
                    "Failure",
                    "Success",
                    "Success",
                    "Success",
                    "Failure",
                    "Success",
                    "Success",
                    "Success",
                    "Success",
                    "Success",
                    "Success",
                    "Success",
                    "Success",
                    "Success",
                    "Success",
                    "Success",
                    "Success",
                    "Partial Failure",
                    "Success",
                    "Success",
                    "Success",
                    "Success",
                    "Success",
                    "Success",
                    "Success",
                    "Partial Failure",
                    "Success",
                    "Success",
                    "Success",
                    "Partial Failure",
                    "Success",
                    "Success",
                    "Success",
                    "Failure",
                    "Failure",
                    "Partial Failure",
                    "Success",
                    "Success",
                    "Success",
                    "Success",
                    "Success",
                    "Success",
                    "Success",
                    "Success",
                    "Partial Failure",
                    "Success",
                    "Success",
                    "Success",
                    "Failure",
                    "Failure",
                    "Success",
                    "Success",
                    "Success",
                    "Success",
                    "Partial Failure",
                    "Success",
                    "Success",
                    "Failure",
                    "Success",
                    "Success",
                    "Success",
                    "Success",
                    "Success",
                    "Success",
                    "Success",
                    "Success",
                    "Success",
                    "Partial Failure",
                    "Failure",
                    "Success",
                    "Success",
                    "Partial Failure",
                    "Success",
                    "Success",
                    "Success",
                    "Success",
                    "Success",
                    "Success",
                    "Success",
                    "Success",
                    "Success",
                    "Partial Failure",
                    "Success",
                    "Success",
                    "Success",
                    "Success",
                    "Success",
                    "Success",
                    "Failure",
                    "Success",
                    "Success",
                    "Failure",
                    "Success",
                    "Success",
                    "Success",
                    "Success",
                    "Success",
                    "Success",
                    "Success",
                    "Success",
                    "Success",
                    "Success",
                    "Success",
                    "Success",
                    "Success",
                    "Success",
                    "Success",
                    "Success",
                    "Success",
                    "Success",
                    "Success",
                    "Success",
                    "Failure",
                    "Failure",
                    "Success",
                    "Success",
                    "Success",
                    "Success",
                    "Success",
                    "Success",
                    "Success",
                    "Failure",
                    "Success",
                    "Success",
                    "Success",
                    "Success",
                    "Success",
                    "Success",
                    "Success",
                    "Success",
                    "Success",
                    "Failure",
                    "Success",
                    "Success",
                    "Success",
                    "Success",
                    "Success",
                    "Success",
                    "Success",
                    "Success",
                    "Success",
                    "Failure",
                    "Success",
                    "Success",
                    "Success",
                    "Failure",
                    "Success",
                    "Success",
                    "Failure",
                    "Success",
                    "Success",
                    "Success",
                    "Failure",
                    "Success",
                    "Success",
                    "Partial Failure",
                    "Success",
                    "Success",
                    "Success",
                    "Failure",
                    "Success",
                    "Success",
                    "Failure",
                    "Success",
                    "Success",
                    "Failure",
                    "Success",
                    "Success",
                    "Success",
                    "Failure",
                    "Success",
                    "Success",
                    "Success",
                    "Success",
                    "Success",
                    "Success",
                    "Failure",
                    "Success",
                    "Success",
                    "Success",
                    "Success",
                    "Success",
                    "Success",
                    "Success",
                    "Success",
                    "Success",
                    "Success",
                    "Success",
                    "Success",
                    "Success",
                    "Failure",
                    "Success",
                    "Success",
                    "Success",
                    "Failure",
                    "Success",
                    "Success",
                    "Success",
                    "Success",
                    "Success",
                    "Failure",
                    "Success",
                    "Success",
                    "Success",
                    "Success",
                    "Partial Failure",
                    "Failure",
                    "Success",
                    "Success",
                    "Success",
                    "Success",
                    "Failure",
                    "Success",
                    "Success",
                    "Success",
                    "Success",
                    "Success",
                    "Success",
                    "Success",
                    "Failure",
                    "Success",
                    "Success",
                    "Success",
                    "Success",
                    "Success",
                    "Failure",
                    "Success",
                    "Success",
                    "Failure",
                    "Success",
                    "Failure",
                    "Success",
                    "Success",
                    "Success",
                    "Failure",
                    "Success",
                    "Success",
                    "Success",
                    "Success",
                    "Failure",
                    "Failure",
                    "Success",
                    "Success",
                    "Success",
                    "Success",
                    "Success",
                    "Failure",
                    "Success",
                    "Success",
                    "Failure",
                    "Failure",
                    "Success",
                    "Success",
                    "Success",
                    "Failure",
                    "Failure",
                    "Success",
                    "Success",
                    "Failure",
                    "Success",
                    "Success",
                    "Success",
                    "Success",
                    "Success",
                    "Success",
                    "Success",
                    "Success",
                    "Failure",
                    "Success",
                    "Success",
                    "Success",
                    "Success",
                    "Failure",
                    "Failure",
                    "Success",
                    "Success",
                    "Success",
                    "Success",
                    "Success",
                    "Success",
                    "Success",
                    "Success",
                    "Success",
                    "Success",
                    "Success",
                    "Failure",
                    "Success",
                    "Failure",
                    "Success",
                    "Success",
                    "Failure",
                    "Success",
                    "Success",
                    "Success",
                    "Success",
                    "Success",
                    "Success",
                    "Success",
                    "Success",
                    "Failure",
                    "Success",
                    "Success",
                    "Success",
                    "Success",
                    "Success",
                    "Success",
                    "Success",
                    "Success",
                    "Success",
                    "Success",
                    "Failure",
                    "Success",
                    "Success",
                    "Success",
                    "Failure",
                    "Success",
                    "Failure",
                    "Failure",
                    "Success",
                    "Success",
                    "Success",
                    "Failure",
                    "Success",
                    "Success",
                    "Success",
                    "Success",
                    "Success",
                    "Success",
                    "Success",
                    "Success",
                    "Success",
                    "Success",
                    "Partial Failure",
                    "Success",
                    "Success",
                    "Partial Failure",
                    "Failure",
                    "Failure",
                    "Partial Failure",
                    "Failure",
                    "Success",
                    "Failure",
                    "Success",
                    "Failure",
                    "Failure",
                    "Success",
                    "Success",
                    "Failure",
                    "Failure",
                    "Failure",
                    "Failure",
                    "Partial Failure",
                    "Success",
                    "Success",
                    "Success",
                    "Success",
                    "Failure",
                    "Success",
                    "Partial Failure",
                    "Failure",
                    "Success",
                    "Success",
                    "Failure",
                    "Failure",
                    "Success",
                    "Success",
                    "Success",
                    "Success",
                    "Failure",
                    "Success",
                    "Success",
                    "Failure",
                    "Success",
                    "Failure",
                    "Success",
                    "Success",
                    "Failure",
                    "Success",
                    "Success",
                    "Success",
                    "Success",
                    "Success",
                    "Success",
                    "Success",
                    "Success",
                    "Success",
                    "Success",
                    "Failure",
                    "Success",
                    "Success",
                    "Failure",
                    "Success",
                    "Success",
                    "Failure",
                    "Success",
                    "Failure",
                    "Success",
                    "Failure",
                    "Success",
                    "Failure",
                    "Success",
                    "Failure",
                    "Failure",
                    "Failure",
                    "Failure",
                    "Success",
                    "Failure",
                    "Success",
                    "Success",
                    "Failure",
                    "Success",
                    "Success",
                    "Success",
                    "Failure",
                    "Failure",
                    "Failure",
                    "Success",
                    "Success",
                    "Success",
                    "Failure",
                    "Failure",
                    "Success",
                    "Failure",
                    "Success",
                    "Success",
                    "Success",
                    "Failure",
                    "Failure",
                    "Failure",
                    "Failure",
                    "Failure",
                    "Success",
                    "Success",
                    "Partial Failure",
                    "Failure",
                    "Success",
                    "Partial Failure",
                    "Success",
                    "Success",
                    "Success",
                    "Failure",
                    "Failure",
                    "Failure",
                    "Failure",
                    "Failure",
                    "Success",
                    "Failure",
                    "Success",
                    "Partial Failure",
                    "Success",
                    "Partial Failure",
                    "Failure",
                    "Failure",
                    "Failure",
                    "Failure",
                    "Partial Failure",
                    "Failure",
                    "Failure",
                    "Failure",
                    "Failure",
                    "Failure",
                    "Failure",
                    "Failure",
                    "Failure",
                    "Failure",
                    "Success",
                    "Failure",
                    "Failure",
                    "Failure",
                    "Success",
                    "Failure",
                    "Failure",
                    "Success",
                    "Success",
                    "Failure",
                    "Failure",
                    "Success",
                    "Failure",
                    "Success",
                    "Success"
                  ],
                  "legendgroup": "",
                  "name": "",
                  "showlegend": true,
                  "type": "pie"
                }
              ],
              "layout": {
                "legend": {
                  "tracegroupgap": 0
                },
                "template": {
                  "data": {
                    "bar": [
                      {
                        "error_x": {
                          "color": "#2a3f5f"
                        },
                        "error_y": {
                          "color": "#2a3f5f"
                        },
                        "marker": {
                          "line": {
                            "color": "#E5ECF6",
                            "width": 0.5
                          },
                          "pattern": {
                            "fillmode": "overlay",
                            "size": 10,
                            "solidity": 0.2
                          }
                        },
                        "type": "bar"
                      }
                    ],
                    "barpolar": [
                      {
                        "marker": {
                          "line": {
                            "color": "#E5ECF6",
                            "width": 0.5
                          },
                          "pattern": {
                            "fillmode": "overlay",
                            "size": 10,
                            "solidity": 0.2
                          }
                        },
                        "type": "barpolar"
                      }
                    ],
                    "carpet": [
                      {
                        "aaxis": {
                          "endlinecolor": "#2a3f5f",
                          "gridcolor": "white",
                          "linecolor": "white",
                          "minorgridcolor": "white",
                          "startlinecolor": "#2a3f5f"
                        },
                        "baxis": {
                          "endlinecolor": "#2a3f5f",
                          "gridcolor": "white",
                          "linecolor": "white",
                          "minorgridcolor": "white",
                          "startlinecolor": "#2a3f5f"
                        },
                        "type": "carpet"
                      }
                    ],
                    "choropleth": [
                      {
                        "colorbar": {
                          "outlinewidth": 0,
                          "ticks": ""
                        },
                        "type": "choropleth"
                      }
                    ],
                    "contour": [
                      {
                        "colorbar": {
                          "outlinewidth": 0,
                          "ticks": ""
                        },
                        "colorscale": [
                          [
                            0,
                            "#0d0887"
                          ],
                          [
                            0.1111111111111111,
                            "#46039f"
                          ],
                          [
                            0.2222222222222222,
                            "#7201a8"
                          ],
                          [
                            0.3333333333333333,
                            "#9c179e"
                          ],
                          [
                            0.4444444444444444,
                            "#bd3786"
                          ],
                          [
                            0.5555555555555556,
                            "#d8576b"
                          ],
                          [
                            0.6666666666666666,
                            "#ed7953"
                          ],
                          [
                            0.7777777777777778,
                            "#fb9f3a"
                          ],
                          [
                            0.8888888888888888,
                            "#fdca26"
                          ],
                          [
                            1,
                            "#f0f921"
                          ]
                        ],
                        "type": "contour"
                      }
                    ],
                    "contourcarpet": [
                      {
                        "colorbar": {
                          "outlinewidth": 0,
                          "ticks": ""
                        },
                        "type": "contourcarpet"
                      }
                    ],
                    "heatmap": [
                      {
                        "colorbar": {
                          "outlinewidth": 0,
                          "ticks": ""
                        },
                        "colorscale": [
                          [
                            0,
                            "#0d0887"
                          ],
                          [
                            0.1111111111111111,
                            "#46039f"
                          ],
                          [
                            0.2222222222222222,
                            "#7201a8"
                          ],
                          [
                            0.3333333333333333,
                            "#9c179e"
                          ],
                          [
                            0.4444444444444444,
                            "#bd3786"
                          ],
                          [
                            0.5555555555555556,
                            "#d8576b"
                          ],
                          [
                            0.6666666666666666,
                            "#ed7953"
                          ],
                          [
                            0.7777777777777778,
                            "#fb9f3a"
                          ],
                          [
                            0.8888888888888888,
                            "#fdca26"
                          ],
                          [
                            1,
                            "#f0f921"
                          ]
                        ],
                        "type": "heatmap"
                      }
                    ],
                    "heatmapgl": [
                      {
                        "colorbar": {
                          "outlinewidth": 0,
                          "ticks": ""
                        },
                        "colorscale": [
                          [
                            0,
                            "#0d0887"
                          ],
                          [
                            0.1111111111111111,
                            "#46039f"
                          ],
                          [
                            0.2222222222222222,
                            "#7201a8"
                          ],
                          [
                            0.3333333333333333,
                            "#9c179e"
                          ],
                          [
                            0.4444444444444444,
                            "#bd3786"
                          ],
                          [
                            0.5555555555555556,
                            "#d8576b"
                          ],
                          [
                            0.6666666666666666,
                            "#ed7953"
                          ],
                          [
                            0.7777777777777778,
                            "#fb9f3a"
                          ],
                          [
                            0.8888888888888888,
                            "#fdca26"
                          ],
                          [
                            1,
                            "#f0f921"
                          ]
                        ],
                        "type": "heatmapgl"
                      }
                    ],
                    "histogram": [
                      {
                        "marker": {
                          "pattern": {
                            "fillmode": "overlay",
                            "size": 10,
                            "solidity": 0.2
                          }
                        },
                        "type": "histogram"
                      }
                    ],
                    "histogram2d": [
                      {
                        "colorbar": {
                          "outlinewidth": 0,
                          "ticks": ""
                        },
                        "colorscale": [
                          [
                            0,
                            "#0d0887"
                          ],
                          [
                            0.1111111111111111,
                            "#46039f"
                          ],
                          [
                            0.2222222222222222,
                            "#7201a8"
                          ],
                          [
                            0.3333333333333333,
                            "#9c179e"
                          ],
                          [
                            0.4444444444444444,
                            "#bd3786"
                          ],
                          [
                            0.5555555555555556,
                            "#d8576b"
                          ],
                          [
                            0.6666666666666666,
                            "#ed7953"
                          ],
                          [
                            0.7777777777777778,
                            "#fb9f3a"
                          ],
                          [
                            0.8888888888888888,
                            "#fdca26"
                          ],
                          [
                            1,
                            "#f0f921"
                          ]
                        ],
                        "type": "histogram2d"
                      }
                    ],
                    "histogram2dcontour": [
                      {
                        "colorbar": {
                          "outlinewidth": 0,
                          "ticks": ""
                        },
                        "colorscale": [
                          [
                            0,
                            "#0d0887"
                          ],
                          [
                            0.1111111111111111,
                            "#46039f"
                          ],
                          [
                            0.2222222222222222,
                            "#7201a8"
                          ],
                          [
                            0.3333333333333333,
                            "#9c179e"
                          ],
                          [
                            0.4444444444444444,
                            "#bd3786"
                          ],
                          [
                            0.5555555555555556,
                            "#d8576b"
                          ],
                          [
                            0.6666666666666666,
                            "#ed7953"
                          ],
                          [
                            0.7777777777777778,
                            "#fb9f3a"
                          ],
                          [
                            0.8888888888888888,
                            "#fdca26"
                          ],
                          [
                            1,
                            "#f0f921"
                          ]
                        ],
                        "type": "histogram2dcontour"
                      }
                    ],
                    "mesh3d": [
                      {
                        "colorbar": {
                          "outlinewidth": 0,
                          "ticks": ""
                        },
                        "type": "mesh3d"
                      }
                    ],
                    "parcoords": [
                      {
                        "line": {
                          "colorbar": {
                            "outlinewidth": 0,
                            "ticks": ""
                          }
                        },
                        "type": "parcoords"
                      }
                    ],
                    "pie": [
                      {
                        "automargin": true,
                        "type": "pie"
                      }
                    ],
                    "scatter": [
                      {
                        "fillpattern": {
                          "fillmode": "overlay",
                          "size": 10,
                          "solidity": 0.2
                        },
                        "type": "scatter"
                      }
                    ],
                    "scatter3d": [
                      {
                        "line": {
                          "colorbar": {
                            "outlinewidth": 0,
                            "ticks": ""
                          }
                        },
                        "marker": {
                          "colorbar": {
                            "outlinewidth": 0,
                            "ticks": ""
                          }
                        },
                        "type": "scatter3d"
                      }
                    ],
                    "scattercarpet": [
                      {
                        "marker": {
                          "colorbar": {
                            "outlinewidth": 0,
                            "ticks": ""
                          }
                        },
                        "type": "scattercarpet"
                      }
                    ],
                    "scattergeo": [
                      {
                        "marker": {
                          "colorbar": {
                            "outlinewidth": 0,
                            "ticks": ""
                          }
                        },
                        "type": "scattergeo"
                      }
                    ],
                    "scattergl": [
                      {
                        "marker": {
                          "colorbar": {
                            "outlinewidth": 0,
                            "ticks": ""
                          }
                        },
                        "type": "scattergl"
                      }
                    ],
                    "scattermapbox": [
                      {
                        "marker": {
                          "colorbar": {
                            "outlinewidth": 0,
                            "ticks": ""
                          }
                        },
                        "type": "scattermapbox"
                      }
                    ],
                    "scatterpolar": [
                      {
                        "marker": {
                          "colorbar": {
                            "outlinewidth": 0,
                            "ticks": ""
                          }
                        },
                        "type": "scatterpolar"
                      }
                    ],
                    "scatterpolargl": [
                      {
                        "marker": {
                          "colorbar": {
                            "outlinewidth": 0,
                            "ticks": ""
                          }
                        },
                        "type": "scatterpolargl"
                      }
                    ],
                    "scatterternary": [
                      {
                        "marker": {
                          "colorbar": {
                            "outlinewidth": 0,
                            "ticks": ""
                          }
                        },
                        "type": "scatterternary"
                      }
                    ],
                    "surface": [
                      {
                        "colorbar": {
                          "outlinewidth": 0,
                          "ticks": ""
                        },
                        "colorscale": [
                          [
                            0,
                            "#0d0887"
                          ],
                          [
                            0.1111111111111111,
                            "#46039f"
                          ],
                          [
                            0.2222222222222222,
                            "#7201a8"
                          ],
                          [
                            0.3333333333333333,
                            "#9c179e"
                          ],
                          [
                            0.4444444444444444,
                            "#bd3786"
                          ],
                          [
                            0.5555555555555556,
                            "#d8576b"
                          ],
                          [
                            0.6666666666666666,
                            "#ed7953"
                          ],
                          [
                            0.7777777777777778,
                            "#fb9f3a"
                          ],
                          [
                            0.8888888888888888,
                            "#fdca26"
                          ],
                          [
                            1,
                            "#f0f921"
                          ]
                        ],
                        "type": "surface"
                      }
                    ],
                    "table": [
                      {
                        "cells": {
                          "fill": {
                            "color": "#EBF0F8"
                          },
                          "line": {
                            "color": "white"
                          }
                        },
                        "header": {
                          "fill": {
                            "color": "#C8D4E3"
                          },
                          "line": {
                            "color": "white"
                          }
                        },
                        "type": "table"
                      }
                    ]
                  },
                  "layout": {
                    "annotationdefaults": {
                      "arrowcolor": "#2a3f5f",
                      "arrowhead": 0,
                      "arrowwidth": 1
                    },
                    "autotypenumbers": "strict",
                    "coloraxis": {
                      "colorbar": {
                        "outlinewidth": 0,
                        "ticks": ""
                      }
                    },
                    "colorscale": {
                      "diverging": [
                        [
                          0,
                          "#8e0152"
                        ],
                        [
                          0.1,
                          "#c51b7d"
                        ],
                        [
                          0.2,
                          "#de77ae"
                        ],
                        [
                          0.3,
                          "#f1b6da"
                        ],
                        [
                          0.4,
                          "#fde0ef"
                        ],
                        [
                          0.5,
                          "#f7f7f7"
                        ],
                        [
                          0.6,
                          "#e6f5d0"
                        ],
                        [
                          0.7,
                          "#b8e186"
                        ],
                        [
                          0.8,
                          "#7fbc41"
                        ],
                        [
                          0.9,
                          "#4d9221"
                        ],
                        [
                          1,
                          "#276419"
                        ]
                      ],
                      "sequential": [
                        [
                          0,
                          "#0d0887"
                        ],
                        [
                          0.1111111111111111,
                          "#46039f"
                        ],
                        [
                          0.2222222222222222,
                          "#7201a8"
                        ],
                        [
                          0.3333333333333333,
                          "#9c179e"
                        ],
                        [
                          0.4444444444444444,
                          "#bd3786"
                        ],
                        [
                          0.5555555555555556,
                          "#d8576b"
                        ],
                        [
                          0.6666666666666666,
                          "#ed7953"
                        ],
                        [
                          0.7777777777777778,
                          "#fb9f3a"
                        ],
                        [
                          0.8888888888888888,
                          "#fdca26"
                        ],
                        [
                          1,
                          "#f0f921"
                        ]
                      ],
                      "sequentialminus": [
                        [
                          0,
                          "#0d0887"
                        ],
                        [
                          0.1111111111111111,
                          "#46039f"
                        ],
                        [
                          0.2222222222222222,
                          "#7201a8"
                        ],
                        [
                          0.3333333333333333,
                          "#9c179e"
                        ],
                        [
                          0.4444444444444444,
                          "#bd3786"
                        ],
                        [
                          0.5555555555555556,
                          "#d8576b"
                        ],
                        [
                          0.6666666666666666,
                          "#ed7953"
                        ],
                        [
                          0.7777777777777778,
                          "#fb9f3a"
                        ],
                        [
                          0.8888888888888888,
                          "#fdca26"
                        ],
                        [
                          1,
                          "#f0f921"
                        ]
                      ]
                    },
                    "colorway": [
                      "#636efa",
                      "#EF553B",
                      "#00cc96",
                      "#ab63fa",
                      "#FFA15A",
                      "#19d3f3",
                      "#FF6692",
                      "#B6E880",
                      "#FF97FF",
                      "#FECB52"
                    ],
                    "font": {
                      "color": "#2a3f5f"
                    },
                    "geo": {
                      "bgcolor": "white",
                      "lakecolor": "white",
                      "landcolor": "#E5ECF6",
                      "showlakes": true,
                      "showland": true,
                      "subunitcolor": "white"
                    },
                    "hoverlabel": {
                      "align": "left"
                    },
                    "hovermode": "closest",
                    "mapbox": {
                      "style": "light"
                    },
                    "paper_bgcolor": "white",
                    "plot_bgcolor": "#E5ECF6",
                    "polar": {
                      "angularaxis": {
                        "gridcolor": "white",
                        "linecolor": "white",
                        "ticks": ""
                      },
                      "bgcolor": "#E5ECF6",
                      "radialaxis": {
                        "gridcolor": "white",
                        "linecolor": "white",
                        "ticks": ""
                      }
                    },
                    "scene": {
                      "xaxis": {
                        "backgroundcolor": "#E5ECF6",
                        "gridcolor": "white",
                        "gridwidth": 2,
                        "linecolor": "white",
                        "showbackground": true,
                        "ticks": "",
                        "zerolinecolor": "white"
                      },
                      "yaxis": {
                        "backgroundcolor": "#E5ECF6",
                        "gridcolor": "white",
                        "gridwidth": 2,
                        "linecolor": "white",
                        "showbackground": true,
                        "ticks": "",
                        "zerolinecolor": "white"
                      },
                      "zaxis": {
                        "backgroundcolor": "#E5ECF6",
                        "gridcolor": "white",
                        "gridwidth": 2,
                        "linecolor": "white",
                        "showbackground": true,
                        "ticks": "",
                        "zerolinecolor": "white"
                      }
                    },
                    "shapedefaults": {
                      "line": {
                        "color": "#2a3f5f"
                      }
                    },
                    "ternary": {
                      "aaxis": {
                        "gridcolor": "white",
                        "linecolor": "white",
                        "ticks": ""
                      },
                      "baxis": {
                        "gridcolor": "white",
                        "linecolor": "white",
                        "ticks": ""
                      },
                      "bgcolor": "#E5ECF6",
                      "caxis": {
                        "gridcolor": "white",
                        "linecolor": "white",
                        "ticks": ""
                      }
                    },
                    "title": {
                      "x": 0.05
                    },
                    "xaxis": {
                      "automargin": true,
                      "gridcolor": "white",
                      "linecolor": "white",
                      "ticks": "",
                      "title": {
                        "standoff": 15
                      },
                      "zerolinecolor": "white",
                      "zerolinewidth": 2
                    },
                    "yaxis": {
                      "automargin": true,
                      "gridcolor": "white",
                      "linecolor": "white",
                      "ticks": "",
                      "title": {
                        "standoff": 15
                      },
                      "zerolinecolor": "white",
                      "zerolinewidth": 2
                    }
                  }
                },
                "title": {
                  "text": "Distribution of Mission Status"
                }
              }
            }
          },
          "metadata": {},
          "output_type": "display_data"
        }
      ],
      "source": [
        "figure = px.pie(df_data, df_data[\"Mission_Status\"], title=\"Distribution of Mission Status\")\n",
        "\n",
        "figure.show()"
      ]
    },
    {
      "cell_type": "markdown",
      "metadata": {
        "id": "jgTCihuoa-qH",
        "papermill": {
          "duration": 0.03854,
          "end_time": "2020-10-20T21:34:05.968626",
          "exception": false,
          "start_time": "2020-10-20T21:34:05.930086",
          "status": "completed"
        },
        "tags": []
      },
      "source": [
        "## How Expensive are the Launches?"
      ]
    },
    {
      "cell_type": "markdown",
      "metadata": {},
      "source": [
        "Create a histogram and visualise the distribution. The price column is given in USD millions (careful of missing values). "
      ]
    },
    {
      "cell_type": "code",
      "execution_count": 24,
      "metadata": {},
      "outputs": [],
      "source": [
        "# convert the prices to numeric\n",
        "df_data[\"Price\"] = df_data[\"Price\"].str.replace(\",\", \"\")\n",
        "\n",
        "df_data[\"Price\"] = pd.to_numeric(df_data[\"Price\"])\n",
        "\n",
        "prices = df_data[\"Price\"].dropna()"
      ]
    },
    {
      "cell_type": "code",
      "execution_count": 25,
      "metadata": {
        "id": "ru0IcY4nnSFU"
      },
      "outputs": [
        {
          "data": {
            "image/png": "[encoded data removed]",
            "text/plain": [
              "<Figure size 1600x900 with 1 Axes>"
            ]
          },
          "metadata": {},
          "output_type": "display_data"
        }
      ],
      "source": [
        "plt.figure(figsize=(16, 9))\n",
        "sns.histplot(\n",
        "    data=prices,\n",
        "    x=prices.values,\n",
        "    bins=200,\n",
        ")\n",
        "\n",
        "plt.title(\"Prices of Space Flights\", fontsize=24)\n",
        "plt.xlabel(\"Price in Millions\")\n",
        "plt.ylabel(\"Number of Space Flights\")\n",
        "\n",
        "# draw ticks for better visualization\n",
        "major_ticks = [n * 1000 for n in range(6)]\n",
        "minor_ticks = [n * 100 for n in range(60)]\n",
        "\n",
        "plt.xticks(major_ticks)\n",
        "plt.gca().set_xticks(minor_ticks, minor=True)\n",
        "\n",
        "plt.show()"
      ]
    },
    {
      "cell_type": "markdown",
      "metadata": {
        "id": "QiNtigQDne3E"
      },
      "source": [
        "## Use a Choropleth Map to Show the Number of Launches by Country"
      ]
    },
    {
      "cell_type": "markdown",
      "metadata": {},
      "source": [
        "* Create a choropleth map using [the plotly documentation](https://plotly.com/python/choropleth-maps/)\n",
        "* Experiment with [plotly's available colours](https://plotly.com/python/builtin-colorscales/). I quite like the sequential colour `matter` on this map. \n",
        "* You'll need to extract a `country` feature as well as change the country names that no longer exist.\n",
        "\n",
        "Wrangle the Country Names\n",
        "\n",
        "You'll need to use a 3 letter country code for each country. You might have to change some country names.\n",
        "\n",
        "* Russia is the Russian Federation\n",
        "* New Mexico should be USA\n",
        "* Yellow Sea refers to China\n",
        "* Shahrud Missile Test Site should be Iran\n",
        "* Pacific Missile Range Facility should be USA\n",
        "* Barents Sea should be Russian Federation\n",
        "* Gran Canaria should be USA\n",
        "\n",
        "\n",
        "You can use the iso3166 package to convert the country names to Alpha3 format."
      ]
    },
    {
      "cell_type": "code",
      "execution_count": 26,
      "metadata": {
        "id": "ESGRWiX6ozZG"
      },
      "outputs": [],
      "source": [
        "df_data[\"ISO_code\"] = df_data[\"Location\"].str.split(\", \").str[-1]"
      ]
    },
    {
      "cell_type": "code",
      "execution_count": 27,
      "metadata": {},
      "outputs": [
        {
          "data": {
            "text/plain": [
              "0              USA\n",
              "1            China\n",
              "2              USA\n",
              "3       Kazakhstan\n",
              "4              USA\n",
              "           ...    \n",
              "4319           USA\n",
              "4320           USA\n",
              "4321           USA\n",
              "4322    Kazakhstan\n",
              "4323    Kazakhstan\n",
              "Name: ISO_code, Length: 4323, dtype: object"
            ]
          },
          "execution_count": 27,
          "metadata": {},
          "output_type": "execute_result"
        }
      ],
      "source": [
        "country_name_mapping = {\n",
        "    'Russia': 'Russian Federation',\n",
        "    'New Mexico': 'USA',\n",
        "    'Yellow Sea': 'China',\n",
        "    'Shahrud Missile Test Site': 'Iran, Islamic Republic of',\n",
        "    'Pacific Missile Range Facility': 'USA',\n",
        "    'Barents Sea': 'Russian Federation',\n",
        "    'Gran Canaria': 'USA',\n",
        "    # These where are additional places you have to account for\n",
        "    'Iran' : 'Iran, Islamic Republic of',\n",
        "    'South Korea' : 'Korea, Republic of',\n",
        "    'North Korea' : 'Korea, Democratic People\\'s Republic of',\n",
        "    'Pacific Ocean' : 'Kiribati'\n",
        "}\n",
        "\n",
        "df_data[\"ISO_code\"] = df_data[\"ISO_code\"].replace(country_name_mapping)\n",
        "\n",
        "df_data[\"ISO_code\"]"
      ]
    },
    {
      "cell_type": "code",
      "execution_count": 28,
      "metadata": {},
      "outputs": [
        {
          "data": {
            "text/plain": [
              "0       USA\n",
              "1       CHN\n",
              "2       USA\n",
              "3       KAZ\n",
              "4       USA\n",
              "       ... \n",
              "4319    USA\n",
              "4320    USA\n",
              "4321    USA\n",
              "4322    KAZ\n",
              "4323    KAZ\n",
              "Name: ISO_code, Length: 4323, dtype: object"
            ]
          },
          "execution_count": 28,
          "metadata": {},
          "output_type": "execute_result"
        }
      ],
      "source": [
        "df_data[\"ISO_code\"] = df_data[\"ISO_code\"].apply(lambda x: countries.get(x).alpha3)\n",
        "\n",
        "df_data[\"ISO_code\"]"
      ]
    },
    {
      "cell_type": "code",
      "execution_count": 29,
      "metadata": {},
      "outputs": [
        {
          "data": {
            "text/plain": [
              "RUS    1398\n",
              "USA    1351\n",
              "KAZ     701\n",
              "FRA     303\n",
              "CHN     268\n",
              "JPN     126\n",
              "IND      76\n",
              "KIR      36\n",
              "IRN      14\n",
              "NZL      13\n",
              "ISR      11\n",
              "KEN       9\n",
              "AUS       6\n",
              "PRK       5\n",
              "KOR       3\n",
              "BRA       3\n",
              "Name: ISO_code, dtype: int64"
            ]
          },
          "execution_count": 29,
          "metadata": {},
          "output_type": "execute_result"
        }
      ],
      "source": [
        "df_countries = df_data[\"ISO_code\"].value_counts()\n",
        "\n",
        "df_countries"
      ]
    },
    {
      "cell_type": "code",
      "execution_count": 43,
      "metadata": {},
      "outputs": [
        {
          "data": {
            "application/vnd.plotly.v1+json": {
              "config": {
                "plotlyServerURL": "https://plot.ly"
              },
              "data": [
                {
                  "coloraxis": "coloraxis",
                  "geo": "geo",
                  "hovertemplate": "<b>%{hovertext}</b><br><br>index=%{location}<br>color=%{z}<extra></extra>",
                  "hovertext": [
                    "RUS",
                    "USA",
                    "KAZ",
                    "FRA",
                    "CHN",
                    "JPN",
                    "IND",
                    "KIR",
                    "IRN",
                    "NZL",
                    "ISR",
                    "KEN",
                    "AUS",
                    "PRK",
                    "KOR",
                    "BRA"
                  ],
                  "locations": [
                    "RUS",
                    "USA",
                    "KAZ",
                    "FRA",
                    "CHN",
                    "JPN",
                    "IND",
                    "KIR",
                    "IRN",
                    "NZL",
                    "ISR",
                    "KEN",
                    "AUS",
                    "PRK",
                    "KOR",
                    "BRA"
                  ],
                  "name": "",
                  "type": "choropleth",
                  "z": [
                    1398,
                    1351,
                    701,
                    303,
                    268,
                    126,
                    76,
                    36,
                    14,
                    13,
                    11,
                    9,
                    6,
                    5,
                    3,
                    3
                  ]
                }
              ],
              "layout": {
                "coloraxis": {
                  "colorbar": {
                    "title": {
                      "text": "color"
                    }
                  },
                  "colorscale": [
                    [
                      0,
                      "rgb(255,255,204)"
                    ],
                    [
                      0.125,
                      "rgb(255,237,160)"
                    ],
                    [
                      0.25,
                      "rgb(254,217,118)"
                    ],
                    [
                      0.375,
                      "rgb(254,178,76)"
                    ],
                    [
                      0.5,
                      "rgb(253,141,60)"
                    ],
                    [
                      0.625,
                      "rgb(252,78,42)"
                    ],
                    [
                      0.75,
                      "rgb(227,26,28)"
                    ],
                    [
                      0.875,
                      "rgb(189,0,38)"
                    ],
                    [
                      1,
                      "rgb(128,0,38)"
                    ]
                  ],
                  "showscale": true
                },
                "geo": {
                  "center": {},
                  "domain": {
                    "x": [
                      0,
                      1
                    ],
                    "y": [
                      0,
                      1
                    ]
                  }
                },
                "legend": {
                  "tracegroupgap": 0
                },
                "margin": {
                  "t": 60
                },
                "template": {
                  "data": {
                    "bar": [
                      {
                        "error_x": {
                          "color": "#2a3f5f"
                        },
                        "error_y": {
                          "color": "#2a3f5f"
                        },
                        "marker": {
                          "line": {
                            "color": "#E5ECF6",
                            "width": 0.5
                          },
                          "pattern": {
                            "fillmode": "overlay",
                            "size": 10,
                            "solidity": 0.2
                          }
                        },
                        "type": "bar"
                      }
                    ],
                    "barpolar": [
                      {
                        "marker": {
                          "line": {
                            "color": "#E5ECF6",
                            "width": 0.5
                          },
                          "pattern": {
                            "fillmode": "overlay",
                            "size": 10,
                            "solidity": 0.2
                          }
                        },
                        "type": "barpolar"
                      }
                    ],
                    "carpet": [
                      {
                        "aaxis": {
                          "endlinecolor": "#2a3f5f",
                          "gridcolor": "white",
                          "linecolor": "white",
                          "minorgridcolor": "white",
                          "startlinecolor": "#2a3f5f"
                        },
                        "baxis": {
                          "endlinecolor": "#2a3f5f",
                          "gridcolor": "white",
                          "linecolor": "white",
                          "minorgridcolor": "white",
                          "startlinecolor": "#2a3f5f"
                        },
                        "type": "carpet"
                      }
                    ],
                    "choropleth": [
                      {
                        "colorbar": {
                          "outlinewidth": 0,
                          "ticks": ""
                        },
                        "type": "choropleth"
                      }
                    ],
                    "contour": [
                      {
                        "colorbar": {
                          "outlinewidth": 0,
                          "ticks": ""
                        },
                        "colorscale": [
                          [
                            0,
                            "#0d0887"
                          ],
                          [
                            0.1111111111111111,
                            "#46039f"
                          ],
                          [
                            0.2222222222222222,
                            "#7201a8"
                          ],
                          [
                            0.3333333333333333,
                            "#9c179e"
                          ],
                          [
                            0.4444444444444444,
                            "#bd3786"
                          ],
                          [
                            0.5555555555555556,
                            "#d8576b"
                          ],
                          [
                            0.6666666666666666,
                            "#ed7953"
                          ],
                          [
                            0.7777777777777778,
                            "#fb9f3a"
                          ],
                          [
                            0.8888888888888888,
                            "#fdca26"
                          ],
                          [
                            1,
                            "#f0f921"
                          ]
                        ],
                        "type": "contour"
                      }
                    ],
                    "contourcarpet": [
                      {
                        "colorbar": {
                          "outlinewidth": 0,
                          "ticks": ""
                        },
                        "type": "contourcarpet"
                      }
                    ],
                    "heatmap": [
                      {
                        "colorbar": {
                          "outlinewidth": 0,
                          "ticks": ""
                        },
                        "colorscale": [
                          [
                            0,
                            "#0d0887"
                          ],
                          [
                            0.1111111111111111,
                            "#46039f"
                          ],
                          [
                            0.2222222222222222,
                            "#7201a8"
                          ],
                          [
                            0.3333333333333333,
                            "#9c179e"
                          ],
                          [
                            0.4444444444444444,
                            "#bd3786"
                          ],
                          [
                            0.5555555555555556,
                            "#d8576b"
                          ],
                          [
                            0.6666666666666666,
                            "#ed7953"
                          ],
                          [
                            0.7777777777777778,
                            "#fb9f3a"
                          ],
                          [
                            0.8888888888888888,
                            "#fdca26"
                          ],
                          [
                            1,
                            "#f0f921"
                          ]
                        ],
                        "type": "heatmap"
                      }
                    ],
                    "heatmapgl": [
                      {
                        "colorbar": {
                          "outlinewidth": 0,
                          "ticks": ""
                        },
                        "colorscale": [
                          [
                            0,
                            "#0d0887"
                          ],
                          [
                            0.1111111111111111,
                            "#46039f"
                          ],
                          [
                            0.2222222222222222,
                            "#7201a8"
                          ],
                          [
                            0.3333333333333333,
                            "#9c179e"
                          ],
                          [
                            0.4444444444444444,
                            "#bd3786"
                          ],
                          [
                            0.5555555555555556,
                            "#d8576b"
                          ],
                          [
                            0.6666666666666666,
                            "#ed7953"
                          ],
                          [
                            0.7777777777777778,
                            "#fb9f3a"
                          ],
                          [
                            0.8888888888888888,
                            "#fdca26"
                          ],
                          [
                            1,
                            "#f0f921"
                          ]
                        ],
                        "type": "heatmapgl"
                      }
                    ],
                    "histogram": [
                      {
                        "marker": {
                          "pattern": {
                            "fillmode": "overlay",
                            "size": 10,
                            "solidity": 0.2
                          }
                        },
                        "type": "histogram"
                      }
                    ],
                    "histogram2d": [
                      {
                        "colorbar": {
                          "outlinewidth": 0,
                          "ticks": ""
                        },
                        "colorscale": [
                          [
                            0,
                            "#0d0887"
                          ],
                          [
                            0.1111111111111111,
                            "#46039f"
                          ],
                          [
                            0.2222222222222222,
                            "#7201a8"
                          ],
                          [
                            0.3333333333333333,
                            "#9c179e"
                          ],
                          [
                            0.4444444444444444,
                            "#bd3786"
                          ],
                          [
                            0.5555555555555556,
                            "#d8576b"
                          ],
                          [
                            0.6666666666666666,
                            "#ed7953"
                          ],
                          [
                            0.7777777777777778,
                            "#fb9f3a"
                          ],
                          [
                            0.8888888888888888,
                            "#fdca26"
                          ],
                          [
                            1,
                            "#f0f921"
                          ]
                        ],
                        "type": "histogram2d"
                      }
                    ],
                    "histogram2dcontour": [
                      {
                        "colorbar": {
                          "outlinewidth": 0,
                          "ticks": ""
                        },
                        "colorscale": [
                          [
                            0,
                            "#0d0887"
                          ],
                          [
                            0.1111111111111111,
                            "#46039f"
                          ],
                          [
                            0.2222222222222222,
                            "#7201a8"
                          ],
                          [
                            0.3333333333333333,
                            "#9c179e"
                          ],
                          [
                            0.4444444444444444,
                            "#bd3786"
                          ],
                          [
                            0.5555555555555556,
                            "#d8576b"
                          ],
                          [
                            0.6666666666666666,
                            "#ed7953"
                          ],
                          [
                            0.7777777777777778,
                            "#fb9f3a"
                          ],
                          [
                            0.8888888888888888,
                            "#fdca26"
                          ],
                          [
                            1,
                            "#f0f921"
                          ]
                        ],
                        "type": "histogram2dcontour"
                      }
                    ],
                    "mesh3d": [
                      {
                        "colorbar": {
                          "outlinewidth": 0,
                          "ticks": ""
                        },
                        "type": "mesh3d"
                      }
                    ],
                    "parcoords": [
                      {
                        "line": {
                          "colorbar": {
                            "outlinewidth": 0,
                            "ticks": ""
                          }
                        },
                        "type": "parcoords"
                      }
                    ],
                    "pie": [
                      {
                        "automargin": true,
                        "type": "pie"
                      }
                    ],
                    "scatter": [
                      {
                        "fillpattern": {
                          "fillmode": "overlay",
                          "size": 10,
                          "solidity": 0.2
                        },
                        "type": "scatter"
                      }
                    ],
                    "scatter3d": [
                      {
                        "line": {
                          "colorbar": {
                            "outlinewidth": 0,
                            "ticks": ""
                          }
                        },
                        "marker": {
                          "colorbar": {
                            "outlinewidth": 0,
                            "ticks": ""
                          }
                        },
                        "type": "scatter3d"
                      }
                    ],
                    "scattercarpet": [
                      {
                        "marker": {
                          "colorbar": {
                            "outlinewidth": 0,
                            "ticks": ""
                          }
                        },
                        "type": "scattercarpet"
                      }
                    ],
                    "scattergeo": [
                      {
                        "marker": {
                          "colorbar": {
                            "outlinewidth": 0,
                            "ticks": ""
                          }
                        },
                        "type": "scattergeo"
                      }
                    ],
                    "scattergl": [
                      {
                        "marker": {
                          "colorbar": {
                            "outlinewidth": 0,
                            "ticks": ""
                          }
                        },
                        "type": "scattergl"
                      }
                    ],
                    "scattermapbox": [
                      {
                        "marker": {
                          "colorbar": {
                            "outlinewidth": 0,
                            "ticks": ""
                          }
                        },
                        "type": "scattermapbox"
                      }
                    ],
                    "scatterpolar": [
                      {
                        "marker": {
                          "colorbar": {
                            "outlinewidth": 0,
                            "ticks": ""
                          }
                        },
                        "type": "scatterpolar"
                      }
                    ],
                    "scatterpolargl": [
                      {
                        "marker": {
                          "colorbar": {
                            "outlinewidth": 0,
                            "ticks": ""
                          }
                        },
                        "type": "scatterpolargl"
                      }
                    ],
                    "scatterternary": [
                      {
                        "marker": {
                          "colorbar": {
                            "outlinewidth": 0,
                            "ticks": ""
                          }
                        },
                        "type": "scatterternary"
                      }
                    ],
                    "surface": [
                      {
                        "colorbar": {
                          "outlinewidth": 0,
                          "ticks": ""
                        },
                        "colorscale": [
                          [
                            0,
                            "#0d0887"
                          ],
                          [
                            0.1111111111111111,
                            "#46039f"
                          ],
                          [
                            0.2222222222222222,
                            "#7201a8"
                          ],
                          [
                            0.3333333333333333,
                            "#9c179e"
                          ],
                          [
                            0.4444444444444444,
                            "#bd3786"
                          ],
                          [
                            0.5555555555555556,
                            "#d8576b"
                          ],
                          [
                            0.6666666666666666,
                            "#ed7953"
                          ],
                          [
                            0.7777777777777778,
                            "#fb9f3a"
                          ],
                          [
                            0.8888888888888888,
                            "#fdca26"
                          ],
                          [
                            1,
                            "#f0f921"
                          ]
                        ],
                        "type": "surface"
                      }
                    ],
                    "table": [
                      {
                        "cells": {
                          "fill": {
                            "color": "#EBF0F8"
                          },
                          "line": {
                            "color": "white"
                          }
                        },
                        "header": {
                          "fill": {
                            "color": "#C8D4E3"
                          },
                          "line": {
                            "color": "white"
                          }
                        },
                        "type": "table"
                      }
                    ]
                  },
                  "layout": {
                    "annotationdefaults": {
                      "arrowcolor": "#2a3f5f",
                      "arrowhead": 0,
                      "arrowwidth": 1
                    },
                    "autotypenumbers": "strict",
                    "coloraxis": {
                      "colorbar": {
                        "outlinewidth": 0,
                        "ticks": ""
                      }
                    },
                    "colorscale": {
                      "diverging": [
                        [
                          0,
                          "#8e0152"
                        ],
                        [
                          0.1,
                          "#c51b7d"
                        ],
                        [
                          0.2,
                          "#de77ae"
                        ],
                        [
                          0.3,
                          "#f1b6da"
                        ],
                        [
                          0.4,
                          "#fde0ef"
                        ],
                        [
                          0.5,
                          "#f7f7f7"
                        ],
                        [
                          0.6,
                          "#e6f5d0"
                        ],
                        [
                          0.7,
                          "#b8e186"
                        ],
                        [
                          0.8,
                          "#7fbc41"
                        ],
                        [
                          0.9,
                          "#4d9221"
                        ],
                        [
                          1,
                          "#276419"
                        ]
                      ],
                      "sequential": [
                        [
                          0,
                          "#0d0887"
                        ],
                        [
                          0.1111111111111111,
                          "#46039f"
                        ],
                        [
                          0.2222222222222222,
                          "#7201a8"
                        ],
                        [
                          0.3333333333333333,
                          "#9c179e"
                        ],
                        [
                          0.4444444444444444,
                          "#bd3786"
                        ],
                        [
                          0.5555555555555556,
                          "#d8576b"
                        ],
                        [
                          0.6666666666666666,
                          "#ed7953"
                        ],
                        [
                          0.7777777777777778,
                          "#fb9f3a"
                        ],
                        [
                          0.8888888888888888,
                          "#fdca26"
                        ],
                        [
                          1,
                          "#f0f921"
                        ]
                      ],
                      "sequentialminus": [
                        [
                          0,
                          "#0d0887"
                        ],
                        [
                          0.1111111111111111,
                          "#46039f"
                        ],
                        [
                          0.2222222222222222,
                          "#7201a8"
                        ],
                        [
                          0.3333333333333333,
                          "#9c179e"
                        ],
                        [
                          0.4444444444444444,
                          "#bd3786"
                        ],
                        [
                          0.5555555555555556,
                          "#d8576b"
                        ],
                        [
                          0.6666666666666666,
                          "#ed7953"
                        ],
                        [
                          0.7777777777777778,
                          "#fb9f3a"
                        ],
                        [
                          0.8888888888888888,
                          "#fdca26"
                        ],
                        [
                          1,
                          "#f0f921"
                        ]
                      ]
                    },
                    "colorway": [
                      "#636efa",
                      "#EF553B",
                      "#00cc96",
                      "#ab63fa",
                      "#FFA15A",
                      "#19d3f3",
                      "#FF6692",
                      "#B6E880",
                      "#FF97FF",
                      "#FECB52"
                    ],
                    "font": {
                      "color": "#2a3f5f"
                    },
                    "geo": {
                      "bgcolor": "white",
                      "lakecolor": "white",
                      "landcolor": "#E5ECF6",
                      "showlakes": true,
                      "showland": true,
                      "subunitcolor": "white"
                    },
                    "hoverlabel": {
                      "align": "left"
                    },
                    "hovermode": "closest",
                    "mapbox": {
                      "style": "light"
                    },
                    "paper_bgcolor": "white",
                    "plot_bgcolor": "#E5ECF6",
                    "polar": {
                      "angularaxis": {
                        "gridcolor": "white",
                        "linecolor": "white",
                        "ticks": ""
                      },
                      "bgcolor": "#E5ECF6",
                      "radialaxis": {
                        "gridcolor": "white",
                        "linecolor": "white",
                        "ticks": ""
                      }
                    },
                    "scene": {
                      "xaxis": {
                        "backgroundcolor": "#E5ECF6",
                        "gridcolor": "white",
                        "gridwidth": 2,
                        "linecolor": "white",
                        "showbackground": true,
                        "ticks": "",
                        "zerolinecolor": "white"
                      },
                      "yaxis": {
                        "backgroundcolor": "#E5ECF6",
                        "gridcolor": "white",
                        "gridwidth": 2,
                        "linecolor": "white",
                        "showbackground": true,
                        "ticks": "",
                        "zerolinecolor": "white"
                      },
                      "zaxis": {
                        "backgroundcolor": "#E5ECF6",
                        "gridcolor": "white",
                        "gridwidth": 2,
                        "linecolor": "white",
                        "showbackground": true,
                        "ticks": "",
                        "zerolinecolor": "white"
                      }
                    },
                    "shapedefaults": {
                      "line": {
                        "color": "#2a3f5f"
                      }
                    },
                    "ternary": {
                      "aaxis": {
                        "gridcolor": "white",
                        "linecolor": "white",
                        "ticks": ""
                      },
                      "baxis": {
                        "gridcolor": "white",
                        "linecolor": "white",
                        "ticks": ""
                      },
                      "bgcolor": "#E5ECF6",
                      "caxis": {
                        "gridcolor": "white",
                        "linecolor": "white",
                        "ticks": ""
                      }
                    },
                    "title": {
                      "x": 0.05
                    },
                    "xaxis": {
                      "automargin": true,
                      "gridcolor": "white",
                      "linecolor": "white",
                      "ticks": "",
                      "title": {
                        "standoff": 15
                      },
                      "zerolinecolor": "white",
                      "zerolinewidth": 2
                    },
                    "yaxis": {
                      "automargin": true,
                      "gridcolor": "white",
                      "linecolor": "white",
                      "ticks": "",
                      "title": {
                        "standoff": 15
                      },
                      "zerolinecolor": "white",
                      "zerolinewidth": 2
                    }
                  }
                }
              }
            }
          },
          "metadata": {},
          "output_type": "display_data"
        }
      ],
      "source": [
        "world_map = px.choropleth(df_countries,\n",
        "                          locations=df_countries.index,\n",
        "                          color=df_countries.values, \n",
        "                          hover_name=df_countries.index, \n",
        "                          color_continuous_scale=px.colors.sequential.YlOrRd)\n",
        " \n",
        "world_map.update_layout(coloraxis_showscale=True)\n",
        " \n",
        "world_map.show()"
      ]
    },
    {
      "cell_type": "markdown",
      "metadata": {
        "id": "F3pwYSUlo_AK"
      },
      "source": [
        "## Use a Choropleth Map to Show the Number of Failures by Country"
      ]
    },
    {
      "cell_type": "code",
      "execution_count": 31,
      "metadata": {
        "id": "8BH4ICtro9I0"
      },
      "outputs": [
        {
          "data": {
            "text/plain": [
              "USA    129\n",
              "KAZ     72\n",
              "RUS     63\n",
              "CHN     19\n",
              "FRA     13\n",
              "JPN     10\n",
              "IRN      8\n",
              "IND      8\n",
              "KIR      3\n",
              "PRK      3\n",
              "AUS      3\n",
              "NZL      2\n",
              "KOR      2\n",
              "ISR      2\n",
              "BRA      2\n",
              "Name: ISO_code, dtype: int64"
            ]
          },
          "execution_count": 31,
          "metadata": {},
          "output_type": "execute_result"
        }
      ],
      "source": [
        "df_mission_failures = df_data.query(\"Mission_Status == 'Failure'\")[\"ISO_code\"].value_counts()\n",
        "\n",
        "df_mission_failures"
      ]
    },
    {
      "cell_type": "code",
      "execution_count": 32,
      "metadata": {
        "id": "sfw-q7Obo9GM"
      },
      "outputs": [
        {
          "data": {
            "application/vnd.plotly.v1+json": {
              "config": {
                "plotlyServerURL": "https://plot.ly"
              },
              "data": [
                {
                  "coloraxis": "coloraxis",
                  "geo": "geo",
                  "hovertemplate": "<b>%{hovertext}</b><br><br>index=%{location}<br>color=%{z}<extra></extra>",
                  "hovertext": [
                    "USA",
                    "KAZ",
                    "RUS",
                    "CHN",
                    "FRA",
                    "JPN",
                    "IRN",
                    "IND",
                    "KIR",
                    "PRK",
                    "AUS",
                    "NZL",
                    "KOR",
                    "ISR",
                    "BRA"
                  ],
                  "locations": [
                    "USA",
                    "KAZ",
                    "RUS",
                    "CHN",
                    "FRA",
                    "JPN",
                    "IRN",
                    "IND",
                    "KIR",
                    "PRK",
                    "AUS",
                    "NZL",
                    "KOR",
                    "ISR",
                    "BRA"
                  ],
                  "name": "",
                  "type": "choropleth",
                  "z": [
                    129,
                    72,
                    63,
                    19,
                    13,
                    10,
                    8,
                    8,
                    3,
                    3,
                    3,
                    2,
                    2,
                    2,
                    2
                  ]
                }
              ],
              "layout": {
                "coloraxis": {
                  "colorbar": {
                    "title": {
                      "text": "color"
                    }
                  },
                  "colorscale": [
                    [
                      0,
                      "rgb(255,245,240)"
                    ],
                    [
                      0.125,
                      "rgb(254,224,210)"
                    ],
                    [
                      0.25,
                      "rgb(252,187,161)"
                    ],
                    [
                      0.375,
                      "rgb(252,146,114)"
                    ],
                    [
                      0.5,
                      "rgb(251,106,74)"
                    ],
                    [
                      0.625,
                      "rgb(239,59,44)"
                    ],
                    [
                      0.75,
                      "rgb(203,24,29)"
                    ],
                    [
                      0.875,
                      "rgb(165,15,21)"
                    ],
                    [
                      1,
                      "rgb(103,0,13)"
                    ]
                  ],
                  "showscale": true
                },
                "geo": {
                  "center": {},
                  "domain": {
                    "x": [
                      0,
                      1
                    ],
                    "y": [
                      0,
                      1
                    ]
                  }
                },
                "legend": {
                  "tracegroupgap": 0
                },
                "margin": {
                  "t": 60
                },
                "template": {
                  "data": {
                    "bar": [
                      {
                        "error_x": {
                          "color": "#2a3f5f"
                        },
                        "error_y": {
                          "color": "#2a3f5f"
                        },
                        "marker": {
                          "line": {
                            "color": "#E5ECF6",
                            "width": 0.5
                          },
                          "pattern": {
                            "fillmode": "overlay",
                            "size": 10,
                            "solidity": 0.2
                          }
                        },
                        "type": "bar"
                      }
                    ],
                    "barpolar": [
                      {
                        "marker": {
                          "line": {
                            "color": "#E5ECF6",
                            "width": 0.5
                          },
                          "pattern": {
                            "fillmode": "overlay",
                            "size": 10,
                            "solidity": 0.2
                          }
                        },
                        "type": "barpolar"
                      }
                    ],
                    "carpet": [
                      {
                        "aaxis": {
                          "endlinecolor": "#2a3f5f",
                          "gridcolor": "white",
                          "linecolor": "white",
                          "minorgridcolor": "white",
                          "startlinecolor": "#2a3f5f"
                        },
                        "baxis": {
                          "endlinecolor": "#2a3f5f",
                          "gridcolor": "white",
                          "linecolor": "white",
                          "minorgridcolor": "white",
                          "startlinecolor": "#2a3f5f"
                        },
                        "type": "carpet"
                      }
                    ],
                    "choropleth": [
                      {
                        "colorbar": {
                          "outlinewidth": 0,
                          "ticks": ""
                        },
                        "type": "choropleth"
                      }
                    ],
                    "contour": [
                      {
                        "colorbar": {
                          "outlinewidth": 0,
                          "ticks": ""
                        },
                        "colorscale": [
                          [
                            0,
                            "#0d0887"
                          ],
                          [
                            0.1111111111111111,
                            "#46039f"
                          ],
                          [
                            0.2222222222222222,
                            "#7201a8"
                          ],
                          [
                            0.3333333333333333,
                            "#9c179e"
                          ],
                          [
                            0.4444444444444444,
                            "#bd3786"
                          ],
                          [
                            0.5555555555555556,
                            "#d8576b"
                          ],
                          [
                            0.6666666666666666,
                            "#ed7953"
                          ],
                          [
                            0.7777777777777778,
                            "#fb9f3a"
                          ],
                          [
                            0.8888888888888888,
                            "#fdca26"
                          ],
                          [
                            1,
                            "#f0f921"
                          ]
                        ],
                        "type": "contour"
                      }
                    ],
                    "contourcarpet": [
                      {
                        "colorbar": {
                          "outlinewidth": 0,
                          "ticks": ""
                        },
                        "type": "contourcarpet"
                      }
                    ],
                    "heatmap": [
                      {
                        "colorbar": {
                          "outlinewidth": 0,
                          "ticks": ""
                        },
                        "colorscale": [
                          [
                            0,
                            "#0d0887"
                          ],
                          [
                            0.1111111111111111,
                            "#46039f"
                          ],
                          [
                            0.2222222222222222,
                            "#7201a8"
                          ],
                          [
                            0.3333333333333333,
                            "#9c179e"
                          ],
                          [
                            0.4444444444444444,
                            "#bd3786"
                          ],
                          [
                            0.5555555555555556,
                            "#d8576b"
                          ],
                          [
                            0.6666666666666666,
                            "#ed7953"
                          ],
                          [
                            0.7777777777777778,
                            "#fb9f3a"
                          ],
                          [
                            0.8888888888888888,
                            "#fdca26"
                          ],
                          [
                            1,
                            "#f0f921"
                          ]
                        ],
                        "type": "heatmap"
                      }
                    ],
                    "heatmapgl": [
                      {
                        "colorbar": {
                          "outlinewidth": 0,
                          "ticks": ""
                        },
                        "colorscale": [
                          [
                            0,
                            "#0d0887"
                          ],
                          [
                            0.1111111111111111,
                            "#46039f"
                          ],
                          [
                            0.2222222222222222,
                            "#7201a8"
                          ],
                          [
                            0.3333333333333333,
                            "#9c179e"
                          ],
                          [
                            0.4444444444444444,
                            "#bd3786"
                          ],
                          [
                            0.5555555555555556,
                            "#d8576b"
                          ],
                          [
                            0.6666666666666666,
                            "#ed7953"
                          ],
                          [
                            0.7777777777777778,
                            "#fb9f3a"
                          ],
                          [
                            0.8888888888888888,
                            "#fdca26"
                          ],
                          [
                            1,
                            "#f0f921"
                          ]
                        ],
                        "type": "heatmapgl"
                      }
                    ],
                    "histogram": [
                      {
                        "marker": {
                          "pattern": {
                            "fillmode": "overlay",
                            "size": 10,
                            "solidity": 0.2
                          }
                        },
                        "type": "histogram"
                      }
                    ],
                    "histogram2d": [
                      {
                        "colorbar": {
                          "outlinewidth": 0,
                          "ticks": ""
                        },
                        "colorscale": [
                          [
                            0,
                            "#0d0887"
                          ],
                          [
                            0.1111111111111111,
                            "#46039f"
                          ],
                          [
                            0.2222222222222222,
                            "#7201a8"
                          ],
                          [
                            0.3333333333333333,
                            "#9c179e"
                          ],
                          [
                            0.4444444444444444,
                            "#bd3786"
                          ],
                          [
                            0.5555555555555556,
                            "#d8576b"
                          ],
                          [
                            0.6666666666666666,
                            "#ed7953"
                          ],
                          [
                            0.7777777777777778,
                            "#fb9f3a"
                          ],
                          [
                            0.8888888888888888,
                            "#fdca26"
                          ],
                          [
                            1,
                            "#f0f921"
                          ]
                        ],
                        "type": "histogram2d"
                      }
                    ],
                    "histogram2dcontour": [
                      {
                        "colorbar": {
                          "outlinewidth": 0,
                          "ticks": ""
                        },
                        "colorscale": [
                          [
                            0,
                            "#0d0887"
                          ],
                          [
                            0.1111111111111111,
                            "#46039f"
                          ],
                          [
                            0.2222222222222222,
                            "#7201a8"
                          ],
                          [
                            0.3333333333333333,
                            "#9c179e"
                          ],
                          [
                            0.4444444444444444,
                            "#bd3786"
                          ],
                          [
                            0.5555555555555556,
                            "#d8576b"
                          ],
                          [
                            0.6666666666666666,
                            "#ed7953"
                          ],
                          [
                            0.7777777777777778,
                            "#fb9f3a"
                          ],
                          [
                            0.8888888888888888,
                            "#fdca26"
                          ],
                          [
                            1,
                            "#f0f921"
                          ]
                        ],
                        "type": "histogram2dcontour"
                      }
                    ],
                    "mesh3d": [
                      {
                        "colorbar": {
                          "outlinewidth": 0,
                          "ticks": ""
                        },
                        "type": "mesh3d"
                      }
                    ],
                    "parcoords": [
                      {
                        "line": {
                          "colorbar": {
                            "outlinewidth": 0,
                            "ticks": ""
                          }
                        },
                        "type": "parcoords"
                      }
                    ],
                    "pie": [
                      {
                        "automargin": true,
                        "type": "pie"
                      }
                    ],
                    "scatter": [
                      {
                        "fillpattern": {
                          "fillmode": "overlay",
                          "size": 10,
                          "solidity": 0.2
                        },
                        "type": "scatter"
                      }
                    ],
                    "scatter3d": [
                      {
                        "line": {
                          "colorbar": {
                            "outlinewidth": 0,
                            "ticks": ""
                          }
                        },
                        "marker": {
                          "colorbar": {
                            "outlinewidth": 0,
                            "ticks": ""
                          }
                        },
                        "type": "scatter3d"
                      }
                    ],
                    "scattercarpet": [
                      {
                        "marker": {
                          "colorbar": {
                            "outlinewidth": 0,
                            "ticks": ""
                          }
                        },
                        "type": "scattercarpet"
                      }
                    ],
                    "scattergeo": [
                      {
                        "marker": {
                          "colorbar": {
                            "outlinewidth": 0,
                            "ticks": ""
                          }
                        },
                        "type": "scattergeo"
                      }
                    ],
                    "scattergl": [
                      {
                        "marker": {
                          "colorbar": {
                            "outlinewidth": 0,
                            "ticks": ""
                          }
                        },
                        "type": "scattergl"
                      }
                    ],
                    "scattermapbox": [
                      {
                        "marker": {
                          "colorbar": {
                            "outlinewidth": 0,
                            "ticks": ""
                          }
                        },
                        "type": "scattermapbox"
                      }
                    ],
                    "scatterpolar": [
                      {
                        "marker": {
                          "colorbar": {
                            "outlinewidth": 0,
                            "ticks": ""
                          }
                        },
                        "type": "scatterpolar"
                      }
                    ],
                    "scatterpolargl": [
                      {
                        "marker": {
                          "colorbar": {
                            "outlinewidth": 0,
                            "ticks": ""
                          }
                        },
                        "type": "scatterpolargl"
                      }
                    ],
                    "scatterternary": [
                      {
                        "marker": {
                          "colorbar": {
                            "outlinewidth": 0,
                            "ticks": ""
                          }
                        },
                        "type": "scatterternary"
                      }
                    ],
                    "surface": [
                      {
                        "colorbar": {
                          "outlinewidth": 0,
                          "ticks": ""
                        },
                        "colorscale": [
                          [
                            0,
                            "#0d0887"
                          ],
                          [
                            0.1111111111111111,
                            "#46039f"
                          ],
                          [
                            0.2222222222222222,
                            "#7201a8"
                          ],
                          [
                            0.3333333333333333,
                            "#9c179e"
                          ],
                          [
                            0.4444444444444444,
                            "#bd3786"
                          ],
                          [
                            0.5555555555555556,
                            "#d8576b"
                          ],
                          [
                            0.6666666666666666,
                            "#ed7953"
                          ],
                          [
                            0.7777777777777778,
                            "#fb9f3a"
                          ],
                          [
                            0.8888888888888888,
                            "#fdca26"
                          ],
                          [
                            1,
                            "#f0f921"
                          ]
                        ],
                        "type": "surface"
                      }
                    ],
                    "table": [
                      {
                        "cells": {
                          "fill": {
                            "color": "#EBF0F8"
                          },
                          "line": {
                            "color": "white"
                          }
                        },
                        "header": {
                          "fill": {
                            "color": "#C8D4E3"
                          },
                          "line": {
                            "color": "white"
                          }
                        },
                        "type": "table"
                      }
                    ]
                  },
                  "layout": {
                    "annotationdefaults": {
                      "arrowcolor": "#2a3f5f",
                      "arrowhead": 0,
                      "arrowwidth": 1
                    },
                    "autotypenumbers": "strict",
                    "coloraxis": {
                      "colorbar": {
                        "outlinewidth": 0,
                        "ticks": ""
                      }
                    },
                    "colorscale": {
                      "diverging": [
                        [
                          0,
                          "#8e0152"
                        ],
                        [
                          0.1,
                          "#c51b7d"
                        ],
                        [
                          0.2,
                          "#de77ae"
                        ],
                        [
                          0.3,
                          "#f1b6da"
                        ],
                        [
                          0.4,
                          "#fde0ef"
                        ],
                        [
                          0.5,
                          "#f7f7f7"
                        ],
                        [
                          0.6,
                          "#e6f5d0"
                        ],
                        [
                          0.7,
                          "#b8e186"
                        ],
                        [
                          0.8,
                          "#7fbc41"
                        ],
                        [
                          0.9,
                          "#4d9221"
                        ],
                        [
                          1,
                          "#276419"
                        ]
                      ],
                      "sequential": [
                        [
                          0,
                          "#0d0887"
                        ],
                        [
                          0.1111111111111111,
                          "#46039f"
                        ],
                        [
                          0.2222222222222222,
                          "#7201a8"
                        ],
                        [
                          0.3333333333333333,
                          "#9c179e"
                        ],
                        [
                          0.4444444444444444,
                          "#bd3786"
                        ],
                        [
                          0.5555555555555556,
                          "#d8576b"
                        ],
                        [
                          0.6666666666666666,
                          "#ed7953"
                        ],
                        [
                          0.7777777777777778,
                          "#fb9f3a"
                        ],
                        [
                          0.8888888888888888,
                          "#fdca26"
                        ],
                        [
                          1,
                          "#f0f921"
                        ]
                      ],
                      "sequentialminus": [
                        [
                          0,
                          "#0d0887"
                        ],
                        [
                          0.1111111111111111,
                          "#46039f"
                        ],
                        [
                          0.2222222222222222,
                          "#7201a8"
                        ],
                        [
                          0.3333333333333333,
                          "#9c179e"
                        ],
                        [
                          0.4444444444444444,
                          "#bd3786"
                        ],
                        [
                          0.5555555555555556,
                          "#d8576b"
                        ],
                        [
                          0.6666666666666666,
                          "#ed7953"
                        ],
                        [
                          0.7777777777777778,
                          "#fb9f3a"
                        ],
                        [
                          0.8888888888888888,
                          "#fdca26"
                        ],
                        [
                          1,
                          "#f0f921"
                        ]
                      ]
                    },
                    "colorway": [
                      "#636efa",
                      "#EF553B",
                      "#00cc96",
                      "#ab63fa",
                      "#FFA15A",
                      "#19d3f3",
                      "#FF6692",
                      "#B6E880",
                      "#FF97FF",
                      "#FECB52"
                    ],
                    "font": {
                      "color": "#2a3f5f"
                    },
                    "geo": {
                      "bgcolor": "white",
                      "lakecolor": "white",
                      "landcolor": "#E5ECF6",
                      "showlakes": true,
                      "showland": true,
                      "subunitcolor": "white"
                    },
                    "hoverlabel": {
                      "align": "left"
                    },
                    "hovermode": "closest",
                    "mapbox": {
                      "style": "light"
                    },
                    "paper_bgcolor": "white",
                    "plot_bgcolor": "#E5ECF6",
                    "polar": {
                      "angularaxis": {
                        "gridcolor": "white",
                        "linecolor": "white",
                        "ticks": ""
                      },
                      "bgcolor": "#E5ECF6",
                      "radialaxis": {
                        "gridcolor": "white",
                        "linecolor": "white",
                        "ticks": ""
                      }
                    },
                    "scene": {
                      "xaxis": {
                        "backgroundcolor": "#E5ECF6",
                        "gridcolor": "white",
                        "gridwidth": 2,
                        "linecolor": "white",
                        "showbackground": true,
                        "ticks": "",
                        "zerolinecolor": "white"
                      },
                      "yaxis": {
                        "backgroundcolor": "#E5ECF6",
                        "gridcolor": "white",
                        "gridwidth": 2,
                        "linecolor": "white",
                        "showbackground": true,
                        "ticks": "",
                        "zerolinecolor": "white"
                      },
                      "zaxis": {
                        "backgroundcolor": "#E5ECF6",
                        "gridcolor": "white",
                        "gridwidth": 2,
                        "linecolor": "white",
                        "showbackground": true,
                        "ticks": "",
                        "zerolinecolor": "white"
                      }
                    },
                    "shapedefaults": {
                      "line": {
                        "color": "#2a3f5f"
                      }
                    },
                    "ternary": {
                      "aaxis": {
                        "gridcolor": "white",
                        "linecolor": "white",
                        "ticks": ""
                      },
                      "baxis": {
                        "gridcolor": "white",
                        "linecolor": "white",
                        "ticks": ""
                      },
                      "bgcolor": "#E5ECF6",
                      "caxis": {
                        "gridcolor": "white",
                        "linecolor": "white",
                        "ticks": ""
                      }
                    },
                    "title": {
                      "x": 0.05
                    },
                    "xaxis": {
                      "automargin": true,
                      "gridcolor": "white",
                      "linecolor": "white",
                      "ticks": "",
                      "title": {
                        "standoff": 15
                      },
                      "zerolinecolor": "white",
                      "zerolinewidth": 2
                    },
                    "yaxis": {
                      "automargin": true,
                      "gridcolor": "white",
                      "linecolor": "white",
                      "ticks": "",
                      "title": {
                        "standoff": 15
                      },
                      "zerolinecolor": "white",
                      "zerolinewidth": 2
                    }
                  }
                }
              }
            }
          },
          "metadata": {},
          "output_type": "display_data"
        }
      ],
      "source": [
        "world_map = px.choropleth(df_mission_failures,\n",
        "                          locations=df_mission_failures.index,\n",
        "                          color=df_mission_failures.values, \n",
        "                          hover_name=df_mission_failures.index, \n",
        "                          color_continuous_scale=px.colors.sequential.Reds)\n",
        " \n",
        "world_map.update_layout(coloraxis_showscale=True)\n",
        " \n",
        "world_map.show()"
      ]
    },
    {
      "cell_type": "markdown",
      "metadata": {
        "id": "9LqcqSrKa-qN",
        "papermill": {
          "duration": 0.039343,
          "end_time": "2020-10-20T21:34:06.591694",
          "exception": false,
          "start_time": "2020-10-20T21:34:06.552351",
          "status": "completed"
        },
        "tags": []
      },
      "source": [
        "## Create a Plotly Sunburst Chart of the countries, organisations, and mission status. "
      ]
    },
    {
      "cell_type": "code",
      "execution_count": 33,
      "metadata": {},
      "outputs": [],
      "source": [
        "df_burst_chart = df_data.groupby(by=['ISO_code', 'Organisation', 'Mission_Status'], as_index=False).agg({'Detail' : pd.Series.count})"
      ]
    },
    {
      "cell_type": "code",
      "execution_count": 34,
      "metadata": {},
      "outputs": [
        {
          "data": {
            "application/vnd.plotly.v1+json": {
              "config": {
                "plotlyServerURL": "https://plot.ly"
              },
              "data": [
                {
                  "branchvalues": "total",
                  "domain": {
                    "x": [
                      0,
                      1
                    ],
                    "y": [
                      0,
                      1
                    ]
                  },
                  "hovertemplate": "labels=%{label}<br>Detail=%{value}<br>parent=%{parent}<br>id=%{id}<extra></extra>",
                  "ids": [
                    "BRA/AEB/Failure",
                    "USA/AMBA/Failure",
                    "FRA/Arianespace/Failure",
                    "USA/Boeing/Failure",
                    "CHN/CASC/Failure",
                    "CHN/CASIC/Failure",
                    "AUS/CECLES/Failure",
                    "FRA/CECLES/Failure",
                    "FRA/CNES/Failure",
                    "USA/EER/Failure",
                    "FRA/ESA/Failure",
                    "RUS/Eurockot/Failure",
                    "CHN/ExPace/Failure",
                    "USA/Exos/Failure",
                    "USA/General Dynamics/Failure",
                    "ISR/IAI/Failure",
                    "IRN/ISA/Failure",
                    "JPN/ISAS/Failure",
                    "IND/ISRO/Failure",
                    "JPN/JAXA/Failure",
                    "KOR/KARI/Failure",
                    "PRK/KCST/Failure",
                    "KAZ/Kosmotras/Failure",
                    "CHN/Landspace/Failure",
                    "USA/Lockheed/Failure",
                    "JPN/MHI/Failure",
                    "RUS/MITT/Failure",
                    "USA/Martin Marietta/Failure",
                    "USA/NASA/Failure",
                    "USA/Northrop/Failure",
                    "CHN/OneSpace/Failure",
                    "AUS/RAE/Failure",
                    "KAZ/RVSN USSR/Failure",
                    "RUS/RVSN USSR/Failure",
                    "NZL/Rocket Lab/Failure",
                    "KAZ/Roscosmos/Failure",
                    "RUS/Roscosmos/Failure",
                    "RUS/SRC/Failure",
                    "USA/Sandia/Failure",
                    "KIR/Sea Launch/Failure",
                    "USA/SpaceX/Failure",
                    "USA/US Air Force/Failure",
                    "USA/US Navy/Failure",
                    "JPN/UT/Failure",
                    "KAZ/VKS RF/Failure",
                    "RUS/VKS RF/Failure",
                    "USA/Virgin Orbit/Failure",
                    "USA/AMBA/Partial Failure",
                    "FRA/Arianespace/Partial Failure",
                    "FRA/Arm??e de l'Air/Partial Failure",
                    "USA/Boeing/Partial Failure",
                    "CHN/CASC/Partial Failure",
                    "FRA/ESA/Partial Failure",
                    "USA/Exos/Partial Failure",
                    "USA/General Dynamics/Partial Failure",
                    "KAZ/ILS/Partial Failure",
                    "JPN/ISAS/Partial Failure",
                    "IND/ISRO/Partial Failure",
                    "KAZ/Land Launch/Partial Failure",
                    "JPN/MHI/Partial Failure",
                    "USA/Martin Marietta/Partial Failure",
                    "USA/NASA/Partial Failure",
                    "USA/Northrop/Partial Failure",
                    "KAZ/RVSN USSR/Partial Failure",
                    "RUS/RVSN USSR/Partial Failure",
                    "KAZ/Roscosmos/Partial Failure",
                    "USA/SpaceX/Partial Failure",
                    "USA/ULA/Partial Failure",
                    "USA/US Air Force/Partial Failure",
                    "USA/US Navy/Partial Failure",
                    "RUS/VKS RF/Partial Failure",
                    "BRA/AEB/Prelaunch Failure",
                    "IRN/ISA/Prelaunch Failure",
                    "KAZ/RVSN USSR/Prelaunch Failure",
                    "USA/SpaceX/Prelaunch Failure",
                    "AUS/AMBA/Success",
                    "USA/AMBA/Success",
                    "KEN/ASI/Success",
                    "FRA/Arianespace/Success",
                    "KAZ/Arianespace/Success",
                    "FRA/Arm??e de l'Air/Success",
                    "USA/Blue Origin/Success",
                    "USA/Boeing/Success",
                    "CHN/CASC/Success",
                    "CHN/CASIC/Success",
                    "AUS/CECLES/Success",
                    "FRA/CNES/Success",
                    "USA/Douglas/Success",
                    "FRA/ESA/Success",
                    "RUS/Eurockot/Success",
                    "CHN/ExPace/Success",
                    "USA/General Dynamics/Success",
                    "ISR/IAI/Success",
                    "KAZ/ILS/Success",
                    "USA/ILS/Success",
                    "IRN/IRGC/Success",
                    "IRN/ISA/Success",
                    "JPN/ISAS/Success",
                    "IND/ISRO/Success",
                    "JPN/JAXA/Success",
                    "KOR/KARI/Success",
                    "PRK/KCST/Success",
                    "RUS/Khrunichev/Success",
                    "KAZ/Kosmotras/Success",
                    "RUS/Kosmotras/Success",
                    "KAZ/Land Launch/Success",
                    "USA/Lockheed/Success",
                    "JPN/MHI/Success",
                    "RUS/MITT/Success",
                    "USA/Martin Marietta/Success",
                    "USA/NASA/Success",
                    "USA/Northrop/Success",
                    "KAZ/OKB-586/Success",
                    "AUS/RAE/Success",
                    "KAZ/RVSN USSR/Success",
                    "RUS/RVSN USSR/Success",
                    "NZL/Rocket Lab/Success",
                    "KAZ/Roscosmos/Success",
                    "RUS/Roscosmos/Success",
                    "RUS/SRC/Success",
                    "KIR/Sea Launch/Success",
                    "USA/SpaceX/Success",
                    "KAZ/Starsem/Success",
                    "USA/ULA/Success",
                    "USA/US Air Force/Success",
                    "USA/US Navy/Success",
                    "JPN/UT/Success",
                    "KAZ/VKS RF/Success",
                    "RUS/VKS RF/Success",
                    "KAZ/Yuzhmash/Success",
                    "RUS/Yuzhmash/Success",
                    "CHN/i-Space/Success",
                    "BRA/AEB",
                    "AUS/AMBA",
                    "USA/AMBA",
                    "KEN/ASI",
                    "FRA/Arianespace",
                    "KAZ/Arianespace",
                    "FRA/Arm??e de l'Air",
                    "USA/Blue Origin",
                    "USA/Boeing",
                    "CHN/CASC",
                    "CHN/CASIC",
                    "AUS/CECLES",
                    "FRA/CECLES",
                    "FRA/CNES",
                    "USA/Douglas",
                    "USA/EER",
                    "FRA/ESA",
                    "RUS/Eurockot",
                    "CHN/ExPace",
                    "USA/Exos",
                    "USA/General Dynamics",
                    "ISR/IAI",
                    "KAZ/ILS",
                    "USA/ILS",
                    "IRN/IRGC",
                    "IRN/ISA",
                    "JPN/ISAS",
                    "IND/ISRO",
                    "JPN/JAXA",
                    "KOR/KARI",
                    "PRK/KCST",
                    "RUS/Khrunichev",
                    "KAZ/Kosmotras",
                    "RUS/Kosmotras",
                    "KAZ/Land Launch",
                    "CHN/Landspace",
                    "USA/Lockheed",
                    "JPN/MHI",
                    "RUS/MITT",
                    "USA/Martin Marietta",
                    "USA/NASA",
                    "USA/Northrop",
                    "KAZ/OKB-586",
                    "CHN/OneSpace",
                    "AUS/RAE",
                    "KAZ/RVSN USSR",
                    "RUS/RVSN USSR",
                    "NZL/Rocket Lab",
                    "KAZ/Roscosmos",
                    "RUS/Roscosmos",
                    "RUS/SRC",
                    "USA/Sandia",
                    "KIR/Sea Launch",
                    "USA/SpaceX",
                    "KAZ/Starsem",
                    "USA/ULA",
                    "USA/US Air Force",
                    "USA/US Navy",
                    "JPN/UT",
                    "KAZ/VKS RF",
                    "RUS/VKS RF",
                    "USA/Virgin Orbit",
                    "KAZ/Yuzhmash",
                    "RUS/Yuzhmash",
                    "CHN/i-Space",
                    "AUS",
                    "BRA",
                    "CHN",
                    "FRA",
                    "IND",
                    "IRN",
                    "ISR",
                    "JPN",
                    "KAZ",
                    "KEN",
                    "KIR",
                    "KOR",
                    "NZL",
                    "PRK",
                    "RUS",
                    "USA"
                  ],
                  "labels": [
                    "Failure",
                    "Failure",
                    "Failure",
                    "Failure",
                    "Failure",
                    "Failure",
                    "Failure",
                    "Failure",
                    "Failure",
                    "Failure",
                    "Failure",
                    "Failure",
                    "Failure",
                    "Failure",
                    "Failure",
                    "Failure",
                    "Failure",
                    "Failure",
                    "Failure",
                    "Failure",
                    "Failure",
                    "Failure",
                    "Failure",
                    "Failure",
                    "Failure",
                    "Failure",
                    "Failure",
                    "Failure",
                    "Failure",
                    "Failure",
                    "Failure",
                    "Failure",
                    "Failure",
                    "Failure",
                    "Failure",
                    "Failure",
                    "Failure",
                    "Failure",
                    "Failure",
                    "Failure",
                    "Failure",
                    "Failure",
                    "Failure",
                    "Failure",
                    "Failure",
                    "Failure",
                    "Failure",
                    "Partial Failure",
                    "Partial Failure",
                    "Partial Failure",
                    "Partial Failure",
                    "Partial Failure",
                    "Partial Failure",
                    "Partial Failure",
                    "Partial Failure",
                    "Partial Failure",
                    "Partial Failure",
                    "Partial Failure",
                    "Partial Failure",
                    "Partial Failure",
                    "Partial Failure",
                    "Partial Failure",
                    "Partial Failure",
                    "Partial Failure",
                    "Partial Failure",
                    "Partial Failure",
                    "Partial Failure",
                    "Partial Failure",
                    "Partial Failure",
                    "Partial Failure",
                    "Partial Failure",
                    "Prelaunch Failure",
                    "Prelaunch Failure",
                    "Prelaunch Failure",
                    "Prelaunch Failure",
                    "Success",
                    "Success",
                    "Success",
                    "Success",
                    "Success",
                    "Success",
                    "Success",
                    "Success",
                    "Success",
                    "Success",
                    "Success",
                    "Success",
                    "Success",
                    "Success",
                    "Success",
                    "Success",
                    "Success",
                    "Success",
                    "Success",
                    "Success",
                    "Success",
                    "Success",
                    "Success",
                    "Success",
                    "Success",
                    "Success",
                    "Success",
                    "Success",
                    "Success",
                    "Success",
                    "Success",
                    "Success",
                    "Success",
                    "Success",
                    "Success",
                    "Success",
                    "Success",
                    "Success",
                    "Success",
                    "Success",
                    "Success",
                    "Success",
                    "Success",
                    "Success",
                    "Success",
                    "Success",
                    "Success",
                    "Success",
                    "Success",
                    "Success",
                    "Success",
                    "Success",
                    "Success",
                    "Success",
                    "Success",
                    "Success",
                    "Success",
                    "AEB",
                    "AMBA",
                    "AMBA",
                    "ASI",
                    "Arianespace",
                    "Arianespace",
                    "Arm??e de l'Air",
                    "Blue Origin",
                    "Boeing",
                    "CASC",
                    "CASIC",
                    "CECLES",
                    "CECLES",
                    "CNES",
                    "Douglas",
                    "EER",
                    "ESA",
                    "Eurockot",
                    "ExPace",
                    "Exos",
                    "General Dynamics",
                    "IAI",
                    "ILS",
                    "ILS",
                    "IRGC",
                    "ISA",
                    "ISAS",
                    "ISRO",
                    "JAXA",
                    "KARI",
                    "KCST",
                    "Khrunichev",
                    "Kosmotras",
                    "Kosmotras",
                    "Land Launch",
                    "Landspace",
                    "Lockheed",
                    "MHI",
                    "MITT",
                    "Martin Marietta",
                    "NASA",
                    "Northrop",
                    "OKB-586",
                    "OneSpace",
                    "RAE",
                    "RVSN USSR",
                    "RVSN USSR",
                    "Rocket Lab",
                    "Roscosmos",
                    "Roscosmos",
                    "SRC",
                    "Sandia",
                    "Sea Launch",
                    "SpaceX",
                    "Starsem",
                    "ULA",
                    "US Air Force",
                    "US Navy",
                    "UT",
                    "VKS RF",
                    "VKS RF",
                    "Virgin Orbit",
                    "Yuzhmash",
                    "Yuzhmash",
                    "i-Space",
                    "AUS",
                    "BRA",
                    "CHN",
                    "FRA",
                    "IND",
                    "IRN",
                    "ISR",
                    "JPN",
                    "KAZ",
                    "KEN",
                    "KIR",
                    "KOR",
                    "NZL",
                    "PRK",
                    "RUS",
                    "USA"
                  ],
                  "name": "",
                  "parents": [
                    "BRA/AEB",
                    "USA/AMBA",
                    "FRA/Arianespace",
                    "USA/Boeing",
                    "CHN/CASC",
                    "CHN/CASIC",
                    "AUS/CECLES",
                    "FRA/CECLES",
                    "FRA/CNES",
                    "USA/EER",
                    "FRA/ESA",
                    "RUS/Eurockot",
                    "CHN/ExPace",
                    "USA/Exos",
                    "USA/General Dynamics",
                    "ISR/IAI",
                    "IRN/ISA",
                    "JPN/ISAS",
                    "IND/ISRO",
                    "JPN/JAXA",
                    "KOR/KARI",
                    "PRK/KCST",
                    "KAZ/Kosmotras",
                    "CHN/Landspace",
                    "USA/Lockheed",
                    "JPN/MHI",
                    "RUS/MITT",
                    "USA/Martin Marietta",
                    "USA/NASA",
                    "USA/Northrop",
                    "CHN/OneSpace",
                    "AUS/RAE",
                    "KAZ/RVSN USSR",
                    "RUS/RVSN USSR",
                    "NZL/Rocket Lab",
                    "KAZ/Roscosmos",
                    "RUS/Roscosmos",
                    "RUS/SRC",
                    "USA/Sandia",
                    "KIR/Sea Launch",
                    "USA/SpaceX",
                    "USA/US Air Force",
                    "USA/US Navy",
                    "JPN/UT",
                    "KAZ/VKS RF",
                    "RUS/VKS RF",
                    "USA/Virgin Orbit",
                    "USA/AMBA",
                    "FRA/Arianespace",
                    "FRA/Arm??e de l'Air",
                    "USA/Boeing",
                    "CHN/CASC",
                    "FRA/ESA",
                    "USA/Exos",
                    "USA/General Dynamics",
                    "KAZ/ILS",
                    "JPN/ISAS",
                    "IND/ISRO",
                    "KAZ/Land Launch",
                    "JPN/MHI",
                    "USA/Martin Marietta",
                    "USA/NASA",
                    "USA/Northrop",
                    "KAZ/RVSN USSR",
                    "RUS/RVSN USSR",
                    "KAZ/Roscosmos",
                    "USA/SpaceX",
                    "USA/ULA",
                    "USA/US Air Force",
                    "USA/US Navy",
                    "RUS/VKS RF",
                    "BRA/AEB",
                    "IRN/ISA",
                    "KAZ/RVSN USSR",
                    "USA/SpaceX",
                    "AUS/AMBA",
                    "USA/AMBA",
                    "KEN/ASI",
                    "FRA/Arianespace",
                    "KAZ/Arianespace",
                    "FRA/Arm??e de l'Air",
                    "USA/Blue Origin",
                    "USA/Boeing",
                    "CHN/CASC",
                    "CHN/CASIC",
                    "AUS/CECLES",
                    "FRA/CNES",
                    "USA/Douglas",
                    "FRA/ESA",
                    "RUS/Eurockot",
                    "CHN/ExPace",
                    "USA/General Dynamics",
                    "ISR/IAI",
                    "KAZ/ILS",
                    "USA/ILS",
                    "IRN/IRGC",
                    "IRN/ISA",
                    "JPN/ISAS",
                    "IND/ISRO",
                    "JPN/JAXA",
                    "KOR/KARI",
                    "PRK/KCST",
                    "RUS/Khrunichev",
                    "KAZ/Kosmotras",
                    "RUS/Kosmotras",
                    "KAZ/Land Launch",
                    "USA/Lockheed",
                    "JPN/MHI",
                    "RUS/MITT",
                    "USA/Martin Marietta",
                    "USA/NASA",
                    "USA/Northrop",
                    "KAZ/OKB-586",
                    "AUS/RAE",
                    "KAZ/RVSN USSR",
                    "RUS/RVSN USSR",
                    "NZL/Rocket Lab",
                    "KAZ/Roscosmos",
                    "RUS/Roscosmos",
                    "RUS/SRC",
                    "KIR/Sea Launch",
                    "USA/SpaceX",
                    "KAZ/Starsem",
                    "USA/ULA",
                    "USA/US Air Force",
                    "USA/US Navy",
                    "JPN/UT",
                    "KAZ/VKS RF",
                    "RUS/VKS RF",
                    "KAZ/Yuzhmash",
                    "RUS/Yuzhmash",
                    "CHN/i-Space",
                    "BRA",
                    "AUS",
                    "USA",
                    "KEN",
                    "FRA",
                    "KAZ",
                    "FRA",
                    "USA",
                    "USA",
                    "CHN",
                    "CHN",
                    "AUS",
                    "FRA",
                    "FRA",
                    "USA",
                    "USA",
                    "FRA",
                    "RUS",
                    "CHN",
                    "USA",
                    "USA",
                    "ISR",
                    "KAZ",
                    "USA",
                    "IRN",
                    "IRN",
                    "JPN",
                    "IND",
                    "JPN",
                    "KOR",
                    "PRK",
                    "RUS",
                    "KAZ",
                    "RUS",
                    "KAZ",
                    "CHN",
                    "USA",
                    "JPN",
                    "RUS",
                    "USA",
                    "USA",
                    "USA",
                    "KAZ",
                    "CHN",
                    "AUS",
                    "KAZ",
                    "RUS",
                    "NZL",
                    "KAZ",
                    "RUS",
                    "RUS",
                    "USA",
                    "KIR",
                    "USA",
                    "KAZ",
                    "USA",
                    "USA",
                    "USA",
                    "JPN",
                    "KAZ",
                    "RUS",
                    "USA",
                    "KAZ",
                    "RUS",
                    "CHN",
                    "",
                    "",
                    "",
                    "",
                    "",
                    "",
                    "",
                    "",
                    "",
                    "",
                    "",
                    "",
                    "",
                    "",
                    "",
                    ""
                  ],
                  "type": "sunburst",
                  "values": [
                    2,
                    3,
                    7,
                    3,
                    14,
                    2,
                    2,
                    1,
                    2,
                    1,
                    3,
                    1,
                    1,
                    1,
                    37,
                    2,
                    8,
                    3,
                    8,
                    1,
                    2,
                    3,
                    1,
                    1,
                    5,
                    2,
                    1,
                    11,
                    11,
                    7,
                    1,
                    1,
                    66,
                    55,
                    2,
                    2,
                    1,
                    1,
                    1,
                    3,
                    4,
                    30,
                    14,
                    4,
                    3,
                    4,
                    1,
                    1,
                    3,
                    1,
                    2,
                    6,
                    1,
                    3,
                    11,
                    1,
                    1,
                    5,
                    1,
                    2,
                    3,
                    6,
                    2,
                    17,
                    24,
                    1,
                    1,
                    1,
                    2,
                    1,
                    6,
                    1,
                    1,
                    1,
                    1,
                    1,
                    3,
                    9,
                    267,
                    2,
                    3,
                    12,
                    131,
                    230,
                    3,
                    1,
                    6,
                    1,
                    9,
                    12,
                    9,
                    203,
                    9,
                    5,
                    40,
                    1,
                    4,
                    26,
                    63,
                    6,
                    1,
                    2,
                    1,
                    11,
                    10,
                    6,
                    74,
                    80,
                    6,
                    100,
                    186,
                    74,
                    2,
                    1,
                    495,
                    1119,
                    11,
                    44,
                    7,
                    2,
                    33,
                    94,
                    1,
                    139,
                    129,
                    2,
                    1,
                    41,
                    147,
                    1,
                    1,
                    1,
                    3,
                    1,
                    7,
                    9,
                    277,
                    2,
                    4,
                    12,
                    136,
                    250,
                    5,
                    3,
                    1,
                    8,
                    1,
                    1,
                    13,
                    13,
                    10,
                    4,
                    251,
                    11,
                    6,
                    40,
                    1,
                    13,
                    30,
                    76,
                    7,
                    3,
                    5,
                    1,
                    12,
                    10,
                    7,
                    1,
                    79,
                    84,
                    7,
                    114,
                    203,
                    83,
                    2,
                    1,
                    2,
                    579,
                    1198,
                    13,
                    47,
                    8,
                    3,
                    1,
                    36,
                    100,
                    1,
                    140,
                    161,
                    17,
                    5,
                    44,
                    157,
                    1,
                    1,
                    1,
                    1,
                    6,
                    3,
                    268,
                    303,
                    76,
                    14,
                    11,
                    126,
                    701,
                    9,
                    36,
                    3,
                    13,
                    5,
                    1398,
                    1351
                  ]
                }
              ],
              "layout": {
                "legend": {
                  "tracegroupgap": 0
                },
                "template": {
                  "data": {
                    "bar": [
                      {
                        "error_x": {
                          "color": "#2a3f5f"
                        },
                        "error_y": {
                          "color": "#2a3f5f"
                        },
                        "marker": {
                          "line": {
                            "color": "#E5ECF6",
                            "width": 0.5
                          },
                          "pattern": {
                            "fillmode": "overlay",
                            "size": 10,
                            "solidity": 0.2
                          }
                        },
                        "type": "bar"
                      }
                    ],
                    "barpolar": [
                      {
                        "marker": {
                          "line": {
                            "color": "#E5ECF6",
                            "width": 0.5
                          },
                          "pattern": {
                            "fillmode": "overlay",
                            "size": 10,
                            "solidity": 0.2
                          }
                        },
                        "type": "barpolar"
                      }
                    ],
                    "carpet": [
                      {
                        "aaxis": {
                          "endlinecolor": "#2a3f5f",
                          "gridcolor": "white",
                          "linecolor": "white",
                          "minorgridcolor": "white",
                          "startlinecolor": "#2a3f5f"
                        },
                        "baxis": {
                          "endlinecolor": "#2a3f5f",
                          "gridcolor": "white",
                          "linecolor": "white",
                          "minorgridcolor": "white",
                          "startlinecolor": "#2a3f5f"
                        },
                        "type": "carpet"
                      }
                    ],
                    "choropleth": [
                      {
                        "colorbar": {
                          "outlinewidth": 0,
                          "ticks": ""
                        },
                        "type": "choropleth"
                      }
                    ],
                    "contour": [
                      {
                        "colorbar": {
                          "outlinewidth": 0,
                          "ticks": ""
                        },
                        "colorscale": [
                          [
                            0,
                            "#0d0887"
                          ],
                          [
                            0.1111111111111111,
                            "#46039f"
                          ],
                          [
                            0.2222222222222222,
                            "#7201a8"
                          ],
                          [
                            0.3333333333333333,
                            "#9c179e"
                          ],
                          [
                            0.4444444444444444,
                            "#bd3786"
                          ],
                          [
                            0.5555555555555556,
                            "#d8576b"
                          ],
                          [
                            0.6666666666666666,
                            "#ed7953"
                          ],
                          [
                            0.7777777777777778,
                            "#fb9f3a"
                          ],
                          [
                            0.8888888888888888,
                            "#fdca26"
                          ],
                          [
                            1,
                            "#f0f921"
                          ]
                        ],
                        "type": "contour"
                      }
                    ],
                    "contourcarpet": [
                      {
                        "colorbar": {
                          "outlinewidth": 0,
                          "ticks": ""
                        },
                        "type": "contourcarpet"
                      }
                    ],
                    "heatmap": [
                      {
                        "colorbar": {
                          "outlinewidth": 0,
                          "ticks": ""
                        },
                        "colorscale": [
                          [
                            0,
                            "#0d0887"
                          ],
                          [
                            0.1111111111111111,
                            "#46039f"
                          ],
                          [
                            0.2222222222222222,
                            "#7201a8"
                          ],
                          [
                            0.3333333333333333,
                            "#9c179e"
                          ],
                          [
                            0.4444444444444444,
                            "#bd3786"
                          ],
                          [
                            0.5555555555555556,
                            "#d8576b"
                          ],
                          [
                            0.6666666666666666,
                            "#ed7953"
                          ],
                          [
                            0.7777777777777778,
                            "#fb9f3a"
                          ],
                          [
                            0.8888888888888888,
                            "#fdca26"
                          ],
                          [
                            1,
                            "#f0f921"
                          ]
                        ],
                        "type": "heatmap"
                      }
                    ],
                    "heatmapgl": [
                      {
                        "colorbar": {
                          "outlinewidth": 0,
                          "ticks": ""
                        },
                        "colorscale": [
                          [
                            0,
                            "#0d0887"
                          ],
                          [
                            0.1111111111111111,
                            "#46039f"
                          ],
                          [
                            0.2222222222222222,
                            "#7201a8"
                          ],
                          [
                            0.3333333333333333,
                            "#9c179e"
                          ],
                          [
                            0.4444444444444444,
                            "#bd3786"
                          ],
                          [
                            0.5555555555555556,
                            "#d8576b"
                          ],
                          [
                            0.6666666666666666,
                            "#ed7953"
                          ],
                          [
                            0.7777777777777778,
                            "#fb9f3a"
                          ],
                          [
                            0.8888888888888888,
                            "#fdca26"
                          ],
                          [
                            1,
                            "#f0f921"
                          ]
                        ],
                        "type": "heatmapgl"
                      }
                    ],
                    "histogram": [
                      {
                        "marker": {
                          "pattern": {
                            "fillmode": "overlay",
                            "size": 10,
                            "solidity": 0.2
                          }
                        },
                        "type": "histogram"
                      }
                    ],
                    "histogram2d": [
                      {
                        "colorbar": {
                          "outlinewidth": 0,
                          "ticks": ""
                        },
                        "colorscale": [
                          [
                            0,
                            "#0d0887"
                          ],
                          [
                            0.1111111111111111,
                            "#46039f"
                          ],
                          [
                            0.2222222222222222,
                            "#7201a8"
                          ],
                          [
                            0.3333333333333333,
                            "#9c179e"
                          ],
                          [
                            0.4444444444444444,
                            "#bd3786"
                          ],
                          [
                            0.5555555555555556,
                            "#d8576b"
                          ],
                          [
                            0.6666666666666666,
                            "#ed7953"
                          ],
                          [
                            0.7777777777777778,
                            "#fb9f3a"
                          ],
                          [
                            0.8888888888888888,
                            "#fdca26"
                          ],
                          [
                            1,
                            "#f0f921"
                          ]
                        ],
                        "type": "histogram2d"
                      }
                    ],
                    "histogram2dcontour": [
                      {
                        "colorbar": {
                          "outlinewidth": 0,
                          "ticks": ""
                        },
                        "colorscale": [
                          [
                            0,
                            "#0d0887"
                          ],
                          [
                            0.1111111111111111,
                            "#46039f"
                          ],
                          [
                            0.2222222222222222,
                            "#7201a8"
                          ],
                          [
                            0.3333333333333333,
                            "#9c179e"
                          ],
                          [
                            0.4444444444444444,
                            "#bd3786"
                          ],
                          [
                            0.5555555555555556,
                            "#d8576b"
                          ],
                          [
                            0.6666666666666666,
                            "#ed7953"
                          ],
                          [
                            0.7777777777777778,
                            "#fb9f3a"
                          ],
                          [
                            0.8888888888888888,
                            "#fdca26"
                          ],
                          [
                            1,
                            "#f0f921"
                          ]
                        ],
                        "type": "histogram2dcontour"
                      }
                    ],
                    "mesh3d": [
                      {
                        "colorbar": {
                          "outlinewidth": 0,
                          "ticks": ""
                        },
                        "type": "mesh3d"
                      }
                    ],
                    "parcoords": [
                      {
                        "line": {
                          "colorbar": {
                            "outlinewidth": 0,
                            "ticks": ""
                          }
                        },
                        "type": "parcoords"
                      }
                    ],
                    "pie": [
                      {
                        "automargin": true,
                        "type": "pie"
                      }
                    ],
                    "scatter": [
                      {
                        "fillpattern": {
                          "fillmode": "overlay",
                          "size": 10,
                          "solidity": 0.2
                        },
                        "type": "scatter"
                      }
                    ],
                    "scatter3d": [
                      {
                        "line": {
                          "colorbar": {
                            "outlinewidth": 0,
                            "ticks": ""
                          }
                        },
                        "marker": {
                          "colorbar": {
                            "outlinewidth": 0,
                            "ticks": ""
                          }
                        },
                        "type": "scatter3d"
                      }
                    ],
                    "scattercarpet": [
                      {
                        "marker": {
                          "colorbar": {
                            "outlinewidth": 0,
                            "ticks": ""
                          }
                        },
                        "type": "scattercarpet"
                      }
                    ],
                    "scattergeo": [
                      {
                        "marker": {
                          "colorbar": {
                            "outlinewidth": 0,
                            "ticks": ""
                          }
                        },
                        "type": "scattergeo"
                      }
                    ],
                    "scattergl": [
                      {
                        "marker": {
                          "colorbar": {
                            "outlinewidth": 0,
                            "ticks": ""
                          }
                        },
                        "type": "scattergl"
                      }
                    ],
                    "scattermapbox": [
                      {
                        "marker": {
                          "colorbar": {
                            "outlinewidth": 0,
                            "ticks": ""
                          }
                        },
                        "type": "scattermapbox"
                      }
                    ],
                    "scatterpolar": [
                      {
                        "marker": {
                          "colorbar": {
                            "outlinewidth": 0,
                            "ticks": ""
                          }
                        },
                        "type": "scatterpolar"
                      }
                    ],
                    "scatterpolargl": [
                      {
                        "marker": {
                          "colorbar": {
                            "outlinewidth": 0,
                            "ticks": ""
                          }
                        },
                        "type": "scatterpolargl"
                      }
                    ],
                    "scatterternary": [
                      {
                        "marker": {
                          "colorbar": {
                            "outlinewidth": 0,
                            "ticks": ""
                          }
                        },
                        "type": "scatterternary"
                      }
                    ],
                    "surface": [
                      {
                        "colorbar": {
                          "outlinewidth": 0,
                          "ticks": ""
                        },
                        "colorscale": [
                          [
                            0,
                            "#0d0887"
                          ],
                          [
                            0.1111111111111111,
                            "#46039f"
                          ],
                          [
                            0.2222222222222222,
                            "#7201a8"
                          ],
                          [
                            0.3333333333333333,
                            "#9c179e"
                          ],
                          [
                            0.4444444444444444,
                            "#bd3786"
                          ],
                          [
                            0.5555555555555556,
                            "#d8576b"
                          ],
                          [
                            0.6666666666666666,
                            "#ed7953"
                          ],
                          [
                            0.7777777777777778,
                            "#fb9f3a"
                          ],
                          [
                            0.8888888888888888,
                            "#fdca26"
                          ],
                          [
                            1,
                            "#f0f921"
                          ]
                        ],
                        "type": "surface"
                      }
                    ],
                    "table": [
                      {
                        "cells": {
                          "fill": {
                            "color": "#EBF0F8"
                          },
                          "line": {
                            "color": "white"
                          }
                        },
                        "header": {
                          "fill": {
                            "color": "#C8D4E3"
                          },
                          "line": {
                            "color": "white"
                          }
                        },
                        "type": "table"
                      }
                    ]
                  },
                  "layout": {
                    "annotationdefaults": {
                      "arrowcolor": "#2a3f5f",
                      "arrowhead": 0,
                      "arrowwidth": 1
                    },
                    "autotypenumbers": "strict",
                    "coloraxis": {
                      "colorbar": {
                        "outlinewidth": 0,
                        "ticks": ""
                      }
                    },
                    "colorscale": {
                      "diverging": [
                        [
                          0,
                          "#8e0152"
                        ],
                        [
                          0.1,
                          "#c51b7d"
                        ],
                        [
                          0.2,
                          "#de77ae"
                        ],
                        [
                          0.3,
                          "#f1b6da"
                        ],
                        [
                          0.4,
                          "#fde0ef"
                        ],
                        [
                          0.5,
                          "#f7f7f7"
                        ],
                        [
                          0.6,
                          "#e6f5d0"
                        ],
                        [
                          0.7,
                          "#b8e186"
                        ],
                        [
                          0.8,
                          "#7fbc41"
                        ],
                        [
                          0.9,
                          "#4d9221"
                        ],
                        [
                          1,
                          "#276419"
                        ]
                      ],
                      "sequential": [
                        [
                          0,
                          "#0d0887"
                        ],
                        [
                          0.1111111111111111,
                          "#46039f"
                        ],
                        [
                          0.2222222222222222,
                          "#7201a8"
                        ],
                        [
                          0.3333333333333333,
                          "#9c179e"
                        ],
                        [
                          0.4444444444444444,
                          "#bd3786"
                        ],
                        [
                          0.5555555555555556,
                          "#d8576b"
                        ],
                        [
                          0.6666666666666666,
                          "#ed7953"
                        ],
                        [
                          0.7777777777777778,
                          "#fb9f3a"
                        ],
                        [
                          0.8888888888888888,
                          "#fdca26"
                        ],
                        [
                          1,
                          "#f0f921"
                        ]
                      ],
                      "sequentialminus": [
                        [
                          0,
                          "#0d0887"
                        ],
                        [
                          0.1111111111111111,
                          "#46039f"
                        ],
                        [
                          0.2222222222222222,
                          "#7201a8"
                        ],
                        [
                          0.3333333333333333,
                          "#9c179e"
                        ],
                        [
                          0.4444444444444444,
                          "#bd3786"
                        ],
                        [
                          0.5555555555555556,
                          "#d8576b"
                        ],
                        [
                          0.6666666666666666,
                          "#ed7953"
                        ],
                        [
                          0.7777777777777778,
                          "#fb9f3a"
                        ],
                        [
                          0.8888888888888888,
                          "#fdca26"
                        ],
                        [
                          1,
                          "#f0f921"
                        ]
                      ]
                    },
                    "colorway": [
                      "#636efa",
                      "#EF553B",
                      "#00cc96",
                      "#ab63fa",
                      "#FFA15A",
                      "#19d3f3",
                      "#FF6692",
                      "#B6E880",
                      "#FF97FF",
                      "#FECB52"
                    ],
                    "font": {
                      "color": "#2a3f5f"
                    },
                    "geo": {
                      "bgcolor": "white",
                      "lakecolor": "white",
                      "landcolor": "#E5ECF6",
                      "showlakes": true,
                      "showland": true,
                      "subunitcolor": "white"
                    },
                    "hoverlabel": {
                      "align": "left"
                    },
                    "hovermode": "closest",
                    "mapbox": {
                      "style": "light"
                    },
                    "paper_bgcolor": "white",
                    "plot_bgcolor": "#E5ECF6",
                    "polar": {
                      "angularaxis": {
                        "gridcolor": "white",
                        "linecolor": "white",
                        "ticks": ""
                      },
                      "bgcolor": "#E5ECF6",
                      "radialaxis": {
                        "gridcolor": "white",
                        "linecolor": "white",
                        "ticks": ""
                      }
                    },
                    "scene": {
                      "xaxis": {
                        "backgroundcolor": "#E5ECF6",
                        "gridcolor": "white",
                        "gridwidth": 2,
                        "linecolor": "white",
                        "showbackground": true,
                        "ticks": "",
                        "zerolinecolor": "white"
                      },
                      "yaxis": {
                        "backgroundcolor": "#E5ECF6",
                        "gridcolor": "white",
                        "gridwidth": 2,
                        "linecolor": "white",
                        "showbackground": true,
                        "ticks": "",
                        "zerolinecolor": "white"
                      },
                      "zaxis": {
                        "backgroundcolor": "#E5ECF6",
                        "gridcolor": "white",
                        "gridwidth": 2,
                        "linecolor": "white",
                        "showbackground": true,
                        "ticks": "",
                        "zerolinecolor": "white"
                      }
                    },
                    "shapedefaults": {
                      "line": {
                        "color": "#2a3f5f"
                      }
                    },
                    "ternary": {
                      "aaxis": {
                        "gridcolor": "white",
                        "linecolor": "white",
                        "ticks": ""
                      },
                      "baxis": {
                        "gridcolor": "white",
                        "linecolor": "white",
                        "ticks": ""
                      },
                      "bgcolor": "#E5ECF6",
                      "caxis": {
                        "gridcolor": "white",
                        "linecolor": "white",
                        "ticks": ""
                      }
                    },
                    "title": {
                      "x": 0.05
                    },
                    "xaxis": {
                      "automargin": true,
                      "gridcolor": "white",
                      "linecolor": "white",
                      "ticks": "",
                      "title": {
                        "standoff": 15
                      },
                      "zerolinecolor": "white",
                      "zerolinewidth": 2
                    },
                    "yaxis": {
                      "automargin": true,
                      "gridcolor": "white",
                      "linecolor": "white",
                      "ticks": "",
                      "title": {
                        "standoff": 15
                      },
                      "zerolinecolor": "white",
                      "zerolinewidth": 2
                    }
                  }
                },
                "title": {
                  "text": "Sunburst of Countries, Organisation and Mission Status"
                }
              }
            }
          },
          "metadata": {},
          "output_type": "display_data"
        }
      ],
      "source": [
        "burst = px.sunburst(df_burst_chart, \n",
        "                    path=['ISO_code', 'Organisation', 'Mission_Status'], \n",
        "                    values='Detail',\n",
        "                    title='Sunburst of Countries, Organisation and Mission Status',\n",
        "                   )\n",
        " \n",
        "burst.show()"
      ]
    },
    {
      "cell_type": "markdown",
      "metadata": {
        "id": "70pG1BCZa-qY",
        "papermill": {
          "duration": 0.062712,
          "end_time": "2020-10-20T21:34:07.951200",
          "exception": false,
          "start_time": "2020-10-20T21:34:07.888488",
          "status": "completed"
        },
        "tags": []
      },
      "source": [
        "## Analyse the Total Amount of Money Spent by Organisation on Space Missions"
      ]
    },
    {
      "cell_type": "code",
      "execution_count": 35,
      "metadata": {
        "id": "IaJYxwEVpKHy"
      },
      "outputs": [
        {
          "data": {
            "text/html": [
              "<div>\n",
              "<style scoped>\n",
              "    .dataframe tbody tr th:only-of-type {\n",
              "        vertical-align: middle;\n",
              "    }\n",
              "\n",
              "    .dataframe tbody tr th {\n",
              "        vertical-align: top;\n",
              "    }\n",
              "\n",
              "    .dataframe thead th {\n",
              "        text-align: right;\n",
              "    }\n",
              "</style>\n",
              "<table border=\"1\" class=\"dataframe\">\n",
              "  <thead>\n",
              "    <tr style=\"text-align: right;\">\n",
              "      <th></th>\n",
              "      <th>Organisation</th>\n",
              "      <th>Location</th>\n",
              "      <th>Date</th>\n",
              "      <th>Detail</th>\n",
              "      <th>Rocket_Status</th>\n",
              "      <th>Price</th>\n",
              "      <th>Mission_Status</th>\n",
              "      <th>ISO_code</th>\n",
              "    </tr>\n",
              "  </thead>\n",
              "  <tbody>\n",
              "    <tr>\n",
              "      <th>0</th>\n",
              "      <td>SpaceX</td>\n",
              "      <td>LC-39A, Kennedy Space Center, Florida, USA</td>\n",
              "      <td>Fri Aug 07, 2020 05:12 UTC</td>\n",
              "      <td>Falcon 9 Block 5 | Starlink V1 L9 &amp; BlackSky</td>\n",
              "      <td>StatusActive</td>\n",
              "      <td>50.00</td>\n",
              "      <td>Success</td>\n",
              "      <td>USA</td>\n",
              "    </tr>\n",
              "    <tr>\n",
              "      <th>1</th>\n",
              "      <td>CASC</td>\n",
              "      <td>Site 9401 (SLS-2), Jiuquan Satellite Launch Ce...</td>\n",
              "      <td>Thu Aug 06, 2020 04:01 UTC</td>\n",
              "      <td>Long March 2D | Gaofen-9 04 &amp; Q-SAT</td>\n",
              "      <td>StatusActive</td>\n",
              "      <td>29.75</td>\n",
              "      <td>Success</td>\n",
              "      <td>CHN</td>\n",
              "    </tr>\n",
              "    <tr>\n",
              "      <th>2</th>\n",
              "      <td>SpaceX</td>\n",
              "      <td>Pad A, Boca Chica, Texas, USA</td>\n",
              "      <td>Tue Aug 04, 2020 23:57 UTC</td>\n",
              "      <td>Starship Prototype | 150 Meter Hop</td>\n",
              "      <td>StatusActive</td>\n",
              "      <td>NaN</td>\n",
              "      <td>Success</td>\n",
              "      <td>USA</td>\n",
              "    </tr>\n",
              "    <tr>\n",
              "      <th>3</th>\n",
              "      <td>Roscosmos</td>\n",
              "      <td>Site 200/39, Baikonur Cosmodrome, Kazakhstan</td>\n",
              "      <td>Thu Jul 30, 2020 21:25 UTC</td>\n",
              "      <td>Proton-M/Briz-M | Ekspress-80 &amp; Ekspress-103</td>\n",
              "      <td>StatusActive</td>\n",
              "      <td>65.00</td>\n",
              "      <td>Success</td>\n",
              "      <td>KAZ</td>\n",
              "    </tr>\n",
              "    <tr>\n",
              "      <th>4</th>\n",
              "      <td>ULA</td>\n",
              "      <td>SLC-41, Cape Canaveral AFS, Florida, USA</td>\n",
              "      <td>Thu Jul 30, 2020 11:50 UTC</td>\n",
              "      <td>Atlas V 541 | Perseverance</td>\n",
              "      <td>StatusActive</td>\n",
              "      <td>145.00</td>\n",
              "      <td>Success</td>\n",
              "      <td>USA</td>\n",
              "    </tr>\n",
              "  </tbody>\n",
              "</table>\n",
              "</div>"
            ],
            "text/plain": [
              "  Organisation                                           Location  \\\n",
              "0       SpaceX         LC-39A, Kennedy Space Center, Florida, USA   \n",
              "1         CASC  Site 9401 (SLS-2), Jiuquan Satellite Launch Ce...   \n",
              "2       SpaceX                      Pad A, Boca Chica, Texas, USA   \n",
              "3    Roscosmos       Site 200/39, Baikonur Cosmodrome, Kazakhstan   \n",
              "4          ULA           SLC-41, Cape Canaveral AFS, Florida, USA   \n",
              "\n",
              "                         Date                                        Detail  \\\n",
              "0  Fri Aug 07, 2020 05:12 UTC  Falcon 9 Block 5 | Starlink V1 L9 & BlackSky   \n",
              "1  Thu Aug 06, 2020 04:01 UTC           Long March 2D | Gaofen-9 04 & Q-SAT   \n",
              "2  Tue Aug 04, 2020 23:57 UTC            Starship Prototype | 150 Meter Hop   \n",
              "3  Thu Jul 30, 2020 21:25 UTC  Proton-M/Briz-M | Ekspress-80 & Ekspress-103   \n",
              "4  Thu Jul 30, 2020 11:50 UTC                    Atlas V 541 | Perseverance   \n",
              "\n",
              "  Rocket_Status  Price Mission_Status ISO_code  \n",
              "0  StatusActive  50.00        Success      USA  \n",
              "1  StatusActive  29.75        Success      CHN  \n",
              "2  StatusActive    NaN        Success      USA  \n",
              "3  StatusActive  65.00        Success      KAZ  \n",
              "4  StatusActive 145.00        Success      USA  "
            ]
          },
          "execution_count": 35,
          "metadata": {},
          "output_type": "execute_result"
        }
      ],
      "source": [
        "df_data.head()"
      ]
    },
    {
      "cell_type": "code",
      "execution_count": 36,
      "metadata": {
        "id": "orIFf-appPDL"
      },
      "outputs": [
        {
          "data": {
            "text/html": [
              "<div>\n",
              "<style scoped>\n",
              "    .dataframe tbody tr th:only-of-type {\n",
              "        vertical-align: middle;\n",
              "    }\n",
              "\n",
              "    .dataframe tbody tr th {\n",
              "        vertical-align: top;\n",
              "    }\n",
              "\n",
              "    .dataframe thead th {\n",
              "        text-align: right;\n",
              "    }\n",
              "</style>\n",
              "<table border=\"1\" class=\"dataframe\">\n",
              "  <thead>\n",
              "    <tr style=\"text-align: right;\">\n",
              "      <th></th>\n",
              "      <th>Organisation</th>\n",
              "      <th>Price</th>\n",
              "    </tr>\n",
              "  </thead>\n",
              "  <tbody>\n",
              "    <tr>\n",
              "      <th>3</th>\n",
              "      <td>Arianespace</td>\n",
              "      <td>16,345.00</td>\n",
              "    </tr>\n",
              "    <tr>\n",
              "      <th>6</th>\n",
              "      <td>Boeing</td>\n",
              "      <td>1,241.00</td>\n",
              "    </tr>\n",
              "    <tr>\n",
              "      <th>7</th>\n",
              "      <td>CASC</td>\n",
              "      <td>6,310.51</td>\n",
              "    </tr>\n",
              "    <tr>\n",
              "      <th>12</th>\n",
              "      <td>EER</td>\n",
              "      <td>20.00</td>\n",
              "    </tr>\n",
              "    <tr>\n",
              "      <th>13</th>\n",
              "      <td>ESA</td>\n",
              "      <td>37.00</td>\n",
              "    </tr>\n",
              "    <tr>\n",
              "      <th>14</th>\n",
              "      <td>Eurockot</td>\n",
              "      <td>543.40</td>\n",
              "    </tr>\n",
              "    <tr>\n",
              "      <th>15</th>\n",
              "      <td>ExPace</td>\n",
              "      <td>28.30</td>\n",
              "    </tr>\n",
              "    <tr>\n",
              "      <th>19</th>\n",
              "      <td>ILS</td>\n",
              "      <td>1,320.00</td>\n",
              "    </tr>\n",
              "    <tr>\n",
              "      <th>23</th>\n",
              "      <td>ISRO</td>\n",
              "      <td>2,177.00</td>\n",
              "    </tr>\n",
              "    <tr>\n",
              "      <th>24</th>\n",
              "      <td>JAXA</td>\n",
              "      <td>168.00</td>\n",
              "    </tr>\n",
              "    <tr>\n",
              "      <th>28</th>\n",
              "      <td>Kosmotras</td>\n",
              "      <td>638.00</td>\n",
              "    </tr>\n",
              "    <tr>\n",
              "      <th>31</th>\n",
              "      <td>Lockheed</td>\n",
              "      <td>280.00</td>\n",
              "    </tr>\n",
              "    <tr>\n",
              "      <th>32</th>\n",
              "      <td>MHI</td>\n",
              "      <td>3,532.50</td>\n",
              "    </tr>\n",
              "    <tr>\n",
              "      <th>34</th>\n",
              "      <td>Martin Marietta</td>\n",
              "      <td>721.40</td>\n",
              "    </tr>\n",
              "    <tr>\n",
              "      <th>35</th>\n",
              "      <td>NASA</td>\n",
              "      <td>76,280.00</td>\n",
              "    </tr>\n",
              "    <tr>\n",
              "      <th>36</th>\n",
              "      <td>Northrop</td>\n",
              "      <td>3,930.00</td>\n",
              "    </tr>\n",
              "    <tr>\n",
              "      <th>40</th>\n",
              "      <td>RVSN USSR</td>\n",
              "      <td>10,000.00</td>\n",
              "    </tr>\n",
              "    <tr>\n",
              "      <th>41</th>\n",
              "      <td>Rocket Lab</td>\n",
              "      <td>97.50</td>\n",
              "    </tr>\n",
              "    <tr>\n",
              "      <th>42</th>\n",
              "      <td>Roscosmos</td>\n",
              "      <td>1,187.50</td>\n",
              "    </tr>\n",
              "    <tr>\n",
              "      <th>44</th>\n",
              "      <td>Sandia</td>\n",
              "      <td>15.00</td>\n",
              "    </tr>\n",
              "    <tr>\n",
              "      <th>46</th>\n",
              "      <td>SpaceX</td>\n",
              "      <td>5,444.00</td>\n",
              "    </tr>\n",
              "    <tr>\n",
              "      <th>48</th>\n",
              "      <td>ULA</td>\n",
              "      <td>14,798.00</td>\n",
              "    </tr>\n",
              "    <tr>\n",
              "      <th>49</th>\n",
              "      <td>US Air Force</td>\n",
              "      <td>1,550.92</td>\n",
              "    </tr>\n",
              "    <tr>\n",
              "      <th>52</th>\n",
              "      <td>VKS RF</td>\n",
              "      <td>1,548.90</td>\n",
              "    </tr>\n",
              "    <tr>\n",
              "      <th>53</th>\n",
              "      <td>Virgin Orbit</td>\n",
              "      <td>12.00</td>\n",
              "    </tr>\n",
              "  </tbody>\n",
              "</table>\n",
              "</div>"
            ],
            "text/plain": [
              "       Organisation     Price\n",
              "3       Arianespace 16,345.00\n",
              "6            Boeing  1,241.00\n",
              "7              CASC  6,310.51\n",
              "12              EER     20.00\n",
              "13              ESA     37.00\n",
              "14         Eurockot    543.40\n",
              "15           ExPace     28.30\n",
              "19              ILS  1,320.00\n",
              "23             ISRO  2,177.00\n",
              "24             JAXA    168.00\n",
              "28        Kosmotras    638.00\n",
              "31         Lockheed    280.00\n",
              "32              MHI  3,532.50\n",
              "34  Martin Marietta    721.40\n",
              "35             NASA 76,280.00\n",
              "36         Northrop  3,930.00\n",
              "40        RVSN USSR 10,000.00\n",
              "41       Rocket Lab     97.50\n",
              "42        Roscosmos  1,187.50\n",
              "44           Sandia     15.00\n",
              "46           SpaceX  5,444.00\n",
              "48              ULA 14,798.00\n",
              "49     US Air Force  1,550.92\n",
              "52           VKS RF  1,548.90\n",
              "53     Virgin Orbit     12.00"
            ]
          },
          "execution_count": 36,
          "metadata": {},
          "output_type": "execute_result"
        }
      ],
      "source": [
        "df_money_spent_by_org = df_data.groupby(by=['Organisation'], as_index=False).agg({'Price' : pd.Series.sum})\n",
        "\n",
        "# remove Companies that have the prices at 0 (That means that all of their money spent is unaccounted for)\n",
        "df_money_spent_by_org = df_money_spent_by_org[df_money_spent_by_org[\"Price\"] != 0]\n",
        "\n",
        "df_money_spent_by_org"
      ]
    },
    {
      "cell_type": "code",
      "execution_count": 37,
      "metadata": {
        "id": "86OMPfpEpO7R"
      },
      "outputs": [
        {
          "data": {
            "application/vnd.plotly.v1+json": {
              "config": {
                "plotlyServerURL": "https://plot.ly"
              },
              "data": [
                {
                  "alignmentgroup": "True",
                  "hovertemplate": "Organisation=%{x}<br>Price=%{y}<extra></extra>",
                  "legendgroup": "",
                  "marker": {
                    "color": "#636efa",
                    "pattern": {
                      "shape": ""
                    }
                  },
                  "name": "",
                  "offsetgroup": "",
                  "orientation": "v",
                  "showlegend": false,
                  "textposition": "auto",
                  "type": "bar",
                  "x": [
                    "Arianespace",
                    "Boeing",
                    "CASC",
                    "EER",
                    "ESA",
                    "Eurockot",
                    "ExPace",
                    "ILS",
                    "ISRO",
                    "JAXA",
                    "Kosmotras",
                    "Lockheed",
                    "MHI",
                    "Martin Marietta",
                    "NASA",
                    "Northrop",
                    "RVSN USSR",
                    "Rocket Lab",
                    "Roscosmos",
                    "Sandia",
                    "SpaceX",
                    "ULA",
                    "US Air Force",
                    "VKS RF",
                    "Virgin Orbit"
                  ],
                  "xaxis": "x",
                  "y": [
                    16345,
                    1241,
                    6310.51,
                    20,
                    37,
                    543.4,
                    28.3,
                    1320,
                    2177,
                    168,
                    638,
                    280,
                    3532.5,
                    721.4,
                    76280,
                    3930,
                    10000,
                    97.5,
                    1187.5,
                    15,
                    5444,
                    14798,
                    1550.92,
                    1548.9,
                    12
                  ],
                  "yaxis": "y"
                }
              ],
              "layout": {
                "barmode": "relative",
                "legend": {
                  "tracegroupgap": 0
                },
                "margin": {
                  "t": 60
                },
                "template": {
                  "data": {
                    "bar": [
                      {
                        "error_x": {
                          "color": "#2a3f5f"
                        },
                        "error_y": {
                          "color": "#2a3f5f"
                        },
                        "marker": {
                          "line": {
                            "color": "#E5ECF6",
                            "width": 0.5
                          },
                          "pattern": {
                            "fillmode": "overlay",
                            "size": 10,
                            "solidity": 0.2
                          }
                        },
                        "type": "bar"
                      }
                    ],
                    "barpolar": [
                      {
                        "marker": {
                          "line": {
                            "color": "#E5ECF6",
                            "width": 0.5
                          },
                          "pattern": {
                            "fillmode": "overlay",
                            "size": 10,
                            "solidity": 0.2
                          }
                        },
                        "type": "barpolar"
                      }
                    ],
                    "carpet": [
                      {
                        "aaxis": {
                          "endlinecolor": "#2a3f5f",
                          "gridcolor": "white",
                          "linecolor": "white",
                          "minorgridcolor": "white",
                          "startlinecolor": "#2a3f5f"
                        },
                        "baxis": {
                          "endlinecolor": "#2a3f5f",
                          "gridcolor": "white",
                          "linecolor": "white",
                          "minorgridcolor": "white",
                          "startlinecolor": "#2a3f5f"
                        },
                        "type": "carpet"
                      }
                    ],
                    "choropleth": [
                      {
                        "colorbar": {
                          "outlinewidth": 0,
                          "ticks": ""
                        },
                        "type": "choropleth"
                      }
                    ],
                    "contour": [
                      {
                        "colorbar": {
                          "outlinewidth": 0,
                          "ticks": ""
                        },
                        "colorscale": [
                          [
                            0,
                            "#0d0887"
                          ],
                          [
                            0.1111111111111111,
                            "#46039f"
                          ],
                          [
                            0.2222222222222222,
                            "#7201a8"
                          ],
                          [
                            0.3333333333333333,
                            "#9c179e"
                          ],
                          [
                            0.4444444444444444,
                            "#bd3786"
                          ],
                          [
                            0.5555555555555556,
                            "#d8576b"
                          ],
                          [
                            0.6666666666666666,
                            "#ed7953"
                          ],
                          [
                            0.7777777777777778,
                            "#fb9f3a"
                          ],
                          [
                            0.8888888888888888,
                            "#fdca26"
                          ],
                          [
                            1,
                            "#f0f921"
                          ]
                        ],
                        "type": "contour"
                      }
                    ],
                    "contourcarpet": [
                      {
                        "colorbar": {
                          "outlinewidth": 0,
                          "ticks": ""
                        },
                        "type": "contourcarpet"
                      }
                    ],
                    "heatmap": [
                      {
                        "colorbar": {
                          "outlinewidth": 0,
                          "ticks": ""
                        },
                        "colorscale": [
                          [
                            0,
                            "#0d0887"
                          ],
                          [
                            0.1111111111111111,
                            "#46039f"
                          ],
                          [
                            0.2222222222222222,
                            "#7201a8"
                          ],
                          [
                            0.3333333333333333,
                            "#9c179e"
                          ],
                          [
                            0.4444444444444444,
                            "#bd3786"
                          ],
                          [
                            0.5555555555555556,
                            "#d8576b"
                          ],
                          [
                            0.6666666666666666,
                            "#ed7953"
                          ],
                          [
                            0.7777777777777778,
                            "#fb9f3a"
                          ],
                          [
                            0.8888888888888888,
                            "#fdca26"
                          ],
                          [
                            1,
                            "#f0f921"
                          ]
                        ],
                        "type": "heatmap"
                      }
                    ],
                    "heatmapgl": [
                      {
                        "colorbar": {
                          "outlinewidth": 0,
                          "ticks": ""
                        },
                        "colorscale": [
                          [
                            0,
                            "#0d0887"
                          ],
                          [
                            0.1111111111111111,
                            "#46039f"
                          ],
                          [
                            0.2222222222222222,
                            "#7201a8"
                          ],
                          [
                            0.3333333333333333,
                            "#9c179e"
                          ],
                          [
                            0.4444444444444444,
                            "#bd3786"
                          ],
                          [
                            0.5555555555555556,
                            "#d8576b"
                          ],
                          [
                            0.6666666666666666,
                            "#ed7953"
                          ],
                          [
                            0.7777777777777778,
                            "#fb9f3a"
                          ],
                          [
                            0.8888888888888888,
                            "#fdca26"
                          ],
                          [
                            1,
                            "#f0f921"
                          ]
                        ],
                        "type": "heatmapgl"
                      }
                    ],
                    "histogram": [
                      {
                        "marker": {
                          "pattern": {
                            "fillmode": "overlay",
                            "size": 10,
                            "solidity": 0.2
                          }
                        },
                        "type": "histogram"
                      }
                    ],
                    "histogram2d": [
                      {
                        "colorbar": {
                          "outlinewidth": 0,
                          "ticks": ""
                        },
                        "colorscale": [
                          [
                            0,
                            "#0d0887"
                          ],
                          [
                            0.1111111111111111,
                            "#46039f"
                          ],
                          [
                            0.2222222222222222,
                            "#7201a8"
                          ],
                          [
                            0.3333333333333333,
                            "#9c179e"
                          ],
                          [
                            0.4444444444444444,
                            "#bd3786"
                          ],
                          [
                            0.5555555555555556,
                            "#d8576b"
                          ],
                          [
                            0.6666666666666666,
                            "#ed7953"
                          ],
                          [
                            0.7777777777777778,
                            "#fb9f3a"
                          ],
                          [
                            0.8888888888888888,
                            "#fdca26"
                          ],
                          [
                            1,
                            "#f0f921"
                          ]
                        ],
                        "type": "histogram2d"
                      }
                    ],
                    "histogram2dcontour": [
                      {
                        "colorbar": {
                          "outlinewidth": 0,
                          "ticks": ""
                        },
                        "colorscale": [
                          [
                            0,
                            "#0d0887"
                          ],
                          [
                            0.1111111111111111,
                            "#46039f"
                          ],
                          [
                            0.2222222222222222,
                            "#7201a8"
                          ],
                          [
                            0.3333333333333333,
                            "#9c179e"
                          ],
                          [
                            0.4444444444444444,
                            "#bd3786"
                          ],
                          [
                            0.5555555555555556,
                            "#d8576b"
                          ],
                          [
                            0.6666666666666666,
                            "#ed7953"
                          ],
                          [
                            0.7777777777777778,
                            "#fb9f3a"
                          ],
                          [
                            0.8888888888888888,
                            "#fdca26"
                          ],
                          [
                            1,
                            "#f0f921"
                          ]
                        ],
                        "type": "histogram2dcontour"
                      }
                    ],
                    "mesh3d": [
                      {
                        "colorbar": {
                          "outlinewidth": 0,
                          "ticks": ""
                        },
                        "type": "mesh3d"
                      }
                    ],
                    "parcoords": [
                      {
                        "line": {
                          "colorbar": {
                            "outlinewidth": 0,
                            "ticks": ""
                          }
                        },
                        "type": "parcoords"
                      }
                    ],
                    "pie": [
                      {
                        "automargin": true,
                        "type": "pie"
                      }
                    ],
                    "scatter": [
                      {
                        "fillpattern": {
                          "fillmode": "overlay",
                          "size": 10,
                          "solidity": 0.2
                        },
                        "type": "scatter"
                      }
                    ],
                    "scatter3d": [
                      {
                        "line": {
                          "colorbar": {
                            "outlinewidth": 0,
                            "ticks": ""
                          }
                        },
                        "marker": {
                          "colorbar": {
                            "outlinewidth": 0,
                            "ticks": ""
                          }
                        },
                        "type": "scatter3d"
                      }
                    ],
                    "scattercarpet": [
                      {
                        "marker": {
                          "colorbar": {
                            "outlinewidth": 0,
                            "ticks": ""
                          }
                        },
                        "type": "scattercarpet"
                      }
                    ],
                    "scattergeo": [
                      {
                        "marker": {
                          "colorbar": {
                            "outlinewidth": 0,
                            "ticks": ""
                          }
                        },
                        "type": "scattergeo"
                      }
                    ],
                    "scattergl": [
                      {
                        "marker": {
                          "colorbar": {
                            "outlinewidth": 0,
                            "ticks": ""
                          }
                        },
                        "type": "scattergl"
                      }
                    ],
                    "scattermapbox": [
                      {
                        "marker": {
                          "colorbar": {
                            "outlinewidth": 0,
                            "ticks": ""
                          }
                        },
                        "type": "scattermapbox"
                      }
                    ],
                    "scatterpolar": [
                      {
                        "marker": {
                          "colorbar": {
                            "outlinewidth": 0,
                            "ticks": ""
                          }
                        },
                        "type": "scatterpolar"
                      }
                    ],
                    "scatterpolargl": [
                      {
                        "marker": {
                          "colorbar": {
                            "outlinewidth": 0,
                            "ticks": ""
                          }
                        },
                        "type": "scatterpolargl"
                      }
                    ],
                    "scatterternary": [
                      {
                        "marker": {
                          "colorbar": {
                            "outlinewidth": 0,
                            "ticks": ""
                          }
                        },
                        "type": "scatterternary"
                      }
                    ],
                    "surface": [
                      {
                        "colorbar": {
                          "outlinewidth": 0,
                          "ticks": ""
                        },
                        "colorscale": [
                          [
                            0,
                            "#0d0887"
                          ],
                          [
                            0.1111111111111111,
                            "#46039f"
                          ],
                          [
                            0.2222222222222222,
                            "#7201a8"
                          ],
                          [
                            0.3333333333333333,
                            "#9c179e"
                          ],
                          [
                            0.4444444444444444,
                            "#bd3786"
                          ],
                          [
                            0.5555555555555556,
                            "#d8576b"
                          ],
                          [
                            0.6666666666666666,
                            "#ed7953"
                          ],
                          [
                            0.7777777777777778,
                            "#fb9f3a"
                          ],
                          [
                            0.8888888888888888,
                            "#fdca26"
                          ],
                          [
                            1,
                            "#f0f921"
                          ]
                        ],
                        "type": "surface"
                      }
                    ],
                    "table": [
                      {
                        "cells": {
                          "fill": {
                            "color": "#EBF0F8"
                          },
                          "line": {
                            "color": "white"
                          }
                        },
                        "header": {
                          "fill": {
                            "color": "#C8D4E3"
                          },
                          "line": {
                            "color": "white"
                          }
                        },
                        "type": "table"
                      }
                    ]
                  },
                  "layout": {
                    "annotationdefaults": {
                      "arrowcolor": "#2a3f5f",
                      "arrowhead": 0,
                      "arrowwidth": 1
                    },
                    "autotypenumbers": "strict",
                    "coloraxis": {
                      "colorbar": {
                        "outlinewidth": 0,
                        "ticks": ""
                      }
                    },
                    "colorscale": {
                      "diverging": [
                        [
                          0,
                          "#8e0152"
                        ],
                        [
                          0.1,
                          "#c51b7d"
                        ],
                        [
                          0.2,
                          "#de77ae"
                        ],
                        [
                          0.3,
                          "#f1b6da"
                        ],
                        [
                          0.4,
                          "#fde0ef"
                        ],
                        [
                          0.5,
                          "#f7f7f7"
                        ],
                        [
                          0.6,
                          "#e6f5d0"
                        ],
                        [
                          0.7,
                          "#b8e186"
                        ],
                        [
                          0.8,
                          "#7fbc41"
                        ],
                        [
                          0.9,
                          "#4d9221"
                        ],
                        [
                          1,
                          "#276419"
                        ]
                      ],
                      "sequential": [
                        [
                          0,
                          "#0d0887"
                        ],
                        [
                          0.1111111111111111,
                          "#46039f"
                        ],
                        [
                          0.2222222222222222,
                          "#7201a8"
                        ],
                        [
                          0.3333333333333333,
                          "#9c179e"
                        ],
                        [
                          0.4444444444444444,
                          "#bd3786"
                        ],
                        [
                          0.5555555555555556,
                          "#d8576b"
                        ],
                        [
                          0.6666666666666666,
                          "#ed7953"
                        ],
                        [
                          0.7777777777777778,
                          "#fb9f3a"
                        ],
                        [
                          0.8888888888888888,
                          "#fdca26"
                        ],
                        [
                          1,
                          "#f0f921"
                        ]
                      ],
                      "sequentialminus": [
                        [
                          0,
                          "#0d0887"
                        ],
                        [
                          0.1111111111111111,
                          "#46039f"
                        ],
                        [
                          0.2222222222222222,
                          "#7201a8"
                        ],
                        [
                          0.3333333333333333,
                          "#9c179e"
                        ],
                        [
                          0.4444444444444444,
                          "#bd3786"
                        ],
                        [
                          0.5555555555555556,
                          "#d8576b"
                        ],
                        [
                          0.6666666666666666,
                          "#ed7953"
                        ],
                        [
                          0.7777777777777778,
                          "#fb9f3a"
                        ],
                        [
                          0.8888888888888888,
                          "#fdca26"
                        ],
                        [
                          1,
                          "#f0f921"
                        ]
                      ]
                    },
                    "colorway": [
                      "#636efa",
                      "#EF553B",
                      "#00cc96",
                      "#ab63fa",
                      "#FFA15A",
                      "#19d3f3",
                      "#FF6692",
                      "#B6E880",
                      "#FF97FF",
                      "#FECB52"
                    ],
                    "font": {
                      "color": "#2a3f5f"
                    },
                    "geo": {
                      "bgcolor": "white",
                      "lakecolor": "white",
                      "landcolor": "#E5ECF6",
                      "showlakes": true,
                      "showland": true,
                      "subunitcolor": "white"
                    },
                    "hoverlabel": {
                      "align": "left"
                    },
                    "hovermode": "closest",
                    "mapbox": {
                      "style": "light"
                    },
                    "paper_bgcolor": "white",
                    "plot_bgcolor": "#E5ECF6",
                    "polar": {
                      "angularaxis": {
                        "gridcolor": "white",
                        "linecolor": "white",
                        "ticks": ""
                      },
                      "bgcolor": "#E5ECF6",
                      "radialaxis": {
                        "gridcolor": "white",
                        "linecolor": "white",
                        "ticks": ""
                      }
                    },
                    "scene": {
                      "xaxis": {
                        "backgroundcolor": "#E5ECF6",
                        "gridcolor": "white",
                        "gridwidth": 2,
                        "linecolor": "white",
                        "showbackground": true,
                        "ticks": "",
                        "zerolinecolor": "white"
                      },
                      "yaxis": {
                        "backgroundcolor": "#E5ECF6",
                        "gridcolor": "white",
                        "gridwidth": 2,
                        "linecolor": "white",
                        "showbackground": true,
                        "ticks": "",
                        "zerolinecolor": "white"
                      },
                      "zaxis": {
                        "backgroundcolor": "#E5ECF6",
                        "gridcolor": "white",
                        "gridwidth": 2,
                        "linecolor": "white",
                        "showbackground": true,
                        "ticks": "",
                        "zerolinecolor": "white"
                      }
                    },
                    "shapedefaults": {
                      "line": {
                        "color": "#2a3f5f"
                      }
                    },
                    "ternary": {
                      "aaxis": {
                        "gridcolor": "white",
                        "linecolor": "white",
                        "ticks": ""
                      },
                      "baxis": {
                        "gridcolor": "white",
                        "linecolor": "white",
                        "ticks": ""
                      },
                      "bgcolor": "#E5ECF6",
                      "caxis": {
                        "gridcolor": "white",
                        "linecolor": "white",
                        "ticks": ""
                      }
                    },
                    "title": {
                      "x": 0.05
                    },
                    "xaxis": {
                      "automargin": true,
                      "gridcolor": "white",
                      "linecolor": "white",
                      "ticks": "",
                      "title": {
                        "standoff": 15
                      },
                      "zerolinecolor": "white",
                      "zerolinewidth": 2
                    },
                    "yaxis": {
                      "automargin": true,
                      "gridcolor": "white",
                      "linecolor": "white",
                      "ticks": "",
                      "title": {
                        "standoff": 15
                      },
                      "zerolinecolor": "white",
                      "zerolinewidth": 2
                    }
                  }
                },
                "xaxis": {
                  "anchor": "y",
                  "domain": [
                    0,
                    1
                  ],
                  "title": {
                    "text": "Organisation"
                  }
                },
                "yaxis": {
                  "anchor": "x",
                  "domain": [
                    0,
                    1
                  ],
                  "title": {
                    "text": "Price"
                  }
                }
              }
            }
          },
          "metadata": {},
          "output_type": "display_data"
        }
      ],
      "source": [
        "fig = px.bar(df_money_spent_by_org,\n",
        "             df_money_spent_by_org[\"Organisation\"],\n",
        "             df_money_spent_by_org[\"Price\"])\n",
        "\n",
        "fig.show()"
      ]
    },
    {
      "cell_type": "markdown",
      "metadata": {
        "id": "DpsWkPxzpPXs"
      },
      "source": [
        "## Analyse the Amount of Money Spent by Organisation per Launch"
      ]
    },
    {
      "cell_type": "code",
      "execution_count": null,
      "metadata": {
        "id": "opYJ6GiRpTk5"
      },
      "outputs": [],
      "source": []
    },
    {
      "cell_type": "code",
      "execution_count": null,
      "metadata": {
        "id": "VEkHzAk2pTvj"
      },
      "outputs": [],
      "source": []
    },
    {
      "cell_type": "code",
      "execution_count": null,
      "metadata": {
        "id": "R5rFf501pKXD"
      },
      "outputs": [],
      "source": []
    },
    {
      "cell_type": "markdown",
      "metadata": {
        "id": "yRa1BbPoa-qf",
        "papermill": {
          "duration": 0.042662,
          "end_time": "2020-10-20T21:34:09.943196",
          "exception": false,
          "start_time": "2020-10-20T21:34:09.900534",
          "status": "completed"
        },
        "tags": []
      },
      "source": [
        "## Chart the Number of Launches per Year"
      ]
    },
    {
      "cell_type": "code",
      "execution_count": 38,
      "metadata": {},
      "outputs": [
        {
          "data": {
            "text/plain": [
              "0       Fri Aug 07, 2020 05:12 UTC\n",
              "1       Thu Aug 06, 2020 04:01 UTC\n",
              "2       Tue Aug 04, 2020 23:57 UTC\n",
              "3       Thu Jul 30, 2020 21:25 UTC\n",
              "4       Thu Jul 30, 2020 11:50 UTC\n",
              "                   ...            \n",
              "4319    Wed Feb 05, 1958 07:33 UTC\n",
              "4320    Sat Feb 01, 1958 03:48 UTC\n",
              "4321    Fri Dec 06, 1957 16:44 UTC\n",
              "4322    Sun Nov 03, 1957 02:30 UTC\n",
              "4323    Fri Oct 04, 1957 19:28 UTC\n",
              "Name: Date, Length: 4323, dtype: object"
            ]
          },
          "execution_count": 38,
          "metadata": {},
          "output_type": "execute_result"
        }
      ],
      "source": [
        "df_data[\"Date\"]"
      ]
    },
    {
      "cell_type": "code",
      "execution_count": 39,
      "metadata": {},
      "outputs": [
        {
          "data": {
            "text/plain": [
              "0       2020-08-07 05:12:00+00:00\n",
              "1       2020-08-06 04:01:00+00:00\n",
              "2       2020-08-04 23:57:00+00:00\n",
              "3       2020-07-30 21:25:00+00:00\n",
              "4       2020-07-30 11:50:00+00:00\n",
              "                  ...            \n",
              "4319    1958-02-05 07:33:00+00:00\n",
              "4320    1958-02-01 03:48:00+00:00\n",
              "4321    1957-12-06 16:44:00+00:00\n",
              "4322    1957-11-03 02:30:00+00:00\n",
              "4323    1957-10-04 19:28:00+00:00\n",
              "Name: Date, Length: 4323, dtype: object"
            ]
          },
          "execution_count": 39,
          "metadata": {},
          "output_type": "execute_result"
        }
      ],
      "source": [
        "pd.to_datetime(df_data[\"Date\"])\n",
        "# Notice that the dtype is still object so we have to convert it another way"
      ]
    },
    {
      "cell_type": "code",
      "execution_count": 40,
      "metadata": {
        "id": "b2pggcZBpb4x"
      },
      "outputs": [
        {
          "data": {
            "text/plain": [
              "1957      3\n",
              "1958     28\n",
              "1959     20\n",
              "1960     39\n",
              "1961     52\n",
              "       ... \n",
              "2016     90\n",
              "2017     92\n",
              "2018    117\n",
              "2019    109\n",
              "2020     63\n",
              "Name: Date, Length: 64, dtype: int64"
            ]
          },
          "execution_count": 40,
          "metadata": {},
          "output_type": "execute_result"
        }
      ],
      "source": [
        "no_of_launches_per_year = df_data[\"Date\"].apply(pd.to_datetime, utc=True)\n",
        "\n",
        "no_of_launches_per_year = no_of_launches_per_year.dt.year.value_counts().sort_index(ascending=True)\n",
        "\n",
        "no_of_launches_per_year"
      ]
    },
    {
      "cell_type": "code",
      "execution_count": 41,
      "metadata": {},
      "outputs": [
        {
          "data": {
            "image/png": "[encoded data removed]",
            "text/plain": [
              "<Figure size 1600x900 with 1 Axes>"
            ]
          },
          "metadata": {},
          "output_type": "display_data"
        }
      ],
      "source": [
        "plt.figure(figsize=(16, 9))\n",
        "\n",
        "plt.xlabel(\"Year\", fontsize=20)\n",
        "plt.ylabel(\"No of launches\", fontsize=20)\n",
        "\n",
        "plt.title(\"Number of Launches per Year\", fontsize=24)\n",
        "\n",
        "# # Add values inside the bars\n",
        "# for index, value in enumerate(no_of_launches_per_year):\n",
        "#     plt.text(x=value, y=index, s=value, ha='left', va='center')\n",
        "\n",
        "plt.bar(no_of_launches_per_year.index, no_of_launches_per_year.values)\n",
        "\n",
        "plt.show()"
      ]
    },
    {
      "cell_type": "markdown",
      "metadata": {
        "id": "NomJVLi3tIaM"
      },
      "source": [
        "## Chart the Number of Launches Month-on-Month until the Present"
      ]
    },
    {
      "cell_type": "markdown",
      "metadata": {},
      "source": [
        "Which month has seen the highest number of launches in all time? Superimpose a rolling average on the month on month time series chart. "
      ]
    },
    {
      "cell_type": "code",
      "execution_count": null,
      "metadata": {
        "id": "H1N2aBs5tH9z"
      },
      "outputs": [],
      "source": []
    },
    {
      "cell_type": "code",
      "execution_count": null,
      "metadata": {
        "id": "pfw0aX1lpdRv"
      },
      "outputs": [],
      "source": []
    },
    {
      "cell_type": "markdown",
      "metadata": {
        "id": "t-avMIZoa-qh",
        "papermill": {
          "duration": 0.044409,
          "end_time": "2020-10-20T21:34:10.162592",
          "exception": false,
          "start_time": "2020-10-20T21:34:10.118183",
          "status": "completed"
        },
        "tags": []
      },
      "source": [
        "## Launches per Month: Which months are most popular and least popular for launches?"
      ]
    },
    {
      "cell_type": "markdown",
      "metadata": {},
      "source": [
        "Some months have better weather than others. Which time of year seems to be best for space missions?"
      ]
    },
    {
      "cell_type": "code",
      "execution_count": null,
      "metadata": {
        "id": "zmtp5uBHppFG"
      },
      "outputs": [],
      "source": []
    },
    {
      "cell_type": "code",
      "execution_count": null,
      "metadata": {
        "id": "fnk2m_cpppJo"
      },
      "outputs": [],
      "source": []
    },
    {
      "cell_type": "markdown",
      "metadata": {
        "id": "dPQ_N_sfa-qo",
        "papermill": {
          "duration": 0.067915,
          "end_time": "2020-10-20T21:34:11.122539",
          "exception": false,
          "start_time": "2020-10-20T21:34:11.054624",
          "status": "completed"
        },
        "tags": []
      },
      "source": [
        "## How has the Launch Price varied Over Time? "
      ]
    },
    {
      "cell_type": "markdown",
      "metadata": {},
      "source": [
        "Create a line chart that shows the average price of rocket launches over time. "
      ]
    },
    {
      "cell_type": "code",
      "execution_count": null,
      "metadata": {
        "id": "hFc-2M5-qCrv"
      },
      "outputs": [],
      "source": []
    },
    {
      "cell_type": "code",
      "execution_count": null,
      "metadata": {
        "id": "ggYFiAsEqC6J"
      },
      "outputs": [],
      "source": []
    },
    {
      "cell_type": "markdown",
      "metadata": {
        "id": "8OYrWyiOa-qs",
        "papermill": {
          "duration": 0.047152,
          "end_time": "2020-10-20T21:34:11.681371",
          "exception": false,
          "start_time": "2020-10-20T21:34:11.634219",
          "status": "completed"
        },
        "tags": []
      },
      "source": [
        "## Chart the Number of Launches over Time by the Top 10 Organisations. "
      ]
    },
    {
      "cell_type": "markdown",
      "metadata": {},
      "source": [
        "How has the dominance of launches changed over time between the different players? "
      ]
    },
    {
      "cell_type": "code",
      "execution_count": null,
      "metadata": {
        "id": "RcsrPPpAqVFj"
      },
      "outputs": [],
      "source": []
    },
    {
      "cell_type": "code",
      "execution_count": null,
      "metadata": {
        "id": "1IgfafiyqWEe"
      },
      "outputs": [],
      "source": []
    },
    {
      "cell_type": "code",
      "execution_count": null,
      "metadata": {
        "id": "akCDKT8CqVjG"
      },
      "outputs": [],
      "source": []
    },
    {
      "cell_type": "markdown",
      "metadata": {
        "id": "6Cm8_ch6a-q7",
        "papermill": {
          "duration": 0.052399,
          "end_time": "2020-10-20T21:34:13.756781",
          "exception": false,
          "start_time": "2020-10-20T21:34:13.704382",
          "status": "completed"
        },
        "tags": []
      },
      "source": [
        "## Cold War Space Race: USA vs USSR"
      ]
    },
    {
      "cell_type": "markdown",
      "metadata": {},
      "source": [
        "The cold war lasted from the start of the dataset up until 1991. "
      ]
    },
    {
      "cell_type": "code",
      "execution_count": null,
      "metadata": {
        "id": "AcE_U8csrICL"
      },
      "outputs": [],
      "source": []
    },
    {
      "cell_type": "code",
      "execution_count": null,
      "metadata": {
        "id": "cOe_t4OmrHr9"
      },
      "outputs": [],
      "source": []
    },
    {
      "cell_type": "markdown",
      "metadata": {
        "id": "Os-3A5vLa-q9",
        "papermill": {
          "duration": 0.054318,
          "end_time": "2020-10-20T21:34:14.089604",
          "exception": false,
          "start_time": "2020-10-20T21:34:14.035286",
          "status": "completed"
        },
        "tags": []
      },
      "source": [
        "## Create a Plotly Pie Chart comparing the total number of launches of the USSR and the USA"
      ]
    },
    {
      "cell_type": "markdown",
      "metadata": {},
      "source": [
        "Hint: Remember to include former Soviet Republics like Kazakhstan when analysing the total number of launches. "
      ]
    },
    {
      "cell_type": "code",
      "execution_count": null,
      "metadata": {
        "id": "1irc6_W9rD59"
      },
      "outputs": [],
      "source": []
    },
    {
      "cell_type": "code",
      "execution_count": null,
      "metadata": {
        "id": "OhhuLQycrEE-"
      },
      "outputs": [],
      "source": []
    },
    {
      "cell_type": "markdown",
      "metadata": {
        "id": "0C29Zz4xa-rA",
        "papermill": {
          "duration": 0.052921,
          "end_time": "2020-10-20T21:34:14.340085",
          "exception": false,
          "start_time": "2020-10-20T21:34:14.287164",
          "status": "completed"
        },
        "tags": []
      },
      "source": [
        "## Create a Chart that Shows the Total Number of Launches Year-On-Year by the Two Superpowers"
      ]
    },
    {
      "cell_type": "code",
      "execution_count": null,
      "metadata": {
        "id": "9ISKvOiCrS73"
      },
      "outputs": [],
      "source": []
    },
    {
      "cell_type": "code",
      "execution_count": null,
      "metadata": {
        "id": "oCc7VTzGrTK-"
      },
      "outputs": [],
      "source": []
    },
    {
      "cell_type": "markdown",
      "metadata": {
        "id": "eWv4iZmra-rE",
        "papermill": {
          "duration": 0.079311,
          "end_time": "2020-10-20T21:34:14.933058",
          "exception": false,
          "start_time": "2020-10-20T21:34:14.853747",
          "status": "completed"
        },
        "tags": []
      },
      "source": [
        "## Chart the Total Number of Mission Failures Year on Year."
      ]
    },
    {
      "cell_type": "code",
      "execution_count": null,
      "metadata": {
        "id": "I-Zss5-Mre-4"
      },
      "outputs": [],
      "source": []
    },
    {
      "cell_type": "code",
      "execution_count": null,
      "metadata": {
        "id": "7Ps9Iq_crfYl"
      },
      "outputs": [],
      "source": []
    },
    {
      "cell_type": "markdown",
      "metadata": {
        "id": "XNp-NkrJriEF"
      },
      "source": [
        "## Chart the Percentage of Failures over Time\n",
        "\n",
        "Did failures go up or down over time? Did the countries get better at minimising risk and improving their chances of success over time? "
      ]
    },
    {
      "cell_type": "code",
      "execution_count": null,
      "metadata": {
        "id": "Kj3-zsI0rhOS"
      },
      "outputs": [],
      "source": []
    },
    {
      "cell_type": "code",
      "execution_count": null,
      "metadata": {
        "id": "nxnnzx89rwvH"
      },
      "outputs": [],
      "source": []
    },
    {
      "cell_type": "code",
      "execution_count": null,
      "metadata": {
        "id": "_TPWaaJ5r1Fz"
      },
      "outputs": [],
      "source": []
    },
    {
      "cell_type": "markdown",
      "metadata": {
        "id": "S5aOC7bGr2OX"
      },
      "source": [
        "## For Every Year Show which Country was in the Lead in terms of Total Number of Launches up to and including 2020"
      ]
    },
    {
      "cell_type": "markdown",
      "metadata": {},
      "source": [
        "Do the results change if we only look at the number of successful launches? "
      ]
    },
    {
      "cell_type": "code",
      "execution_count": null,
      "metadata": {
        "id": "_h0grIXKsOz_"
      },
      "outputs": [],
      "source": []
    },
    {
      "cell_type": "code",
      "execution_count": null,
      "metadata": {
        "id": "zgVysedmsOp4"
      },
      "outputs": [],
      "source": []
    },
    {
      "cell_type": "markdown",
      "metadata": {
        "id": "jQcqBfJ8serG"
      },
      "source": [
        "## Create a Year-on-Year Chart Showing the Organisation Doing the Most Number of Launches"
      ]
    },
    {
      "cell_type": "markdown",
      "metadata": {},
      "source": [
        "Which organisation was dominant in the 1970s and 1980s? Which organisation was dominant in 2018, 2019 and 2020? "
      ]
    },
    {
      "cell_type": "code",
      "execution_count": null,
      "metadata": {
        "id": "jc9ImQEWsztG"
      },
      "outputs": [],
      "source": []
    },
    {
      "cell_type": "code",
      "execution_count": null,
      "metadata": {
        "id": "r5frxzwlsz5W"
      },
      "outputs": [],
      "source": []
    },
    {
      "cell_type": "code",
      "execution_count": null,
      "metadata": {
        "id": "8vHKpuc5a-rc",
        "papermill": {
          "duration": 0.092403,
          "end_time": "2020-10-20T21:34:26.709168",
          "exception": false,
          "start_time": "2020-10-20T21:34:26.616765",
          "status": "completed"
        },
        "tags": []
      },
      "outputs": [],
      "source": []
    }
  ],
  "metadata": {
    "colab": {
      "name": "Space Missions Analysis (start).ipynb",
      "provenance": []
    },
    "kernelspec": {
      "display_name": "Python 3",
      "language": "python",
      "name": "python3"
    },
    "language_info": {
      "codemirror_mode": {
        "name": "ipython",
        "version": 3
      },
      "file_extension": ".py",
      "mimetype": "text/x-python",
      "name": "python",
      "nbconvert_exporter": "python",
      "pygments_lexer": "ipython3",
      "version": "3.11.1"
    },
    "papermill": {
      "duration": 28.468597,
      "end_time": "2020-10-20T21:34:26.910951",
      "environment_variables": {},
      "exception": null,
      "input_path": "__notebook__.ipynb",
      "output_path": "__notebook__.ipynb",
      "parameters": {},
      "start_time": "2020-10-20T21:33:58.442354",
      "version": "2.1.0"
    }
  },
  "nbformat": 4,
  "nbformat_minor": 0
}
